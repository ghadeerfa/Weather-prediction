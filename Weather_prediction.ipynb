{
  "cells": [
    {
      "cell_type": "markdown",
      "source": [
        "# Weather Prediction using (Naive Bayes (NB),Logistic Regression (LR),Support Vector Machine (SVM),K-Nearest Neighbors (KNN),Artificial Neural Networks (ANN))"
      ],
      "metadata": {
        "id": "_Qn5nvclaOjI"
      }
    },
    {
      "cell_type": "markdown",
      "metadata": {
        "id": "jbLAL6UUvhZf"
      },
      "source": [
        "# 1- Import library"
      ]
    },
    {
      "cell_type": "code",
      "source": [
        "from google.colab import drive\n",
        "drive.mount('/content/drive')\n"
      ],
      "metadata": {
        "colab": {
          "base_uri": "https://localhost:8080/"
        },
        "id": "MJ4et2RQ-Yo7",
        "outputId": "be2e0fc3-dcae-4a58-8085-88d13c0ee921"
      },
      "execution_count": 9,
      "outputs": [
        {
          "output_type": "stream",
          "name": "stdout",
          "text": [
            "Drive already mounted at /content/drive; to attempt to forcibly remount, call drive.mount(\"/content/drive\", force_remount=True).\n"
          ]
        }
      ]
    },
    {
      "cell_type": "code",
      "execution_count": 10,
      "metadata": {
        "id": "R4UVrrsx2Ct2"
      },
      "outputs": [],
      "source": [
        "import pandas as pd\n",
        "import matplotlib as plt\n",
        "import seaborn as sns\n",
        "import plotly.express as px\n",
        "import warnings\n",
        "warnings.filterwarnings('ignore')\n",
        "from sklearn.model_selection import KFold\n",
        "from sklearn.linear_model import LogisticRegression\n",
        "from sklearn.naive_bayes import GaussianNB\n",
        "from sklearn.neighbors import KNeighborsClassifier\n",
        "from sklearn.model_selection import cross_val_score\n",
        "from sklearn.tree import DecisionTreeClassifier\n",
        "from sklearn.svm import SVC"
      ]
    },
    {
      "cell_type": "markdown",
      "metadata": {
        "id": "fhLQw68DvYWw"
      },
      "source": [
        "# 2- Read weather dataset"
      ]
    },
    {
      "cell_type": "code",
      "execution_count": 11,
      "metadata": {
        "id": "bbbj-AJ4vTNh"
      },
      "outputs": [],
      "source": [
        "#importons le dataset\n",
        "df=pd.read_csv('/content/drive/My Drive/seattle-weather.csv')"
      ]
    },
    {
      "cell_type": "code",
      "execution_count": 12,
      "metadata": {
        "colab": {
          "base_uri": "https://localhost:8080/",
          "height": 206
        },
        "id": "paMwTEGuZyEW",
        "outputId": "0214cff2-8f45-4c20-8c58-9ae4fe0505a0"
      },
      "outputs": [
        {
          "output_type": "execute_result",
          "data": {
            "text/plain": [
              "         date  precipitation  temp_max  temp_min  wind  weather\n",
              "0  2012-01-01            0.0      12.8       5.0   4.7  drizzle\n",
              "1  2012-01-02           10.9      10.6       2.8   4.5     rain\n",
              "2  2012-01-03            0.8      11.7       7.2   2.3     rain\n",
              "3  2012-01-04           20.3      12.2       5.6   4.7     rain\n",
              "4  2012-01-05            1.3       8.9       2.8   6.1     rain"
            ],
            "text/html": [
              "\n",
              "  <div id=\"df-29a55d40-00f9-4ca0-b4ea-497856d8040d\" class=\"colab-df-container\">\n",
              "    <div>\n",
              "<style scoped>\n",
              "    .dataframe tbody tr th:only-of-type {\n",
              "        vertical-align: middle;\n",
              "    }\n",
              "\n",
              "    .dataframe tbody tr th {\n",
              "        vertical-align: top;\n",
              "    }\n",
              "\n",
              "    .dataframe thead th {\n",
              "        text-align: right;\n",
              "    }\n",
              "</style>\n",
              "<table border=\"1\" class=\"dataframe\">\n",
              "  <thead>\n",
              "    <tr style=\"text-align: right;\">\n",
              "      <th></th>\n",
              "      <th>date</th>\n",
              "      <th>precipitation</th>\n",
              "      <th>temp_max</th>\n",
              "      <th>temp_min</th>\n",
              "      <th>wind</th>\n",
              "      <th>weather</th>\n",
              "    </tr>\n",
              "  </thead>\n",
              "  <tbody>\n",
              "    <tr>\n",
              "      <th>0</th>\n",
              "      <td>2012-01-01</td>\n",
              "      <td>0.0</td>\n",
              "      <td>12.8</td>\n",
              "      <td>5.0</td>\n",
              "      <td>4.7</td>\n",
              "      <td>drizzle</td>\n",
              "    </tr>\n",
              "    <tr>\n",
              "      <th>1</th>\n",
              "      <td>2012-01-02</td>\n",
              "      <td>10.9</td>\n",
              "      <td>10.6</td>\n",
              "      <td>2.8</td>\n",
              "      <td>4.5</td>\n",
              "      <td>rain</td>\n",
              "    </tr>\n",
              "    <tr>\n",
              "      <th>2</th>\n",
              "      <td>2012-01-03</td>\n",
              "      <td>0.8</td>\n",
              "      <td>11.7</td>\n",
              "      <td>7.2</td>\n",
              "      <td>2.3</td>\n",
              "      <td>rain</td>\n",
              "    </tr>\n",
              "    <tr>\n",
              "      <th>3</th>\n",
              "      <td>2012-01-04</td>\n",
              "      <td>20.3</td>\n",
              "      <td>12.2</td>\n",
              "      <td>5.6</td>\n",
              "      <td>4.7</td>\n",
              "      <td>rain</td>\n",
              "    </tr>\n",
              "    <tr>\n",
              "      <th>4</th>\n",
              "      <td>2012-01-05</td>\n",
              "      <td>1.3</td>\n",
              "      <td>8.9</td>\n",
              "      <td>2.8</td>\n",
              "      <td>6.1</td>\n",
              "      <td>rain</td>\n",
              "    </tr>\n",
              "  </tbody>\n",
              "</table>\n",
              "</div>\n",
              "    <div class=\"colab-df-buttons\">\n",
              "\n",
              "  <div class=\"colab-df-container\">\n",
              "    <button class=\"colab-df-convert\" onclick=\"convertToInteractive('df-29a55d40-00f9-4ca0-b4ea-497856d8040d')\"\n",
              "            title=\"Convert this dataframe to an interactive table.\"\n",
              "            style=\"display:none;\">\n",
              "\n",
              "  <svg xmlns=\"http://www.w3.org/2000/svg\" height=\"24px\" viewBox=\"0 -960 960 960\">\n",
              "    <path d=\"M120-120v-720h720v720H120Zm60-500h600v-160H180v160Zm220 220h160v-160H400v160Zm0 220h160v-160H400v160ZM180-400h160v-160H180v160Zm440 0h160v-160H620v160ZM180-180h160v-160H180v160Zm440 0h160v-160H620v160Z\"/>\n",
              "  </svg>\n",
              "    </button>\n",
              "\n",
              "  <style>\n",
              "    .colab-df-container {\n",
              "      display:flex;\n",
              "      gap: 12px;\n",
              "    }\n",
              "\n",
              "    .colab-df-convert {\n",
              "      background-color: #E8F0FE;\n",
              "      border: none;\n",
              "      border-radius: 50%;\n",
              "      cursor: pointer;\n",
              "      display: none;\n",
              "      fill: #1967D2;\n",
              "      height: 32px;\n",
              "      padding: 0 0 0 0;\n",
              "      width: 32px;\n",
              "    }\n",
              "\n",
              "    .colab-df-convert:hover {\n",
              "      background-color: #E2EBFA;\n",
              "      box-shadow: 0px 1px 2px rgba(60, 64, 67, 0.3), 0px 1px 3px 1px rgba(60, 64, 67, 0.15);\n",
              "      fill: #174EA6;\n",
              "    }\n",
              "\n",
              "    .colab-df-buttons div {\n",
              "      margin-bottom: 4px;\n",
              "    }\n",
              "\n",
              "    [theme=dark] .colab-df-convert {\n",
              "      background-color: #3B4455;\n",
              "      fill: #D2E3FC;\n",
              "    }\n",
              "\n",
              "    [theme=dark] .colab-df-convert:hover {\n",
              "      background-color: #434B5C;\n",
              "      box-shadow: 0px 1px 3px 1px rgba(0, 0, 0, 0.15);\n",
              "      filter: drop-shadow(0px 1px 2px rgba(0, 0, 0, 0.3));\n",
              "      fill: #FFFFFF;\n",
              "    }\n",
              "  </style>\n",
              "\n",
              "    <script>\n",
              "      const buttonEl =\n",
              "        document.querySelector('#df-29a55d40-00f9-4ca0-b4ea-497856d8040d button.colab-df-convert');\n",
              "      buttonEl.style.display =\n",
              "        google.colab.kernel.accessAllowed ? 'block' : 'none';\n",
              "\n",
              "      async function convertToInteractive(key) {\n",
              "        const element = document.querySelector('#df-29a55d40-00f9-4ca0-b4ea-497856d8040d');\n",
              "        const dataTable =\n",
              "          await google.colab.kernel.invokeFunction('convertToInteractive',\n",
              "                                                    [key], {});\n",
              "        if (!dataTable) return;\n",
              "\n",
              "        const docLinkHtml = 'Like what you see? Visit the ' +\n",
              "          '<a target=\"_blank\" href=https://colab.research.google.com/notebooks/data_table.ipynb>data table notebook</a>'\n",
              "          + ' to learn more about interactive tables.';\n",
              "        element.innerHTML = '';\n",
              "        dataTable['output_type'] = 'display_data';\n",
              "        await google.colab.output.renderOutput(dataTable, element);\n",
              "        const docLink = document.createElement('div');\n",
              "        docLink.innerHTML = docLinkHtml;\n",
              "        element.appendChild(docLink);\n",
              "      }\n",
              "    </script>\n",
              "  </div>\n",
              "\n",
              "\n",
              "<div id=\"df-8971256a-2428-496e-a275-a96ccbc1371f\">\n",
              "  <button class=\"colab-df-quickchart\" onclick=\"quickchart('df-8971256a-2428-496e-a275-a96ccbc1371f')\"\n",
              "            title=\"Suggest charts\"\n",
              "            style=\"display:none;\">\n",
              "\n",
              "<svg xmlns=\"http://www.w3.org/2000/svg\" height=\"24px\"viewBox=\"0 0 24 24\"\n",
              "     width=\"24px\">\n",
              "    <g>\n",
              "        <path d=\"M19 3H5c-1.1 0-2 .9-2 2v14c0 1.1.9 2 2 2h14c1.1 0 2-.9 2-2V5c0-1.1-.9-2-2-2zM9 17H7v-7h2v7zm4 0h-2V7h2v10zm4 0h-2v-4h2v4z\"/>\n",
              "    </g>\n",
              "</svg>\n",
              "  </button>\n",
              "\n",
              "<style>\n",
              "  .colab-df-quickchart {\n",
              "      --bg-color: #E8F0FE;\n",
              "      --fill-color: #1967D2;\n",
              "      --hover-bg-color: #E2EBFA;\n",
              "      --hover-fill-color: #174EA6;\n",
              "      --disabled-fill-color: #AAA;\n",
              "      --disabled-bg-color: #DDD;\n",
              "  }\n",
              "\n",
              "  [theme=dark] .colab-df-quickchart {\n",
              "      --bg-color: #3B4455;\n",
              "      --fill-color: #D2E3FC;\n",
              "      --hover-bg-color: #434B5C;\n",
              "      --hover-fill-color: #FFFFFF;\n",
              "      --disabled-bg-color: #3B4455;\n",
              "      --disabled-fill-color: #666;\n",
              "  }\n",
              "\n",
              "  .colab-df-quickchart {\n",
              "    background-color: var(--bg-color);\n",
              "    border: none;\n",
              "    border-radius: 50%;\n",
              "    cursor: pointer;\n",
              "    display: none;\n",
              "    fill: var(--fill-color);\n",
              "    height: 32px;\n",
              "    padding: 0;\n",
              "    width: 32px;\n",
              "  }\n",
              "\n",
              "  .colab-df-quickchart:hover {\n",
              "    background-color: var(--hover-bg-color);\n",
              "    box-shadow: 0 1px 2px rgba(60, 64, 67, 0.3), 0 1px 3px 1px rgba(60, 64, 67, 0.15);\n",
              "    fill: var(--button-hover-fill-color);\n",
              "  }\n",
              "\n",
              "  .colab-df-quickchart-complete:disabled,\n",
              "  .colab-df-quickchart-complete:disabled:hover {\n",
              "    background-color: var(--disabled-bg-color);\n",
              "    fill: var(--disabled-fill-color);\n",
              "    box-shadow: none;\n",
              "  }\n",
              "\n",
              "  .colab-df-spinner {\n",
              "    border: 2px solid var(--fill-color);\n",
              "    border-color: transparent;\n",
              "    border-bottom-color: var(--fill-color);\n",
              "    animation:\n",
              "      spin 1s steps(1) infinite;\n",
              "  }\n",
              "\n",
              "  @keyframes spin {\n",
              "    0% {\n",
              "      border-color: transparent;\n",
              "      border-bottom-color: var(--fill-color);\n",
              "      border-left-color: var(--fill-color);\n",
              "    }\n",
              "    20% {\n",
              "      border-color: transparent;\n",
              "      border-left-color: var(--fill-color);\n",
              "      border-top-color: var(--fill-color);\n",
              "    }\n",
              "    30% {\n",
              "      border-color: transparent;\n",
              "      border-left-color: var(--fill-color);\n",
              "      border-top-color: var(--fill-color);\n",
              "      border-right-color: var(--fill-color);\n",
              "    }\n",
              "    40% {\n",
              "      border-color: transparent;\n",
              "      border-right-color: var(--fill-color);\n",
              "      border-top-color: var(--fill-color);\n",
              "    }\n",
              "    60% {\n",
              "      border-color: transparent;\n",
              "      border-right-color: var(--fill-color);\n",
              "    }\n",
              "    80% {\n",
              "      border-color: transparent;\n",
              "      border-right-color: var(--fill-color);\n",
              "      border-bottom-color: var(--fill-color);\n",
              "    }\n",
              "    90% {\n",
              "      border-color: transparent;\n",
              "      border-bottom-color: var(--fill-color);\n",
              "    }\n",
              "  }\n",
              "</style>\n",
              "\n",
              "  <script>\n",
              "    async function quickchart(key) {\n",
              "      const quickchartButtonEl =\n",
              "        document.querySelector('#' + key + ' button');\n",
              "      quickchartButtonEl.disabled = true;  // To prevent multiple clicks.\n",
              "      quickchartButtonEl.classList.add('colab-df-spinner');\n",
              "      try {\n",
              "        const charts = await google.colab.kernel.invokeFunction(\n",
              "            'suggestCharts', [key], {});\n",
              "      } catch (error) {\n",
              "        console.error('Error during call to suggestCharts:', error);\n",
              "      }\n",
              "      quickchartButtonEl.classList.remove('colab-df-spinner');\n",
              "      quickchartButtonEl.classList.add('colab-df-quickchart-complete');\n",
              "    }\n",
              "    (() => {\n",
              "      let quickchartButtonEl =\n",
              "        document.querySelector('#df-8971256a-2428-496e-a275-a96ccbc1371f button');\n",
              "      quickchartButtonEl.style.display =\n",
              "        google.colab.kernel.accessAllowed ? 'block' : 'none';\n",
              "    })();\n",
              "  </script>\n",
              "</div>\n",
              "\n",
              "    </div>\n",
              "  </div>\n"
            ],
            "application/vnd.google.colaboratory.intrinsic+json": {
              "type": "dataframe",
              "variable_name": "df",
              "summary": "{\n  \"name\": \"df\",\n  \"rows\": 1461,\n  \"fields\": [\n    {\n      \"column\": \"date\",\n      \"properties\": {\n        \"dtype\": \"object\",\n        \"num_unique_values\": 1461,\n        \"samples\": [\n          \"2014-06-11\",\n          \"2015-01-10\",\n          \"2013-02-17\"\n        ],\n        \"semantic_type\": \"\",\n        \"description\": \"\"\n      }\n    },\n    {\n      \"column\": \"precipitation\",\n      \"properties\": {\n        \"dtype\": \"number\",\n        \"std\": 6.680194322314731,\n        \"min\": 0.0,\n        \"max\": 55.9,\n        \"num_unique_values\": 111,\n        \"samples\": [\n          43.4,\n          8.1,\n          1.3\n        ],\n        \"semantic_type\": \"\",\n        \"description\": \"\"\n      }\n    },\n    {\n      \"column\": \"temp_max\",\n      \"properties\": {\n        \"dtype\": \"number\",\n        \"std\": 7.349758097360185,\n        \"min\": -1.6,\n        \"max\": 35.6,\n        \"num_unique_values\": 67,\n        \"samples\": [\n          25.6,\n          8.3,\n          8.9\n        ],\n        \"semantic_type\": \"\",\n        \"description\": \"\"\n      }\n    },\n    {\n      \"column\": \"temp_min\",\n      \"properties\": {\n        \"dtype\": \"number\",\n        \"std\": 5.023004179961267,\n        \"min\": -7.1,\n        \"max\": 18.3,\n        \"num_unique_values\": 55,\n        \"samples\": [\n          13.3,\n          0.6,\n          14.4\n        ],\n        \"semantic_type\": \"\",\n        \"description\": \"\"\n      }\n    },\n    {\n      \"column\": \"wind\",\n      \"properties\": {\n        \"dtype\": \"number\",\n        \"std\": 1.4378250588746244,\n        \"min\": 0.4,\n        \"max\": 9.5,\n        \"num_unique_values\": 79,\n        \"samples\": [\n          8.1,\n          4.7,\n          2.6\n        ],\n        \"semantic_type\": \"\",\n        \"description\": \"\"\n      }\n    },\n    {\n      \"column\": \"weather\",\n      \"properties\": {\n        \"dtype\": \"category\",\n        \"num_unique_values\": 5,\n        \"samples\": [\n          \"rain\",\n          \"fog\",\n          \"sun\"\n        ],\n        \"semantic_type\": \"\",\n        \"description\": \"\"\n      }\n    }\n  ]\n}"
            }
          },
          "metadata": {},
          "execution_count": 12
        }
      ],
      "source": [
        "df.head()"
      ]
    },
    {
      "cell_type": "markdown",
      "metadata": {
        "id": "O1gVVl3LvyNv"
      },
      "source": [
        "# 3- Understand and Prepare the Data"
      ]
    },
    {
      "cell_type": "code",
      "execution_count": 13,
      "metadata": {
        "colab": {
          "base_uri": "https://localhost:8080/"
        },
        "id": "LPZUuk64ZC3M",
        "outputId": "392409af-3030-4e29-efb3-c0255aa562f7"
      },
      "outputs": [
        {
          "output_type": "stream",
          "name": "stdout",
          "text": [
            "Rows     :  1461\n",
            "Columns  :  6\n",
            "\n",
            "Features : \n",
            " ['date', 'precipitation', 'temp_max', 'temp_min', 'wind', 'weather']\n",
            "\n",
            "Missing values :   0\n",
            "\n",
            "Unique values :  \n",
            " date             1461\n",
            "precipitation     111\n",
            "temp_max           67\n",
            "temp_min           55\n",
            "wind               79\n",
            "weather             5\n",
            "dtype: int64\n"
          ]
        }
      ],
      "source": [
        "\n",
        "print (\"Rows     : \" ,df.shape[0])\n",
        "print (\"Columns  : \" ,df.shape[1])\n",
        "print (\"\\nFeatures : \\n\" ,df.columns.tolist())\n",
        "print (\"\\nMissing values :  \", df.isnull().sum().values.sum())\n",
        "print (\"\\nUnique values :  \\n\",df.nunique())"
      ]
    },
    {
      "cell_type": "code",
      "source": [
        "# Select only numeric columns\n",
        "numeric_df = df.select_dtypes(include=[float, int])\n",
        "\n",
        "# Calculate correlation matrix for numeric columns\n",
        "correlation_matrix = numeric_df.corr()\n",
        "\n",
        "# Display the correlation matrix\n",
        "print(correlation_matrix)\n"
      ],
      "metadata": {
        "colab": {
          "base_uri": "https://localhost:8080/"
        },
        "id": "Bnnma7oMAIME",
        "outputId": "8594d698-bd96-43ef-8420-df4197a03224"
      },
      "execution_count": 14,
      "outputs": [
        {
          "output_type": "stream",
          "name": "stdout",
          "text": [
            "               precipitation  temp_max  temp_min      wind\n",
            "precipitation       1.000000 -0.228555 -0.072684  0.328045\n",
            "temp_max           -0.228555  1.000000  0.875687 -0.164857\n",
            "temp_min           -0.072684  0.875687  1.000000 -0.074185\n",
            "wind                0.328045 -0.164857 -0.074185  1.000000\n"
          ]
        }
      ]
    },
    {
      "cell_type": "code",
      "execution_count": 15,
      "metadata": {
        "colab": {
          "base_uri": "https://localhost:8080/"
        },
        "id": "KnoCmwMh-EVC",
        "outputId": "7d0494e5-b82d-43d6-b30e-cffe5d164194"
      },
      "outputs": [
        {
          "output_type": "execute_result",
          "data": {
            "text/plain": [
              "array(['drizzle', 'rain', 'sun', 'snow', 'fog'], dtype=object)"
            ]
          },
          "metadata": {},
          "execution_count": 15
        }
      ],
      "source": [
        "df[\"weather\"].unique()"
      ]
    },
    {
      "cell_type": "code",
      "execution_count": 16,
      "metadata": {
        "colab": {
          "base_uri": "https://localhost:8080/"
        },
        "id": "DSZVkEzuVQpZ",
        "outputId": "114ee7e2-7ff2-4859-ea4d-0a9668e039c2"
      },
      "outputs": [
        {
          "output_type": "stream",
          "name": "stdout",
          "text": [
            "<class 'pandas.core.frame.DataFrame'>\n",
            "RangeIndex: 1461 entries, 0 to 1460\n",
            "Data columns (total 6 columns):\n",
            " #   Column         Non-Null Count  Dtype  \n",
            "---  ------         --------------  -----  \n",
            " 0   date           1461 non-null   object \n",
            " 1   precipitation  1461 non-null   float64\n",
            " 2   temp_max       1461 non-null   float64\n",
            " 3   temp_min       1461 non-null   float64\n",
            " 4   wind           1461 non-null   float64\n",
            " 5   weather        1461 non-null   object \n",
            "dtypes: float64(4), object(2)\n",
            "memory usage: 68.6+ KB\n"
          ]
        }
      ],
      "source": [
        "df.info()"
      ]
    },
    {
      "cell_type": "code",
      "execution_count": 17,
      "metadata": {
        "colab": {
          "base_uri": "https://localhost:8080/"
        },
        "id": "3D0E-2bhVZff",
        "outputId": "99295a52-a9ae-41dc-eb21-d157eb7939e6"
      },
      "outputs": [
        {
          "output_type": "execute_result",
          "data": {
            "text/plain": [
              "array(['drizzle', 'rain', 'sun', 'snow', 'fog'], dtype=object)"
            ]
          },
          "metadata": {},
          "execution_count": 17
        }
      ],
      "source": [
        "df[\"weather\"].unique()"
      ]
    },
    {
      "cell_type": "code",
      "execution_count": 18,
      "metadata": {
        "colab": {
          "base_uri": "https://localhost:8080/",
          "height": 272
        },
        "id": "pCvROCXYVdF4",
        "outputId": "84670e21-e8fc-402b-d27f-37c53520107e"
      },
      "outputs": [
        {
          "output_type": "execute_result",
          "data": {
            "text/plain": [
              "date             1461\n",
              "precipitation     111\n",
              "temp_max           67\n",
              "temp_min           55\n",
              "wind               79\n",
              "weather             5\n",
              "dtype: int64"
            ],
            "text/html": [
              "<div>\n",
              "<style scoped>\n",
              "    .dataframe tbody tr th:only-of-type {\n",
              "        vertical-align: middle;\n",
              "    }\n",
              "\n",
              "    .dataframe tbody tr th {\n",
              "        vertical-align: top;\n",
              "    }\n",
              "\n",
              "    .dataframe thead th {\n",
              "        text-align: right;\n",
              "    }\n",
              "</style>\n",
              "<table border=\"1\" class=\"dataframe\">\n",
              "  <thead>\n",
              "    <tr style=\"text-align: right;\">\n",
              "      <th></th>\n",
              "      <th>0</th>\n",
              "    </tr>\n",
              "  </thead>\n",
              "  <tbody>\n",
              "    <tr>\n",
              "      <th>date</th>\n",
              "      <td>1461</td>\n",
              "    </tr>\n",
              "    <tr>\n",
              "      <th>precipitation</th>\n",
              "      <td>111</td>\n",
              "    </tr>\n",
              "    <tr>\n",
              "      <th>temp_max</th>\n",
              "      <td>67</td>\n",
              "    </tr>\n",
              "    <tr>\n",
              "      <th>temp_min</th>\n",
              "      <td>55</td>\n",
              "    </tr>\n",
              "    <tr>\n",
              "      <th>wind</th>\n",
              "      <td>79</td>\n",
              "    </tr>\n",
              "    <tr>\n",
              "      <th>weather</th>\n",
              "      <td>5</td>\n",
              "    </tr>\n",
              "  </tbody>\n",
              "</table>\n",
              "</div><br><label><b>dtype:</b> int64</label>"
            ]
          },
          "metadata": {},
          "execution_count": 18
        }
      ],
      "source": [
        "# get unique value count in each columns\n",
        "df.nunique()"
      ]
    },
    {
      "cell_type": "code",
      "execution_count": 19,
      "metadata": {
        "colab": {
          "base_uri": "https://localhost:8080/",
          "height": 272
        },
        "id": "X-Kzra-qVjN-",
        "outputId": "df198390-4794-42fd-cb11-60818d4d4673"
      },
      "outputs": [
        {
          "output_type": "execute_result",
          "data": {
            "text/plain": [
              "date             1461\n",
              "precipitation    1461\n",
              "temp_max         1461\n",
              "temp_min         1461\n",
              "wind             1461\n",
              "weather          1461\n",
              "dtype: int64"
            ],
            "text/html": [
              "<div>\n",
              "<style scoped>\n",
              "    .dataframe tbody tr th:only-of-type {\n",
              "        vertical-align: middle;\n",
              "    }\n",
              "\n",
              "    .dataframe tbody tr th {\n",
              "        vertical-align: top;\n",
              "    }\n",
              "\n",
              "    .dataframe thead th {\n",
              "        text-align: right;\n",
              "    }\n",
              "</style>\n",
              "<table border=\"1\" class=\"dataframe\">\n",
              "  <thead>\n",
              "    <tr style=\"text-align: right;\">\n",
              "      <th></th>\n",
              "      <th>0</th>\n",
              "    </tr>\n",
              "  </thead>\n",
              "  <tbody>\n",
              "    <tr>\n",
              "      <th>date</th>\n",
              "      <td>1461</td>\n",
              "    </tr>\n",
              "    <tr>\n",
              "      <th>precipitation</th>\n",
              "      <td>1461</td>\n",
              "    </tr>\n",
              "    <tr>\n",
              "      <th>temp_max</th>\n",
              "      <td>1461</td>\n",
              "    </tr>\n",
              "    <tr>\n",
              "      <th>temp_min</th>\n",
              "      <td>1461</td>\n",
              "    </tr>\n",
              "    <tr>\n",
              "      <th>wind</th>\n",
              "      <td>1461</td>\n",
              "    </tr>\n",
              "    <tr>\n",
              "      <th>weather</th>\n",
              "      <td>1461</td>\n",
              "    </tr>\n",
              "  </tbody>\n",
              "</table>\n",
              "</div><br><label><b>dtype:</b> int64</label>"
            ]
          },
          "metadata": {},
          "execution_count": 19
        }
      ],
      "source": [
        "df.count()"
      ]
    },
    {
      "cell_type": "code",
      "execution_count": 20,
      "metadata": {
        "colab": {
          "base_uri": "https://localhost:8080/",
          "height": 272
        },
        "id": "B6wzITlwVpHX",
        "outputId": "8ef07072-7ad1-4549-ff45-4bb69b6f2065"
      },
      "outputs": [
        {
          "output_type": "execute_result",
          "data": {
            "text/plain": [
              "weather\n",
              "rain       641\n",
              "sun        640\n",
              "fog        101\n",
              "drizzle     53\n",
              "snow        26\n",
              "Name: count, dtype: int64"
            ],
            "text/html": [
              "<div>\n",
              "<style scoped>\n",
              "    .dataframe tbody tr th:only-of-type {\n",
              "        vertical-align: middle;\n",
              "    }\n",
              "\n",
              "    .dataframe tbody tr th {\n",
              "        vertical-align: top;\n",
              "    }\n",
              "\n",
              "    .dataframe thead th {\n",
              "        text-align: right;\n",
              "    }\n",
              "</style>\n",
              "<table border=\"1\" class=\"dataframe\">\n",
              "  <thead>\n",
              "    <tr style=\"text-align: right;\">\n",
              "      <th></th>\n",
              "      <th>count</th>\n",
              "    </tr>\n",
              "    <tr>\n",
              "      <th>weather</th>\n",
              "      <th></th>\n",
              "    </tr>\n",
              "  </thead>\n",
              "  <tbody>\n",
              "    <tr>\n",
              "      <th>rain</th>\n",
              "      <td>641</td>\n",
              "    </tr>\n",
              "    <tr>\n",
              "      <th>sun</th>\n",
              "      <td>640</td>\n",
              "    </tr>\n",
              "    <tr>\n",
              "      <th>fog</th>\n",
              "      <td>101</td>\n",
              "    </tr>\n",
              "    <tr>\n",
              "      <th>drizzle</th>\n",
              "      <td>53</td>\n",
              "    </tr>\n",
              "    <tr>\n",
              "      <th>snow</th>\n",
              "      <td>26</td>\n",
              "    </tr>\n",
              "  </tbody>\n",
              "</table>\n",
              "</div><br><label><b>dtype:</b> int64</label>"
            ]
          },
          "metadata": {},
          "execution_count": 20
        }
      ],
      "source": [
        "df.weather.value_counts()"
      ]
    },
    {
      "cell_type": "code",
      "execution_count": 21,
      "metadata": {
        "id": "IMT6CnCOVtxf"
      },
      "outputs": [],
      "source": [
        "df[\"date\"]=pd.to_datetime(df[\"date\"])"
      ]
    },
    {
      "cell_type": "code",
      "execution_count": 22,
      "metadata": {
        "colab": {
          "base_uri": "https://localhost:8080/"
        },
        "id": "od7vbL_rV40n",
        "outputId": "1a9ed6f8-cb65-4275-99f3-23515ea7325f"
      },
      "outputs": [
        {
          "output_type": "stream",
          "name": "stdout",
          "text": [
            "<class 'pandas.core.frame.DataFrame'>\n",
            "RangeIndex: 1461 entries, 0 to 1460\n",
            "Data columns (total 6 columns):\n",
            " #   Column         Non-Null Count  Dtype         \n",
            "---  ------         --------------  -----         \n",
            " 0   date           1461 non-null   datetime64[ns]\n",
            " 1   precipitation  1461 non-null   float64       \n",
            " 2   temp_max       1461 non-null   float64       \n",
            " 3   temp_min       1461 non-null   float64       \n",
            " 4   wind           1461 non-null   float64       \n",
            " 5   weather        1461 non-null   object        \n",
            "dtypes: datetime64[ns](1), float64(4), object(1)\n",
            "memory usage: 68.6+ KB\n"
          ]
        }
      ],
      "source": [
        "df.info()"
      ]
    },
    {
      "cell_type": "markdown",
      "metadata": {
        "id": "fuHWm611WH-Z"
      },
      "source": [
        "# 4-Visualisation"
      ]
    },
    {
      "cell_type": "code",
      "execution_count": 23,
      "metadata": {
        "colab": {
          "base_uri": "https://localhost:8080/",
          "height": 542
        },
        "id": "BRsbSAYEWW-2",
        "outputId": "db640aab-a5b7-48b2-90a2-4dca20cd9174"
      },
      "outputs": [
        {
          "output_type": "display_data",
          "data": {
            "text/html": [
              "<html>\n",
              "<head><meta charset=\"utf-8\" /></head>\n",
              "<body>\n",
              "    <div>            <script src=\"https://cdnjs.cloudflare.com/ajax/libs/mathjax/2.7.5/MathJax.js?config=TeX-AMS-MML_SVG\"></script><script type=\"text/javascript\">if (window.MathJax && window.MathJax.Hub && window.MathJax.Hub.Config) {window.MathJax.Hub.Config({SVG: {font: \"STIX-Web\"}});}</script>                <script type=\"text/javascript\">window.PlotlyConfig = {MathJaxConfig: 'local'};</script>\n",
              "        <script charset=\"utf-8\" src=\"https://cdn.plot.ly/plotly-2.35.2.min.js\"></script>                <div id=\"d236445c-a5d9-42e2-9be0-541035496de1\" class=\"plotly-graph-div\" style=\"height:525px; width:100%;\"></div>            <script type=\"text/javascript\">                                    window.PLOTLYENV=window.PLOTLYENV || {};                                    if (document.getElementById(\"d236445c-a5d9-42e2-9be0-541035496de1\")) {                    Plotly.newPlot(                        \"d236445c-a5d9-42e2-9be0-541035496de1\",                        [{\"alignmentgroup\":\"True\",\"bingroup\":\"x\",\"hovertemplate\":\"weather=%{x}\\u003cbr\\u003ecount=%{y}\\u003cextra\\u003e\\u003c\\u002fextra\\u003e\",\"legendgroup\":\"drizzle\",\"marker\":{\"color\":\"#636efa\",\"pattern\":{\"shape\":\"\"}},\"name\":\"drizzle\",\"offsetgroup\":\"drizzle\",\"orientation\":\"v\",\"showlegend\":true,\"texttemplate\":\"%{value}\",\"x\":[\"drizzle\",\"drizzle\",\"drizzle\",\"drizzle\",\"drizzle\",\"drizzle\",\"drizzle\",\"drizzle\",\"drizzle\",\"drizzle\",\"drizzle\",\"drizzle\",\"drizzle\",\"drizzle\",\"drizzle\",\"drizzle\",\"drizzle\",\"drizzle\",\"drizzle\",\"drizzle\",\"drizzle\",\"drizzle\",\"drizzle\",\"drizzle\",\"drizzle\",\"drizzle\",\"drizzle\",\"drizzle\",\"drizzle\",\"drizzle\",\"drizzle\",\"drizzle\",\"drizzle\",\"drizzle\",\"drizzle\",\"drizzle\",\"drizzle\",\"drizzle\",\"drizzle\",\"drizzle\",\"drizzle\",\"drizzle\",\"drizzle\",\"drizzle\",\"drizzle\",\"drizzle\",\"drizzle\",\"drizzle\",\"drizzle\",\"drizzle\",\"drizzle\",\"drizzle\",\"drizzle\"],\"xaxis\":\"x\",\"yaxis\":\"y\",\"type\":\"histogram\"},{\"alignmentgroup\":\"True\",\"bingroup\":\"x\",\"hovertemplate\":\"weather=%{x}\\u003cbr\\u003ecount=%{y}\\u003cextra\\u003e\\u003c\\u002fextra\\u003e\",\"legendgroup\":\"rain\",\"marker\":{\"color\":\"#EF553B\",\"pattern\":{\"shape\":\"\"}},\"name\":\"rain\",\"offsetgroup\":\"rain\",\"orientation\":\"v\",\"showlegend\":true,\"texttemplate\":\"%{value}\",\"x\":[\"rain\",\"rain\",\"rain\",\"rain\",\"rain\",\"rain\",\"rain\",\"rain\",\"rain\",\"rain\",\"rain\",\"rain\",\"rain\",\"rain\",\"rain\",\"rain\",\"rain\",\"rain\",\"rain\",\"rain\",\"rain\",\"rain\",\"rain\",\"rain\",\"rain\",\"rain\",\"rain\",\"rain\",\"rain\",\"rain\",\"rain\",\"rain\",\"rain\",\"rain\",\"rain\",\"rain\",\"rain\",\"rain\",\"rain\",\"rain\",\"rain\",\"rain\",\"rain\",\"rain\",\"rain\",\"rain\",\"rain\",\"rain\",\"rain\",\"rain\",\"rain\",\"rain\",\"rain\",\"rain\",\"rain\",\"rain\",\"rain\",\"rain\",\"rain\",\"rain\",\"rain\",\"rain\",\"rain\",\"rain\",\"rain\",\"rain\",\"rain\",\"rain\",\"rain\",\"rain\",\"rain\",\"rain\",\"rain\",\"rain\",\"rain\",\"rain\",\"rain\",\"rain\",\"rain\",\"rain\",\"rain\",\"rain\",\"rain\",\"rain\",\"rain\",\"rain\",\"rain\",\"rain\",\"rain\",\"rain\",\"rain\",\"rain\",\"rain\",\"rain\",\"rain\",\"rain\",\"rain\",\"rain\",\"rain\",\"rain\",\"rain\",\"rain\",\"rain\",\"rain\",\"rain\",\"rain\",\"rain\",\"rain\",\"rain\",\"rain\",\"rain\",\"rain\",\"rain\",\"rain\",\"rain\",\"rain\",\"rain\",\"rain\",\"rain\",\"rain\",\"rain\",\"rain\",\"rain\",\"rain\",\"rain\",\"rain\",\"rain\",\"rain\",\"rain\",\"rain\",\"rain\",\"rain\",\"rain\",\"rain\",\"rain\",\"rain\",\"rain\",\"rain\",\"rain\",\"rain\",\"rain\",\"rain\",\"rain\",\"rain\",\"rain\",\"rain\",\"rain\",\"rain\",\"rain\",\"rain\",\"rain\",\"rain\",\"rain\",\"rain\",\"rain\",\"rain\",\"rain\",\"rain\",\"rain\",\"rain\",\"rain\",\"rain\",\"rain\",\"rain\",\"rain\",\"rain\",\"rain\",\"rain\",\"rain\",\"rain\",\"rain\",\"rain\",\"rain\",\"rain\",\"rain\",\"rain\",\"rain\",\"rain\",\"rain\",\"rain\",\"rain\",\"rain\",\"rain\",\"rain\",\"rain\",\"rain\",\"rain\",\"rain\",\"rain\",\"rain\",\"rain\",\"rain\",\"rain\",\"rain\",\"rain\",\"rain\",\"rain\",\"rain\",\"rain\",\"rain\",\"rain\",\"rain\",\"rain\",\"rain\",\"rain\",\"rain\",\"rain\",\"rain\",\"rain\",\"rain\",\"rain\",\"rain\",\"rain\",\"rain\",\"rain\",\"rain\",\"rain\",\"rain\",\"rain\",\"rain\",\"rain\",\"rain\",\"rain\",\"rain\",\"rain\",\"rain\",\"rain\",\"rain\",\"rain\",\"rain\",\"rain\",\"rain\",\"rain\",\"rain\",\"rain\",\"rain\",\"rain\",\"rain\",\"rain\",\"rain\",\"rain\",\"rain\",\"rain\",\"rain\",\"rain\",\"rain\",\"rain\",\"rain\",\"rain\",\"rain\",\"rain\",\"rain\",\"rain\",\"rain\",\"rain\",\"rain\",\"rain\",\"rain\",\"rain\",\"rain\",\"rain\",\"rain\",\"rain\",\"rain\",\"rain\",\"rain\",\"rain\",\"rain\",\"rain\",\"rain\",\"rain\",\"rain\",\"rain\",\"rain\",\"rain\",\"rain\",\"rain\",\"rain\",\"rain\",\"rain\",\"rain\",\"rain\",\"rain\",\"rain\",\"rain\",\"rain\",\"rain\",\"rain\",\"rain\",\"rain\",\"rain\",\"rain\",\"rain\",\"rain\",\"rain\",\"rain\",\"rain\",\"rain\",\"rain\",\"rain\",\"rain\",\"rain\",\"rain\",\"rain\",\"rain\",\"rain\",\"rain\",\"rain\",\"rain\",\"rain\",\"rain\",\"rain\",\"rain\",\"rain\",\"rain\",\"rain\",\"rain\",\"rain\",\"rain\",\"rain\",\"rain\",\"rain\",\"rain\",\"rain\",\"rain\",\"rain\",\"rain\",\"rain\",\"rain\",\"rain\",\"rain\",\"rain\",\"rain\",\"rain\",\"rain\",\"rain\",\"rain\",\"rain\",\"rain\",\"rain\",\"rain\",\"rain\",\"rain\",\"rain\",\"rain\",\"rain\",\"rain\",\"rain\",\"rain\",\"rain\",\"rain\",\"rain\",\"rain\",\"rain\",\"rain\",\"rain\",\"rain\",\"rain\",\"rain\",\"rain\",\"rain\",\"rain\",\"rain\",\"rain\",\"rain\",\"rain\",\"rain\",\"rain\",\"rain\",\"rain\",\"rain\",\"rain\",\"rain\",\"rain\",\"rain\",\"rain\",\"rain\",\"rain\",\"rain\",\"rain\",\"rain\",\"rain\",\"rain\",\"rain\",\"rain\",\"rain\",\"rain\",\"rain\",\"rain\",\"rain\",\"rain\",\"rain\",\"rain\",\"rain\",\"rain\",\"rain\",\"rain\",\"rain\",\"rain\",\"rain\",\"rain\",\"rain\",\"rain\",\"rain\",\"rain\",\"rain\",\"rain\",\"rain\",\"rain\",\"rain\",\"rain\",\"rain\",\"rain\",\"rain\",\"rain\",\"rain\",\"rain\",\"rain\",\"rain\",\"rain\",\"rain\",\"rain\",\"rain\",\"rain\",\"rain\",\"rain\",\"rain\",\"rain\",\"rain\",\"rain\",\"rain\",\"rain\",\"rain\",\"rain\",\"rain\",\"rain\",\"rain\",\"rain\",\"rain\",\"rain\",\"rain\",\"rain\",\"rain\",\"rain\",\"rain\",\"rain\",\"rain\",\"rain\",\"rain\",\"rain\",\"rain\",\"rain\",\"rain\",\"rain\",\"rain\",\"rain\",\"rain\",\"rain\",\"rain\",\"rain\",\"rain\",\"rain\",\"rain\",\"rain\",\"rain\",\"rain\",\"rain\",\"rain\",\"rain\",\"rain\",\"rain\",\"rain\",\"rain\",\"rain\",\"rain\",\"rain\",\"rain\",\"rain\",\"rain\",\"rain\",\"rain\",\"rain\",\"rain\",\"rain\",\"rain\",\"rain\",\"rain\",\"rain\",\"rain\",\"rain\",\"rain\",\"rain\",\"rain\",\"rain\",\"rain\",\"rain\",\"rain\",\"rain\",\"rain\",\"rain\",\"rain\",\"rain\",\"rain\",\"rain\",\"rain\",\"rain\",\"rain\",\"rain\",\"rain\",\"rain\",\"rain\",\"rain\",\"rain\",\"rain\",\"rain\",\"rain\",\"rain\",\"rain\",\"rain\",\"rain\",\"rain\",\"rain\",\"rain\",\"rain\",\"rain\",\"rain\",\"rain\",\"rain\",\"rain\",\"rain\",\"rain\",\"rain\",\"rain\",\"rain\",\"rain\",\"rain\",\"rain\",\"rain\",\"rain\",\"rain\",\"rain\",\"rain\",\"rain\",\"rain\",\"rain\",\"rain\",\"rain\",\"rain\",\"rain\",\"rain\",\"rain\",\"rain\",\"rain\",\"rain\",\"rain\",\"rain\",\"rain\",\"rain\",\"rain\",\"rain\",\"rain\",\"rain\",\"rain\",\"rain\",\"rain\",\"rain\",\"rain\",\"rain\",\"rain\",\"rain\",\"rain\",\"rain\",\"rain\",\"rain\",\"rain\",\"rain\",\"rain\",\"rain\",\"rain\",\"rain\",\"rain\",\"rain\",\"rain\",\"rain\",\"rain\",\"rain\",\"rain\",\"rain\",\"rain\",\"rain\",\"rain\",\"rain\",\"rain\",\"rain\",\"rain\",\"rain\",\"rain\",\"rain\",\"rain\",\"rain\",\"rain\",\"rain\",\"rain\",\"rain\",\"rain\",\"rain\",\"rain\",\"rain\",\"rain\",\"rain\",\"rain\",\"rain\",\"rain\",\"rain\",\"rain\",\"rain\",\"rain\",\"rain\",\"rain\",\"rain\",\"rain\",\"rain\",\"rain\",\"rain\",\"rain\",\"rain\",\"rain\",\"rain\",\"rain\",\"rain\",\"rain\",\"rain\",\"rain\",\"rain\",\"rain\",\"rain\",\"rain\",\"rain\",\"rain\",\"rain\",\"rain\"],\"xaxis\":\"x\",\"yaxis\":\"y\",\"type\":\"histogram\"},{\"alignmentgroup\":\"True\",\"bingroup\":\"x\",\"hovertemplate\":\"weather=%{x}\\u003cbr\\u003ecount=%{y}\\u003cextra\\u003e\\u003c\\u002fextra\\u003e\",\"legendgroup\":\"sun\",\"marker\":{\"color\":\"#00cc96\",\"pattern\":{\"shape\":\"\"}},\"name\":\"sun\",\"offsetgroup\":\"sun\",\"orientation\":\"v\",\"showlegend\":true,\"texttemplate\":\"%{value}\",\"x\":[\"sun\",\"sun\",\"sun\",\"sun\",\"sun\",\"sun\",\"sun\",\"sun\",\"sun\",\"sun\",\"sun\",\"sun\",\"sun\",\"sun\",\"sun\",\"sun\",\"sun\",\"sun\",\"sun\",\"sun\",\"sun\",\"sun\",\"sun\",\"sun\",\"sun\",\"sun\",\"sun\",\"sun\",\"sun\",\"sun\",\"sun\",\"sun\",\"sun\",\"sun\",\"sun\",\"sun\",\"sun\",\"sun\",\"sun\",\"sun\",\"sun\",\"sun\",\"sun\",\"sun\",\"sun\",\"sun\",\"sun\",\"sun\",\"sun\",\"sun\",\"sun\",\"sun\",\"sun\",\"sun\",\"sun\",\"sun\",\"sun\",\"sun\",\"sun\",\"sun\",\"sun\",\"sun\",\"sun\",\"sun\",\"sun\",\"sun\",\"sun\",\"sun\",\"sun\",\"sun\",\"sun\",\"sun\",\"sun\",\"sun\",\"sun\",\"sun\",\"sun\",\"sun\",\"sun\",\"sun\",\"sun\",\"sun\",\"sun\",\"sun\",\"sun\",\"sun\",\"sun\",\"sun\",\"sun\",\"sun\",\"sun\",\"sun\",\"sun\",\"sun\",\"sun\",\"sun\",\"sun\",\"sun\",\"sun\",\"sun\",\"sun\",\"sun\",\"sun\",\"sun\",\"sun\",\"sun\",\"sun\",\"sun\",\"sun\",\"sun\",\"sun\",\"sun\",\"sun\",\"sun\",\"sun\",\"sun\",\"sun\",\"sun\",\"sun\",\"sun\",\"sun\",\"sun\",\"sun\",\"sun\",\"sun\",\"sun\",\"sun\",\"sun\",\"sun\",\"sun\",\"sun\",\"sun\",\"sun\",\"sun\",\"sun\",\"sun\",\"sun\",\"sun\",\"sun\",\"sun\",\"sun\",\"sun\",\"sun\",\"sun\",\"sun\",\"sun\",\"sun\",\"sun\",\"sun\",\"sun\",\"sun\",\"sun\",\"sun\",\"sun\",\"sun\",\"sun\",\"sun\",\"sun\",\"sun\",\"sun\",\"sun\",\"sun\",\"sun\",\"sun\",\"sun\",\"sun\",\"sun\",\"sun\",\"sun\",\"sun\",\"sun\",\"sun\",\"sun\",\"sun\",\"sun\",\"sun\",\"sun\",\"sun\",\"sun\",\"sun\",\"sun\",\"sun\",\"sun\",\"sun\",\"sun\",\"sun\",\"sun\",\"sun\",\"sun\",\"sun\",\"sun\",\"sun\",\"sun\",\"sun\",\"sun\",\"sun\",\"sun\",\"sun\",\"sun\",\"sun\",\"sun\",\"sun\",\"sun\",\"sun\",\"sun\",\"sun\",\"sun\",\"sun\",\"sun\",\"sun\",\"sun\",\"sun\",\"sun\",\"sun\",\"sun\",\"sun\",\"sun\",\"sun\",\"sun\",\"sun\",\"sun\",\"sun\",\"sun\",\"sun\",\"sun\",\"sun\",\"sun\",\"sun\",\"sun\",\"sun\",\"sun\",\"sun\",\"sun\",\"sun\",\"sun\",\"sun\",\"sun\",\"sun\",\"sun\",\"sun\",\"sun\",\"sun\",\"sun\",\"sun\",\"sun\",\"sun\",\"sun\",\"sun\",\"sun\",\"sun\",\"sun\",\"sun\",\"sun\",\"sun\",\"sun\",\"sun\",\"sun\",\"sun\",\"sun\",\"sun\",\"sun\",\"sun\",\"sun\",\"sun\",\"sun\",\"sun\",\"sun\",\"sun\",\"sun\",\"sun\",\"sun\",\"sun\",\"sun\",\"sun\",\"sun\",\"sun\",\"sun\",\"sun\",\"sun\",\"sun\",\"sun\",\"sun\",\"sun\",\"sun\",\"sun\",\"sun\",\"sun\",\"sun\",\"sun\",\"sun\",\"sun\",\"sun\",\"sun\",\"sun\",\"sun\",\"sun\",\"sun\",\"sun\",\"sun\",\"sun\",\"sun\",\"sun\",\"sun\",\"sun\",\"sun\",\"sun\",\"sun\",\"sun\",\"sun\",\"sun\",\"sun\",\"sun\",\"sun\",\"sun\",\"sun\",\"sun\",\"sun\",\"sun\",\"sun\",\"sun\",\"sun\",\"sun\",\"sun\",\"sun\",\"sun\",\"sun\",\"sun\",\"sun\",\"sun\",\"sun\",\"sun\",\"sun\",\"sun\",\"sun\",\"sun\",\"sun\",\"sun\",\"sun\",\"sun\",\"sun\",\"sun\",\"sun\",\"sun\",\"sun\",\"sun\",\"sun\",\"sun\",\"sun\",\"sun\",\"sun\",\"sun\",\"sun\",\"sun\",\"sun\",\"sun\",\"sun\",\"sun\",\"sun\",\"sun\",\"sun\",\"sun\",\"sun\",\"sun\",\"sun\",\"sun\",\"sun\",\"sun\",\"sun\",\"sun\",\"sun\",\"sun\",\"sun\",\"sun\",\"sun\",\"sun\",\"sun\",\"sun\",\"sun\",\"sun\",\"sun\",\"sun\",\"sun\",\"sun\",\"sun\",\"sun\",\"sun\",\"sun\",\"sun\",\"sun\",\"sun\",\"sun\",\"sun\",\"sun\",\"sun\",\"sun\",\"sun\",\"sun\",\"sun\",\"sun\",\"sun\",\"sun\",\"sun\",\"sun\",\"sun\",\"sun\",\"sun\",\"sun\",\"sun\",\"sun\",\"sun\",\"sun\",\"sun\",\"sun\",\"sun\",\"sun\",\"sun\",\"sun\",\"sun\",\"sun\",\"sun\",\"sun\",\"sun\",\"sun\",\"sun\",\"sun\",\"sun\",\"sun\",\"sun\",\"sun\",\"sun\",\"sun\",\"sun\",\"sun\",\"sun\",\"sun\",\"sun\",\"sun\",\"sun\",\"sun\",\"sun\",\"sun\",\"sun\",\"sun\",\"sun\",\"sun\",\"sun\",\"sun\",\"sun\",\"sun\",\"sun\",\"sun\",\"sun\",\"sun\",\"sun\",\"sun\",\"sun\",\"sun\",\"sun\",\"sun\",\"sun\",\"sun\",\"sun\",\"sun\",\"sun\",\"sun\",\"sun\",\"sun\",\"sun\",\"sun\",\"sun\",\"sun\",\"sun\",\"sun\",\"sun\",\"sun\",\"sun\",\"sun\",\"sun\",\"sun\",\"sun\",\"sun\",\"sun\",\"sun\",\"sun\",\"sun\",\"sun\",\"sun\",\"sun\",\"sun\",\"sun\",\"sun\",\"sun\",\"sun\",\"sun\",\"sun\",\"sun\",\"sun\",\"sun\",\"sun\",\"sun\",\"sun\",\"sun\",\"sun\",\"sun\",\"sun\",\"sun\",\"sun\",\"sun\",\"sun\",\"sun\",\"sun\",\"sun\",\"sun\",\"sun\",\"sun\",\"sun\",\"sun\",\"sun\",\"sun\",\"sun\",\"sun\",\"sun\",\"sun\",\"sun\",\"sun\",\"sun\",\"sun\",\"sun\",\"sun\",\"sun\",\"sun\",\"sun\",\"sun\",\"sun\",\"sun\",\"sun\",\"sun\",\"sun\",\"sun\",\"sun\",\"sun\",\"sun\",\"sun\",\"sun\",\"sun\",\"sun\",\"sun\",\"sun\",\"sun\",\"sun\",\"sun\",\"sun\",\"sun\",\"sun\",\"sun\",\"sun\",\"sun\",\"sun\",\"sun\",\"sun\",\"sun\",\"sun\",\"sun\",\"sun\",\"sun\",\"sun\",\"sun\",\"sun\",\"sun\",\"sun\",\"sun\",\"sun\",\"sun\",\"sun\",\"sun\",\"sun\",\"sun\",\"sun\",\"sun\",\"sun\",\"sun\",\"sun\",\"sun\",\"sun\",\"sun\",\"sun\",\"sun\",\"sun\",\"sun\",\"sun\",\"sun\",\"sun\",\"sun\",\"sun\",\"sun\",\"sun\",\"sun\",\"sun\",\"sun\",\"sun\",\"sun\",\"sun\",\"sun\",\"sun\",\"sun\",\"sun\",\"sun\",\"sun\",\"sun\",\"sun\",\"sun\",\"sun\",\"sun\",\"sun\",\"sun\",\"sun\",\"sun\",\"sun\",\"sun\",\"sun\",\"sun\",\"sun\",\"sun\",\"sun\",\"sun\",\"sun\",\"sun\",\"sun\",\"sun\",\"sun\",\"sun\",\"sun\",\"sun\",\"sun\",\"sun\",\"sun\",\"sun\",\"sun\",\"sun\",\"sun\"],\"xaxis\":\"x\",\"yaxis\":\"y\",\"type\":\"histogram\"},{\"alignmentgroup\":\"True\",\"bingroup\":\"x\",\"hovertemplate\":\"weather=%{x}\\u003cbr\\u003ecount=%{y}\\u003cextra\\u003e\\u003c\\u002fextra\\u003e\",\"legendgroup\":\"snow\",\"marker\":{\"color\":\"#ab63fa\",\"pattern\":{\"shape\":\"\"}},\"name\":\"snow\",\"offsetgroup\":\"snow\",\"orientation\":\"v\",\"showlegend\":true,\"texttemplate\":\"%{value}\",\"x\":[\"snow\",\"snow\",\"snow\",\"snow\",\"snow\",\"snow\",\"snow\",\"snow\",\"snow\",\"snow\",\"snow\",\"snow\",\"snow\",\"snow\",\"snow\",\"snow\",\"snow\",\"snow\",\"snow\",\"snow\",\"snow\",\"snow\",\"snow\",\"snow\",\"snow\",\"snow\"],\"xaxis\":\"x\",\"yaxis\":\"y\",\"type\":\"histogram\"},{\"alignmentgroup\":\"True\",\"bingroup\":\"x\",\"hovertemplate\":\"weather=%{x}\\u003cbr\\u003ecount=%{y}\\u003cextra\\u003e\\u003c\\u002fextra\\u003e\",\"legendgroup\":\"fog\",\"marker\":{\"color\":\"#FFA15A\",\"pattern\":{\"shape\":\"\"}},\"name\":\"fog\",\"offsetgroup\":\"fog\",\"orientation\":\"v\",\"showlegend\":true,\"texttemplate\":\"%{value}\",\"x\":[\"fog\",\"fog\",\"fog\",\"fog\",\"fog\",\"fog\",\"fog\",\"fog\",\"fog\",\"fog\",\"fog\",\"fog\",\"fog\",\"fog\",\"fog\",\"fog\",\"fog\",\"fog\",\"fog\",\"fog\",\"fog\",\"fog\",\"fog\",\"fog\",\"fog\",\"fog\",\"fog\",\"fog\",\"fog\",\"fog\",\"fog\",\"fog\",\"fog\",\"fog\",\"fog\",\"fog\",\"fog\",\"fog\",\"fog\",\"fog\",\"fog\",\"fog\",\"fog\",\"fog\",\"fog\",\"fog\",\"fog\",\"fog\",\"fog\",\"fog\",\"fog\",\"fog\",\"fog\",\"fog\",\"fog\",\"fog\",\"fog\",\"fog\",\"fog\",\"fog\",\"fog\",\"fog\",\"fog\",\"fog\",\"fog\",\"fog\",\"fog\",\"fog\",\"fog\",\"fog\",\"fog\",\"fog\",\"fog\",\"fog\",\"fog\",\"fog\",\"fog\",\"fog\",\"fog\",\"fog\",\"fog\",\"fog\",\"fog\",\"fog\",\"fog\",\"fog\",\"fog\",\"fog\",\"fog\",\"fog\",\"fog\",\"fog\",\"fog\",\"fog\",\"fog\",\"fog\",\"fog\",\"fog\",\"fog\",\"fog\",\"fog\"],\"xaxis\":\"x\",\"yaxis\":\"y\",\"type\":\"histogram\"}],                        {\"template\":{\"data\":{\"histogram2dcontour\":[{\"type\":\"histogram2dcontour\",\"colorbar\":{\"outlinewidth\":0,\"ticks\":\"\"},\"colorscale\":[[0.0,\"#0d0887\"],[0.1111111111111111,\"#46039f\"],[0.2222222222222222,\"#7201a8\"],[0.3333333333333333,\"#9c179e\"],[0.4444444444444444,\"#bd3786\"],[0.5555555555555556,\"#d8576b\"],[0.6666666666666666,\"#ed7953\"],[0.7777777777777778,\"#fb9f3a\"],[0.8888888888888888,\"#fdca26\"],[1.0,\"#f0f921\"]]}],\"choropleth\":[{\"type\":\"choropleth\",\"colorbar\":{\"outlinewidth\":0,\"ticks\":\"\"}}],\"histogram2d\":[{\"type\":\"histogram2d\",\"colorbar\":{\"outlinewidth\":0,\"ticks\":\"\"},\"colorscale\":[[0.0,\"#0d0887\"],[0.1111111111111111,\"#46039f\"],[0.2222222222222222,\"#7201a8\"],[0.3333333333333333,\"#9c179e\"],[0.4444444444444444,\"#bd3786\"],[0.5555555555555556,\"#d8576b\"],[0.6666666666666666,\"#ed7953\"],[0.7777777777777778,\"#fb9f3a\"],[0.8888888888888888,\"#fdca26\"],[1.0,\"#f0f921\"]]}],\"heatmap\":[{\"type\":\"heatmap\",\"colorbar\":{\"outlinewidth\":0,\"ticks\":\"\"},\"colorscale\":[[0.0,\"#0d0887\"],[0.1111111111111111,\"#46039f\"],[0.2222222222222222,\"#7201a8\"],[0.3333333333333333,\"#9c179e\"],[0.4444444444444444,\"#bd3786\"],[0.5555555555555556,\"#d8576b\"],[0.6666666666666666,\"#ed7953\"],[0.7777777777777778,\"#fb9f3a\"],[0.8888888888888888,\"#fdca26\"],[1.0,\"#f0f921\"]]}],\"heatmapgl\":[{\"type\":\"heatmapgl\",\"colorbar\":{\"outlinewidth\":0,\"ticks\":\"\"},\"colorscale\":[[0.0,\"#0d0887\"],[0.1111111111111111,\"#46039f\"],[0.2222222222222222,\"#7201a8\"],[0.3333333333333333,\"#9c179e\"],[0.4444444444444444,\"#bd3786\"],[0.5555555555555556,\"#d8576b\"],[0.6666666666666666,\"#ed7953\"],[0.7777777777777778,\"#fb9f3a\"],[0.8888888888888888,\"#fdca26\"],[1.0,\"#f0f921\"]]}],\"contourcarpet\":[{\"type\":\"contourcarpet\",\"colorbar\":{\"outlinewidth\":0,\"ticks\":\"\"}}],\"contour\":[{\"type\":\"contour\",\"colorbar\":{\"outlinewidth\":0,\"ticks\":\"\"},\"colorscale\":[[0.0,\"#0d0887\"],[0.1111111111111111,\"#46039f\"],[0.2222222222222222,\"#7201a8\"],[0.3333333333333333,\"#9c179e\"],[0.4444444444444444,\"#bd3786\"],[0.5555555555555556,\"#d8576b\"],[0.6666666666666666,\"#ed7953\"],[0.7777777777777778,\"#fb9f3a\"],[0.8888888888888888,\"#fdca26\"],[1.0,\"#f0f921\"]]}],\"surface\":[{\"type\":\"surface\",\"colorbar\":{\"outlinewidth\":0,\"ticks\":\"\"},\"colorscale\":[[0.0,\"#0d0887\"],[0.1111111111111111,\"#46039f\"],[0.2222222222222222,\"#7201a8\"],[0.3333333333333333,\"#9c179e\"],[0.4444444444444444,\"#bd3786\"],[0.5555555555555556,\"#d8576b\"],[0.6666666666666666,\"#ed7953\"],[0.7777777777777778,\"#fb9f3a\"],[0.8888888888888888,\"#fdca26\"],[1.0,\"#f0f921\"]]}],\"mesh3d\":[{\"type\":\"mesh3d\",\"colorbar\":{\"outlinewidth\":0,\"ticks\":\"\"}}],\"scatter\":[{\"fillpattern\":{\"fillmode\":\"overlay\",\"size\":10,\"solidity\":0.2},\"type\":\"scatter\"}],\"parcoords\":[{\"type\":\"parcoords\",\"line\":{\"colorbar\":{\"outlinewidth\":0,\"ticks\":\"\"}}}],\"scatterpolargl\":[{\"type\":\"scatterpolargl\",\"marker\":{\"colorbar\":{\"outlinewidth\":0,\"ticks\":\"\"}}}],\"bar\":[{\"error_x\":{\"color\":\"#2a3f5f\"},\"error_y\":{\"color\":\"#2a3f5f\"},\"marker\":{\"line\":{\"color\":\"#E5ECF6\",\"width\":0.5},\"pattern\":{\"fillmode\":\"overlay\",\"size\":10,\"solidity\":0.2}},\"type\":\"bar\"}],\"scattergeo\":[{\"type\":\"scattergeo\",\"marker\":{\"colorbar\":{\"outlinewidth\":0,\"ticks\":\"\"}}}],\"scatterpolar\":[{\"type\":\"scatterpolar\",\"marker\":{\"colorbar\":{\"outlinewidth\":0,\"ticks\":\"\"}}}],\"histogram\":[{\"marker\":{\"pattern\":{\"fillmode\":\"overlay\",\"size\":10,\"solidity\":0.2}},\"type\":\"histogram\"}],\"scattergl\":[{\"type\":\"scattergl\",\"marker\":{\"colorbar\":{\"outlinewidth\":0,\"ticks\":\"\"}}}],\"scatter3d\":[{\"type\":\"scatter3d\",\"line\":{\"colorbar\":{\"outlinewidth\":0,\"ticks\":\"\"}},\"marker\":{\"colorbar\":{\"outlinewidth\":0,\"ticks\":\"\"}}}],\"scattermapbox\":[{\"type\":\"scattermapbox\",\"marker\":{\"colorbar\":{\"outlinewidth\":0,\"ticks\":\"\"}}}],\"scatterternary\":[{\"type\":\"scatterternary\",\"marker\":{\"colorbar\":{\"outlinewidth\":0,\"ticks\":\"\"}}}],\"scattercarpet\":[{\"type\":\"scattercarpet\",\"marker\":{\"colorbar\":{\"outlinewidth\":0,\"ticks\":\"\"}}}],\"carpet\":[{\"aaxis\":{\"endlinecolor\":\"#2a3f5f\",\"gridcolor\":\"white\",\"linecolor\":\"white\",\"minorgridcolor\":\"white\",\"startlinecolor\":\"#2a3f5f\"},\"baxis\":{\"endlinecolor\":\"#2a3f5f\",\"gridcolor\":\"white\",\"linecolor\":\"white\",\"minorgridcolor\":\"white\",\"startlinecolor\":\"#2a3f5f\"},\"type\":\"carpet\"}],\"table\":[{\"cells\":{\"fill\":{\"color\":\"#EBF0F8\"},\"line\":{\"color\":\"white\"}},\"header\":{\"fill\":{\"color\":\"#C8D4E3\"},\"line\":{\"color\":\"white\"}},\"type\":\"table\"}],\"barpolar\":[{\"marker\":{\"line\":{\"color\":\"#E5ECF6\",\"width\":0.5},\"pattern\":{\"fillmode\":\"overlay\",\"size\":10,\"solidity\":0.2}},\"type\":\"barpolar\"}],\"pie\":[{\"automargin\":true,\"type\":\"pie\"}]},\"layout\":{\"autotypenumbers\":\"strict\",\"colorway\":[\"#636efa\",\"#EF553B\",\"#00cc96\",\"#ab63fa\",\"#FFA15A\",\"#19d3f3\",\"#FF6692\",\"#B6E880\",\"#FF97FF\",\"#FECB52\"],\"font\":{\"color\":\"#2a3f5f\"},\"hovermode\":\"closest\",\"hoverlabel\":{\"align\":\"left\"},\"paper_bgcolor\":\"white\",\"plot_bgcolor\":\"#E5ECF6\",\"polar\":{\"bgcolor\":\"#E5ECF6\",\"angularaxis\":{\"gridcolor\":\"white\",\"linecolor\":\"white\",\"ticks\":\"\"},\"radialaxis\":{\"gridcolor\":\"white\",\"linecolor\":\"white\",\"ticks\":\"\"}},\"ternary\":{\"bgcolor\":\"#E5ECF6\",\"aaxis\":{\"gridcolor\":\"white\",\"linecolor\":\"white\",\"ticks\":\"\"},\"baxis\":{\"gridcolor\":\"white\",\"linecolor\":\"white\",\"ticks\":\"\"},\"caxis\":{\"gridcolor\":\"white\",\"linecolor\":\"white\",\"ticks\":\"\"}},\"coloraxis\":{\"colorbar\":{\"outlinewidth\":0,\"ticks\":\"\"}},\"colorscale\":{\"sequential\":[[0.0,\"#0d0887\"],[0.1111111111111111,\"#46039f\"],[0.2222222222222222,\"#7201a8\"],[0.3333333333333333,\"#9c179e\"],[0.4444444444444444,\"#bd3786\"],[0.5555555555555556,\"#d8576b\"],[0.6666666666666666,\"#ed7953\"],[0.7777777777777778,\"#fb9f3a\"],[0.8888888888888888,\"#fdca26\"],[1.0,\"#f0f921\"]],\"sequentialminus\":[[0.0,\"#0d0887\"],[0.1111111111111111,\"#46039f\"],[0.2222222222222222,\"#7201a8\"],[0.3333333333333333,\"#9c179e\"],[0.4444444444444444,\"#bd3786\"],[0.5555555555555556,\"#d8576b\"],[0.6666666666666666,\"#ed7953\"],[0.7777777777777778,\"#fb9f3a\"],[0.8888888888888888,\"#fdca26\"],[1.0,\"#f0f921\"]],\"diverging\":[[0,\"#8e0152\"],[0.1,\"#c51b7d\"],[0.2,\"#de77ae\"],[0.3,\"#f1b6da\"],[0.4,\"#fde0ef\"],[0.5,\"#f7f7f7\"],[0.6,\"#e6f5d0\"],[0.7,\"#b8e186\"],[0.8,\"#7fbc41\"],[0.9,\"#4d9221\"],[1,\"#276419\"]]},\"xaxis\":{\"gridcolor\":\"white\",\"linecolor\":\"white\",\"ticks\":\"\",\"title\":{\"standoff\":15},\"zerolinecolor\":\"white\",\"automargin\":true,\"zerolinewidth\":2},\"yaxis\":{\"gridcolor\":\"white\",\"linecolor\":\"white\",\"ticks\":\"\",\"title\":{\"standoff\":15},\"zerolinecolor\":\"white\",\"automargin\":true,\"zerolinewidth\":2},\"scene\":{\"xaxis\":{\"backgroundcolor\":\"#E5ECF6\",\"gridcolor\":\"white\",\"linecolor\":\"white\",\"showbackground\":true,\"ticks\":\"\",\"zerolinecolor\":\"white\",\"gridwidth\":2},\"yaxis\":{\"backgroundcolor\":\"#E5ECF6\",\"gridcolor\":\"white\",\"linecolor\":\"white\",\"showbackground\":true,\"ticks\":\"\",\"zerolinecolor\":\"white\",\"gridwidth\":2},\"zaxis\":{\"backgroundcolor\":\"#E5ECF6\",\"gridcolor\":\"white\",\"linecolor\":\"white\",\"showbackground\":true,\"ticks\":\"\",\"zerolinecolor\":\"white\",\"gridwidth\":2}},\"shapedefaults\":{\"line\":{\"color\":\"#2a3f5f\"}},\"annotationdefaults\":{\"arrowcolor\":\"#2a3f5f\",\"arrowhead\":0,\"arrowwidth\":1},\"geo\":{\"bgcolor\":\"white\",\"landcolor\":\"#E5ECF6\",\"subunitcolor\":\"white\",\"showland\":true,\"showlakes\":true,\"lakecolor\":\"white\"},\"title\":{\"x\":0.05},\"mapbox\":{\"style\":\"light\"}}},\"xaxis\":{\"anchor\":\"y\",\"domain\":[0.0,1.0],\"title\":{\"text\":\"weather\"},\"categoryorder\":\"total descending\",\"categoryarray\":[\"drizzle\",\"rain\",\"sun\",\"snow\",\"fog\"]},\"yaxis\":{\"anchor\":\"x\",\"domain\":[0.0,1.0],\"title\":{\"text\":\"count\"}},\"legend\":{\"title\":{\"text\":\"weather\"},\"tracegroupgap\":0},\"title\":{\"text\":\"most weather state persent\"},\"barmode\":\"relative\"},                        {\"responsive\": true}                    ).then(function(){\n",
              "                            \n",
              "var gd = document.getElementById('d236445c-a5d9-42e2-9be0-541035496de1');\n",
              "var x = new MutationObserver(function (mutations, observer) {{\n",
              "        var display = window.getComputedStyle(gd).display;\n",
              "        if (!display || display === 'none') {{\n",
              "            console.log([gd, 'removed!']);\n",
              "            Plotly.purge(gd);\n",
              "            observer.disconnect();\n",
              "        }}\n",
              "}});\n",
              "\n",
              "// Listen for the removal of the full notebook cells\n",
              "var notebookContainer = gd.closest('#notebook-container');\n",
              "if (notebookContainer) {{\n",
              "    x.observe(notebookContainer, {childList: true});\n",
              "}}\n",
              "\n",
              "// Listen for the clearing of the current output cell\n",
              "var outputEl = gd.closest('.output');\n",
              "if (outputEl) {{\n",
              "    x.observe(outputEl, {childList: true});\n",
              "}}\n",
              "\n",
              "                        })                };                            </script>        </div>\n",
              "</body>\n",
              "</html>"
            ]
          },
          "metadata": {}
        }
      ],
      "source": [
        "fig = px.histogram(df, x=\"weather\",text_auto=True ,color='weather',title='most weather state persent').update_xaxes(categoryorder='total descending')\n",
        "fig.show()"
      ]
    },
    {
      "cell_type": "code",
      "execution_count": 24,
      "metadata": {
        "colab": {
          "base_uri": "https://localhost:8080/",
          "height": 542
        },
        "id": "Ca1FEubVWc5f",
        "outputId": "b4fb4175-cde9-4b04-f72d-bff5e12908a4"
      },
      "outputs": [
        {
          "output_type": "display_data",
          "data": {
            "text/html": [
              "<html>\n",
              "<head><meta charset=\"utf-8\" /></head>\n",
              "<body>\n",
              "    <div>            <script src=\"https://cdnjs.cloudflare.com/ajax/libs/mathjax/2.7.5/MathJax.js?config=TeX-AMS-MML_SVG\"></script><script type=\"text/javascript\">if (window.MathJax && window.MathJax.Hub && window.MathJax.Hub.Config) {window.MathJax.Hub.Config({SVG: {font: \"STIX-Web\"}});}</script>                <script type=\"text/javascript\">window.PlotlyConfig = {MathJaxConfig: 'local'};</script>\n",
              "        <script charset=\"utf-8\" src=\"https://cdn.plot.ly/plotly-2.35.2.min.js\"></script>                <div id=\"870e779e-484f-43be-8619-b0d2e67fd30a\" class=\"plotly-graph-div\" style=\"height:525px; width:100%;\"></div>            <script type=\"text/javascript\">                                    window.PLOTLYENV=window.PLOTLYENV || {};                                    if (document.getElementById(\"870e779e-484f-43be-8619-b0d2e67fd30a\")) {                    Plotly.newPlot(                        \"870e779e-484f-43be-8619-b0d2e67fd30a\",                        [{\"customdata\":[[\"drizzle\"],[\"rain\"],[\"rain\"],[\"rain\"],[\"rain\"],[\"rain\"],[\"rain\"],[\"sun\"],[\"rain\"],[\"rain\"],[\"sun\"],[\"sun\"],[\"sun\"],[\"snow\"],[\"snow\"],[\"snow\"],[\"snow\"],[\"snow\"],[\"snow\"],[\"snow\"],[\"rain\"],[\"rain\"],[\"rain\"],[\"rain\"],[\"rain\"],[\"rain\"],[\"drizzle\"],[\"rain\"],[\"rain\"],[\"rain\"],[\"rain\"],[\"rain\"],[\"sun\"],[\"sun\"],[\"sun\"],[\"sun\"],[\"sun\"],[\"rain\"],[\"rain\"],[\"rain\"],[\"rain\"],[\"rain\"],[\"rain\"],[\"rain\"],[\"rain\"],[\"drizzle\"],[\"rain\"],[\"rain\"],[\"rain\"],[\"sun\"],[\"rain\"],[\"rain\"],[\"rain\"],[\"sun\"],[\"rain\"],[\"rain\"],[\"snow\"],[\"sun\"],[\"snow\"],[\"snow\"],[\"sun\"],[\"rain\"],[\"sun\"],[\"rain\"],[\"rain\"],[\"snow\"],[\"sun\"],[\"sun\"],[\"rain\"],[\"rain\"],[\"rain\"],[\"snow\"],[\"snow\"],[\"rain\"],[\"snow\"],[\"rain\"],[\"snow\"],[\"rain\"],[\"rain\"],[\"rain\"],[\"rain\"],[\"rain\"],[\"sun\"],[\"sun\"],[\"rain\"],[\"drizzle\"],[\"rain\"],[\"rain\"],[\"rain\"],[\"rain\"],[\"rain\"],[\"rain\"],[\"sun\"],[\"rain\"],[\"sun\"],[\"snow\"],[\"rain\"],[\"sun\"],[\"sun\"],[\"sun\"],[\"rain\"],[\"rain\"],[\"rain\"],[\"drizzle\"],[\"sun\"],[\"rain\"],[\"rain\"],[\"rain\"],[\"rain\"],[\"rain\"],[\"rain\"],[\"sun\"],[\"rain\"],[\"sun\"],[\"rain\"],[\"rain\"],[\"rain\"],[\"rain\"],[\"drizzle\"],[\"rain\"],[\"rain\"],[\"rain\"],[\"rain\"],[\"rain\"],[\"rain\"],[\"sun\"],[\"sun\"],[\"sun\"],[\"sun\"],[\"rain\"],[\"sun\"],[\"sun\"],[\"sun\"],[\"sun\"],[\"sun\"],[\"drizzle\"],[\"sun\"],[\"rain\"],[\"rain\"],[\"sun\"],[\"rain\"],[\"rain\"],[\"rain\"],[\"rain\"],[\"rain\"],[\"rain\"],[\"sun\"],[\"sun\"],[\"rain\"],[\"sun\"],[\"rain\"],[\"rain\"],[\"rain\"],[\"rain\"],[\"sun\"],[\"rain\"],[\"rain\"],[\"sun\"],[\"rain\"],[\"rain\"],[\"rain\"],[\"sun\"],[\"rain\"],[\"rain\"],[\"sun\"],[\"sun\"],[\"sun\"],[\"rain\"],[\"sun\"],[\"rain\"],[\"rain\"],[\"sun\"],[\"sun\"],[\"rain\"],[\"rain\"],[\"drizzle\"],[\"rain\"],[\"rain\"],[\"sun\"],[\"rain\"],[\"rain\"],[\"rain\"],[\"rain\"],[\"rain\"],[\"rain\"],[\"sun\"],[\"drizzle\"],[\"sun\"],[\"sun\"],[\"rain\"],[\"rain\"],[\"drizzle\"],[\"fog\"],[\"drizzle\"],[\"rain\"],[\"rain\"],[\"rain\"],[\"rain\"],[\"sun\"],[\"sun\"],[\"sun\"],[\"rain\"],[\"sun\"],[\"rain\"],[\"rain\"],[\"sun\"],[\"sun\"],[\"drizzle\"],[\"drizzle\"],[\"drizzle\"],[\"sun\"],[\"sun\"],[\"sun\"],[\"drizzle\"],[\"sun\"],[\"sun\"],[\"sun\"],[\"sun\"],[\"rain\"],[\"drizzle\"],[\"sun\"],[\"drizzle\"],[\"sun\"],[\"sun\"],[\"sun\"],[\"sun\"],[\"sun\"],[\"sun\"],[\"sun\"],[\"sun\"],[\"drizzle\"],[\"drizzle\"],[\"sun\"],[\"rain\"],[\"sun\"],[\"sun\"],[\"sun\"],[\"sun\"],[\"sun\"],[\"sun\"],[\"sun\"],[\"sun\"],[\"sun\"],[\"sun\"],[\"sun\"],[\"sun\"],[\"sun\"],[\"sun\"],[\"sun\"],[\"sun\"],[\"sun\"],[\"sun\"],[\"rain\"],[\"rain\"],[\"sun\"],[\"sun\"],[\"sun\"],[\"sun\"],[\"sun\"],[\"sun\"],[\"fog\"],[\"sun\"],[\"drizzle\"],[\"drizzle\"],[\"drizzle\"],[\"rain\"],[\"fog\"],[\"fog\"],[\"sun\"],[\"drizzle\"],[\"drizzle\"],[\"rain\"],[\"sun\"],[\"sun\"],[\"sun\"],[\"sun\"],[\"sun\"],[\"sun\"],[\"sun\"],[\"sun\"],[\"sun\"],[\"sun\"],[\"drizzle\"],[\"drizzle\"],[\"drizzle\"],[\"rain\"],[\"rain\"],[\"rain\"],[\"rain\"],[\"sun\"],[\"sun\"],[\"rain\"],[\"rain\"],[\"rain\"],[\"rain\"],[\"rain\"],[\"rain\"],[\"rain\"],[\"sun\"],[\"rain\"],[\"rain\"],[\"rain\"],[\"rain\"],[\"rain\"],[\"rain\"],[\"rain\"],[\"rain\"],[\"rain\"],[\"rain\"],[\"rain\"],[\"rain\"],[\"rain\"],[\"rain\"],[\"rain\"],[\"sun\"],[\"rain\"],[\"rain\"],[\"rain\"],[\"rain\"],[\"drizzle\"],[\"rain\"],[\"rain\"],[\"rain\"],[\"rain\"],[\"rain\"],[\"rain\"],[\"rain\"],[\"rain\"],[\"rain\"],[\"drizzle\"],[\"fog\"],[\"sun\"],[\"rain\"],[\"rain\"],[\"rain\"],[\"rain\"],[\"rain\"],[\"rain\"],[\"rain\"],[\"rain\"],[\"rain\"],[\"rain\"],[\"sun\"],[\"rain\"],[\"rain\"],[\"rain\"],[\"rain\"],[\"rain\"],[\"rain\"],[\"snow\"],[\"snow\"],[\"rain\"],[\"snow\"],[\"snow\"],[\"rain\"],[\"rain\"],[\"rain\"],[\"rain\"],[\"rain\"],[\"snow\"],[\"rain\"],[\"rain\"],[\"rain\"],[\"rain\"],[\"drizzle\"],[\"drizzle\"],[\"sun\"],[\"sun\"],[\"rain\"],[\"rain\"],[\"rain\"],[\"rain\"],[\"rain\"],[\"rain\"],[\"rain\"],[\"snow\"],[\"drizzle\"],[\"sun\"],[\"sun\"],[\"sun\"],[\"sun\"],[\"drizzle\"],[\"drizzle\"],[\"drizzle\"],[\"drizzle\"],[\"drizzle\"],[\"drizzle\"],[\"drizzle\"],[\"rain\"],[\"rain\"],[\"rain\"],[\"rain\"],[\"rain\"],[\"rain\"],[\"rain\"],[\"rain\"],[\"rain\"],[\"rain\"],[\"drizzle\"],[\"rain\"],[\"rain\"],[\"rain\"],[\"rain\"],[\"rain\"],[\"sun\"],[\"rain\"],[\"drizzle\"],[\"rain\"],[\"rain\"],[\"rain\"],[\"rain\"],[\"drizzle\"],[\"rain\"],[\"rain\"],[\"rain\"],[\"sun\"],[\"rain\"],[\"rain\"],[\"rain\"],[\"rain\"],[\"rain\"],[\"rain\"],[\"rain\"],[\"rain\"],[\"rain\"],[\"rain\"],[\"rain\"],[\"sun\"],[\"sun\"],[\"rain\"],[\"rain\"],[\"rain\"],[\"drizzle\"],[\"fog\"],[\"rain\"],[\"rain\"],[\"rain\"],[\"rain\"],[\"rain\"],[\"rain\"],[\"rain\"],[\"sun\"],[\"rain\"],[\"rain\"],[\"rain\"],[\"snow\"],[\"sun\"],[\"sun\"],[\"sun\"],[\"sun\"],[\"sun\"],[\"rain\"],[\"rain\"],[\"rain\"],[\"drizzle\"],[\"sun\"],[\"sun\"],[\"sun\"],[\"sun\"],[\"rain\"],[\"rain\"],[\"rain\"],[\"rain\"],[\"rain\"],[\"sun\"],[\"rain\"],[\"rain\"],[\"rain\"],[\"rain\"],[\"rain\"],[\"fog\"],[\"rain\"],[\"drizzle\"],[\"rain\"],[\"rain\"],[\"sun\"],[\"rain\"],[\"sun\"],[\"sun\"],[\"sun\"],[\"sun\"],[\"fog\"],[\"sun\"],[\"rain\"],[\"rain\"],[\"sun\"],[\"sun\"],[\"sun\"],[\"sun\"],[\"sun\"],[\"sun\"],[\"sun\"],[\"sun\"],[\"sun\"],[\"sun\"],[\"sun\"],[\"sun\"],[\"rain\"],[\"rain\"],[\"sun\"],[\"rain\"],[\"fog\"],[\"rain\"],[\"sun\"],[\"sun\"],[\"sun\"],[\"rain\"],[\"rain\"],[\"rain\"],[\"rain\"],[\"sun\"],[\"rain\"],[\"rain\"],[\"rain\"],[\"rain\"],[\"sun\"],[\"sun\"],[\"sun\"],[\"rain\"],[\"sun\"],[\"sun\"],[\"sun\"],[\"sun\"],[\"sun\"],[\"sun\"],[\"sun\"],[\"sun\"],[\"sun\"],[\"rain\"],[\"sun\"],[\"sun\"],[\"sun\"],[\"sun\"],[\"sun\"],[\"rain\"],[\"sun\"],[\"rain\"],[\"rain\"],[\"sun\"],[\"rain\"],[\"rain\"],[\"rain\"],[\"rain\"],[\"rain\"],[\"sun\"],[\"sun\"],[\"sun\"],[\"sun\"],[\"sun\"],[\"sun\"],[\"fog\"],[\"sun\"],[\"sun\"],[\"sun\"],[\"sun\"],[\"sun\"],[\"sun\"],[\"sun\"],[\"sun\"],[\"sun\"],[\"sun\"],[\"sun\"],[\"sun\"],[\"sun\"],[\"sun\"],[\"sun\"],[\"sun\"],[\"sun\"],[\"fog\"],[\"sun\"],[\"sun\"],[\"sun\"],[\"sun\"],[\"sun\"],[\"fog\"],[\"sun\"],[\"sun\"],[\"sun\"],[\"sun\"],[\"rain\"],[\"fog\"],[\"sun\"],[\"sun\"],[\"sun\"],[\"sun\"],[\"sun\"],[\"sun\"],[\"rain\"],[\"sun\"],[\"sun\"],[\"sun\"],[\"rain\"],[\"rain\"],[\"fog\"],[\"sun\"],[\"sun\"],[\"sun\"],[\"sun\"],[\"sun\"],[\"sun\"],[\"sun\"],[\"sun\"],[\"rain\"],[\"rain\"],[\"rain\"],[\"rain\"],[\"rain\"],[\"sun\"],[\"sun\"],[\"sun\"],[\"sun\"],[\"rain\"],[\"rain\"],[\"rain\"],[\"rain\"],[\"sun\"],[\"fog\"],[\"sun\"],[\"sun\"],[\"sun\"],[\"sun\"],[\"sun\"],[\"fog\"],[\"rain\"],[\"rain\"],[\"sun\"],[\"sun\"],[\"sun\"],[\"rain\"],[\"sun\"],[\"rain\"],[\"rain\"],[\"sun\"],[\"rain\"],[\"sun\"],[\"rain\"],[\"rain\"],[\"rain\"],[\"rain\"],[\"rain\"],[\"rain\"],[\"rain\"],[\"sun\"],[\"sun\"],[\"rain\"],[\"rain\"],[\"rain\"],[\"sun\"],[\"rain\"],[\"rain\"],[\"rain\"],[\"fog\"],[\"sun\"],[\"sun\"],[\"fog\"],[\"fog\"],[\"sun\"],[\"sun\"],[\"sun\"],[\"sun\"],[\"sun\"],[\"sun\"],[\"sun\"],[\"sun\"],[\"sun\"],[\"rain\"],[\"sun\"],[\"sun\"],[\"rain\"],[\"rain\"],[\"rain\"],[\"rain\"],[\"rain\"],[\"drizzle\"],[\"rain\"],[\"rain\"],[\"rain\"],[\"sun\"],[\"rain\"],[\"sun\"],[\"fog\"],[\"rain\"],[\"sun\"],[\"rain\"],[\"rain\"],[\"sun\"],[\"rain\"],[\"rain\"],[\"rain\"],[\"sun\"],[\"sun\"],[\"sun\"],[\"sun\"],[\"fog\"],[\"sun\"],[\"sun\"],[\"sun\"],[\"sun\"],[\"rain\"],[\"rain\"],[\"rain\"],[\"rain\"],[\"sun\"],[\"sun\"],[\"sun\"],[\"sun\"],[\"sun\"],[\"sun\"],[\"sun\"],[\"sun\"],[\"sun\"],[\"rain\"],[\"rain\"],[\"sun\"],[\"rain\"],[\"rain\"],[\"sun\"],[\"rain\"],[\"sun\"],[\"snow\"],[\"rain\"],[\"rain\"],[\"rain\"],[\"sun\"],[\"sun\"],[\"sun\"],[\"rain\"],[\"sun\"],[\"sun\"],[\"rain\"],[\"rain\"],[\"sun\"],[\"rain\"],[\"rain\"],[\"fog\"],[\"sun\"],[\"rain\"],[\"rain\"],[\"rain\"],[\"rain\"],[\"rain\"],[\"rain\"],[\"rain\"],[\"sun\"],[\"sun\"],[\"sun\"],[\"sun\"],[\"sun\"],[\"sun\"],[\"sun\"],[\"sun\"],[\"sun\"],[\"rain\"],[\"fog\"],[\"sun\"],[\"sun\"],[\"sun\"],[\"sun\"],[\"rain\"],[\"rain\"],[\"sun\"],[\"rain\"],[\"rain\"],[\"sun\"],[\"sun\"],[\"sun\"],[\"sun\"],[\"sun\"],[\"sun\"],[\"snow\"],[\"rain\"],[\"rain\"],[\"rain\"],[\"rain\"],[\"rain\"],[\"rain\"],[\"rain\"],[\"rain\"],[\"rain\"],[\"rain\"],[\"rain\"],[\"rain\"],[\"rain\"],[\"rain\"],[\"rain\"],[\"rain\"],[\"rain\"],[\"sun\"],[\"sun\"],[\"sun\"],[\"rain\"],[\"rain\"],[\"rain\"],[\"rain\"],[\"rain\"],[\"rain\"],[\"sun\"],[\"rain\"],[\"rain\"],[\"rain\"],[\"fog\"],[\"fog\"],[\"rain\"],[\"rain\"],[\"rain\"],[\"rain\"],[\"rain\"],[\"sun\"],[\"rain\"],[\"sun\"],[\"sun\"],[\"sun\"],[\"sun\"],[\"sun\"],[\"rain\"],[\"rain\"],[\"rain\"],[\"rain\"],[\"rain\"],[\"sun\"],[\"sun\"],[\"sun\"],[\"sun\"],[\"rain\"],[\"sun\"],[\"rain\"],[\"sun\"],[\"sun\"],[\"rain\"],[\"sun\"],[\"sun\"],[\"sun\"],[\"sun\"],[\"sun\"],[\"sun\"],[\"rain\"],[\"rain\"],[\"rain\"],[\"sun\"],[\"rain\"],[\"sun\"],[\"rain\"],[\"rain\"],[\"rain\"],[\"rain\"],[\"sun\"],[\"rain\"],[\"rain\"],[\"sun\"],[\"sun\"],[\"sun\"],[\"sun\"],[\"sun\"],[\"rain\"],[\"rain\"],[\"rain\"],[\"sun\"],[\"sun\"],[\"rain\"],[\"rain\"],[\"rain\"],[\"sun\"],[\"sun\"],[\"sun\"],[\"sun\"],[\"sun\"],[\"sun\"],[\"sun\"],[\"sun\"],[\"sun\"],[\"sun\"],[\"sun\"],[\"sun\"],[\"rain\"],[\"sun\"],[\"rain\"],[\"sun\"],[\"sun\"],[\"sun\"],[\"sun\"],[\"sun\"],[\"sun\"],[\"sun\"],[\"sun\"],[\"sun\"],[\"sun\"],[\"sun\"],[\"sun\"],[\"sun\"],[\"sun\"],[\"sun\"],[\"sun\"],[\"sun\"],[\"rain\"],[\"rain\"],[\"sun\"],[\"rain\"],[\"rain\"],[\"rain\"],[\"sun\"],[\"rain\"],[\"rain\"],[\"sun\"],[\"sun\"],[\"sun\"],[\"sun\"],[\"sun\"],[\"sun\"],[\"rain\"],[\"rain\"],[\"sun\"],[\"sun\"],[\"sun\"],[\"sun\"],[\"sun\"],[\"sun\"],[\"fog\"],[\"sun\"],[\"fog\"],[\"sun\"],[\"sun\"],[\"fog\"],[\"sun\"],[\"sun\"],[\"sun\"],[\"sun\"],[\"sun\"],[\"sun\"],[\"sun\"],[\"sun\"],[\"fog\"],[\"sun\"],[\"sun\"],[\"rain\"],[\"rain\"],[\"sun\"],[\"sun\"],[\"sun\"],[\"sun\"],[\"sun\"],[\"sun\"],[\"sun\"],[\"sun\"],[\"sun\"],[\"rain\"],[\"sun\"],[\"sun\"],[\"sun\"],[\"fog\"],[\"fog\"],[\"sun\"],[\"sun\"],[\"sun\"],[\"rain\"],[\"rain\"],[\"rain\"],[\"sun\"],[\"rain\"],[\"sun\"],[\"sun\"],[\"sun\"],[\"sun\"],[\"sun\"],[\"sun\"],[\"sun\"],[\"sun\"],[\"sun\"],[\"sun\"],[\"sun\"],[\"sun\"],[\"sun\"],[\"sun\"],[\"rain\"],[\"rain\"],[\"sun\"],[\"rain\"],[\"sun\"],[\"fog\"],[\"fog\"],[\"sun\"],[\"sun\"],[\"sun\"],[\"sun\"],[\"sun\"],[\"sun\"],[\"sun\"],[\"sun\"],[\"sun\"],[\"sun\"],[\"sun\"],[\"rain\"],[\"rain\"],[\"sun\"],[\"fog\"],[\"sun\"],[\"rain\"],[\"rain\"],[\"rain\"],[\"rain\"],[\"rain\"],[\"fog\"],[\"fog\"],[\"rain\"],[\"sun\"],[\"sun\"],[\"sun\"],[\"sun\"],[\"sun\"],[\"fog\"],[\"fog\"],[\"fog\"],[\"fog\"],[\"fog\"],[\"rain\"],[\"rain\"],[\"sun\"],[\"rain\"],[\"rain\"],[\"rain\"],[\"sun\"],[\"rain\"],[\"rain\"],[\"sun\"],[\"rain\"],[\"rain\"],[\"rain\"],[\"rain\"],[\"rain\"],[\"rain\"],[\"rain\"],[\"rain\"],[\"rain\"],[\"rain\"],[\"rain\"],[\"rain\"],[\"fog\"],[\"rain\"],[\"rain\"],[\"rain\"],[\"rain\"],[\"rain\"],[\"sun\"],[\"fog\"],[\"rain\"],[\"sun\"],[\"sun\"],[\"sun\"],[\"sun\"],[\"sun\"],[\"sun\"],[\"sun\"],[\"sun\"],[\"sun\"],[\"sun\"],[\"rain\"],[\"rain\"],[\"rain\"],[\"rain\"],[\"rain\"],[\"rain\"],[\"rain\"],[\"rain\"],[\"rain\"],[\"snow\"],[\"sun\"],[\"sun\"],[\"fog\"],[\"sun\"],[\"rain\"],[\"rain\"],[\"rain\"],[\"sun\"],[\"rain\"],[\"rain\"],[\"rain\"],[\"rain\"],[\"sun\"],[\"fog\"],[\"fog\"],[\"sun\"],[\"sun\"],[\"rain\"],[\"rain\"],[\"rain\"],[\"rain\"],[\"sun\"],[\"sun\"],[\"rain\"],[\"rain\"],[\"fog\"],[\"fog\"],[\"rain\"],[\"rain\"],[\"fog\"],[\"sun\"],[\"sun\"],[\"sun\"],[\"rain\"],[\"fog\"],[\"rain\"],[\"rain\"],[\"fog\"],[\"fog\"],[\"fog\"],[\"rain\"],[\"rain\"],[\"rain\"],[\"fog\"],[\"fog\"],[\"fog\"],[\"rain\"],[\"fog\"],[\"rain\"],[\"rain\"],[\"rain\"],[\"fog\"],[\"fog\"],[\"rain\"],[\"rain\"],[\"rain\"],[\"fog\"],[\"fog\"],[\"rain\"],[\"fog\"],[\"sun\"],[\"fog\"],[\"fog\"],[\"rain\"],[\"rain\"],[\"rain\"],[\"rain\"],[\"rain\"],[\"rain\"],[\"rain\"],[\"rain\"],[\"rain\"],[\"rain\"],[\"fog\"],[\"rain\"],[\"fog\"],[\"rain\"],[\"sun\"],[\"fog\"],[\"sun\"],[\"sun\"],[\"rain\"],[\"rain\"],[\"sun\"],[\"sun\"],[\"sun\"],[\"sun\"],[\"rain\"],[\"rain\"],[\"rain\"],[\"sun\"],[\"sun\"],[\"sun\"],[\"sun\"],[\"sun\"],[\"sun\"],[\"sun\"],[\"fog\"],[\"fog\"],[\"fog\"],[\"rain\"],[\"rain\"],[\"sun\"],[\"rain\"],[\"rain\"],[\"rain\"],[\"rain\"],[\"rain\"],[\"sun\"],[\"sun\"],[\"rain\"],[\"rain\"],[\"rain\"],[\"rain\"],[\"rain\"],[\"rain\"],[\"sun\"],[\"rain\"],[\"sun\"],[\"sun\"],[\"rain\"],[\"rain\"],[\"rain\"],[\"sun\"],[\"rain\"],[\"sun\"],[\"sun\"],[\"rain\"],[\"rain\"],[\"sun\"],[\"sun\"],[\"rain\"],[\"sun\"],[\"sun\"],[\"rain\"],[\"rain\"],[\"sun\"],[\"sun\"],[\"sun\"],[\"sun\"],[\"sun\"],[\"sun\"],[\"rain\"],[\"sun\"],[\"rain\"],[\"rain\"],[\"rain\"],[\"fog\"],[\"rain\"],[\"rain\"],[\"sun\"],[\"sun\"],[\"sun\"],[\"sun\"],[\"sun\"],[\"sun\"],[\"rain\"],[\"fog\"],[\"sun\"],[\"sun\"],[\"sun\"],[\"sun\"],[\"fog\"],[\"rain\"],[\"rain\"],[\"rain\"],[\"fog\"],[\"sun\"],[\"sun\"],[\"sun\"],[\"sun\"],[\"fog\"],[\"sun\"],[\"sun\"],[\"sun\"],[\"sun\"],[\"sun\"],[\"sun\"],[\"sun\"],[\"sun\"],[\"sun\"],[\"sun\"],[\"sun\"],[\"rain\"],[\"rain\"],[\"sun\"],[\"sun\"],[\"sun\"],[\"sun\"],[\"sun\"],[\"sun\"],[\"sun\"],[\"sun\"],[\"sun\"],[\"sun\"],[\"sun\"],[\"sun\"],[\"drizzle\"],[\"sun\"],[\"sun\"],[\"sun\"],[\"rain\"],[\"sun\"],[\"sun\"],[\"sun\"],[\"sun\"],[\"sun\"],[\"sun\"],[\"sun\"],[\"sun\"],[\"rain\"],[\"sun\"],[\"fog\"],[\"sun\"],[\"sun\"],[\"sun\"],[\"sun\"],[\"sun\"],[\"drizzle\"],[\"sun\"],[\"drizzle\"],[\"sun\"],[\"sun\"],[\"sun\"],[\"sun\"],[\"sun\"],[\"sun\"],[\"sun\"],[\"sun\"],[\"sun\"],[\"sun\"],[\"sun\"],[\"sun\"],[\"sun\"],[\"sun\"],[\"sun\"],[\"rain\"],[\"fog\"],[\"rain\"],[\"fog\"],[\"sun\"],[\"sun\"],[\"sun\"],[\"sun\"],[\"sun\"],[\"sun\"],[\"sun\"],[\"fog\"],[\"sun\"],[\"sun\"],[\"sun\"],[\"fog\"],[\"sun\"],[\"sun\"],[\"sun\"],[\"rain\"],[\"sun\"],[\"rain\"],[\"sun\"],[\"sun\"],[\"sun\"],[\"sun\"],[\"drizzle\"],[\"rain\"],[\"sun\"],[\"drizzle\"],[\"drizzle\"],[\"sun\"],[\"sun\"],[\"sun\"],[\"sun\"],[\"rain\"],[\"rain\"],[\"rain\"],[\"sun\"],[\"rain\"],[\"sun\"],[\"sun\"],[\"sun\"],[\"rain\"],[\"rain\"],[\"rain\"],[\"sun\"],[\"sun\"],[\"fog\"],[\"sun\"],[\"sun\"],[\"rain\"],[\"sun\"],[\"sun\"],[\"rain\"],[\"rain\"],[\"sun\"],[\"sun\"],[\"rain\"],[\"fog\"],[\"sun\"],[\"sun\"],[\"fog\"],[\"rain\"],[\"sun\"],[\"sun\"],[\"sun\"],[\"sun\"],[\"fog\"],[\"fog\"],[\"fog\"],[\"sun\"],[\"sun\"],[\"sun\"],[\"drizzle\"],[\"rain\"],[\"fog\"],[\"rain\"],[\"rain\"],[\"sun\"],[\"rain\"],[\"rain\"],[\"fog\"],[\"fog\"],[\"sun\"],[\"rain\"],[\"rain\"],[\"rain\"],[\"fog\"],[\"fog\"],[\"fog\"],[\"fog\"],[\"fog\"],[\"rain\"],[\"rain\"],[\"fog\"],[\"rain\"],[\"rain\"],[\"rain\"],[\"rain\"],[\"rain\"],[\"rain\"],[\"rain\"],[\"sun\"],[\"rain\"],[\"fog\"],[\"rain\"],[\"rain\"],[\"rain\"],[\"rain\"],[\"rain\"],[\"rain\"],[\"rain\"],[\"rain\"],[\"rain\"],[\"rain\"],[\"rain\"],[\"rain\"],[\"rain\"],[\"fog\"],[\"sun\"],[\"fog\"],[\"rain\"],[\"rain\"],[\"sun\"],[\"sun\"],[\"sun\"],[\"sun\"],[\"fog\"],[\"rain\"],[\"rain\"],[\"rain\"],[\"rain\"],[\"rain\"],[\"rain\"],[\"rain\"],[\"rain\"],[\"rain\"],[\"rain\"],[\"rain\"],[\"rain\"],[\"rain\"],[\"rain\"],[\"sun\"],[\"rain\"],[\"rain\"],[\"rain\"],[\"rain\"],[\"fog\"],[\"rain\"],[\"rain\"],[\"rain\"],[\"rain\"],[\"rain\"],[\"rain\"],[\"sun\"],[\"rain\"],[\"rain\"],[\"fog\"],[\"sun\"],[\"sun\"]],\"domain\":{\"x\":[0.0,1.0],\"y\":[0.0,1.0]},\"hovertemplate\":\"weather=%{customdata[0]}\\u003cextra\\u003e\\u003c\\u002fextra\\u003e\",\"labels\":[\"drizzle\",\"rain\",\"rain\",\"rain\",\"rain\",\"rain\",\"rain\",\"sun\",\"rain\",\"rain\",\"sun\",\"sun\",\"sun\",\"snow\",\"snow\",\"snow\",\"snow\",\"snow\",\"snow\",\"snow\",\"rain\",\"rain\",\"rain\",\"rain\",\"rain\",\"rain\",\"drizzle\",\"rain\",\"rain\",\"rain\",\"rain\",\"rain\",\"sun\",\"sun\",\"sun\",\"sun\",\"sun\",\"rain\",\"rain\",\"rain\",\"rain\",\"rain\",\"rain\",\"rain\",\"rain\",\"drizzle\",\"rain\",\"rain\",\"rain\",\"sun\",\"rain\",\"rain\",\"rain\",\"sun\",\"rain\",\"rain\",\"snow\",\"sun\",\"snow\",\"snow\",\"sun\",\"rain\",\"sun\",\"rain\",\"rain\",\"snow\",\"sun\",\"sun\",\"rain\",\"rain\",\"rain\",\"snow\",\"snow\",\"rain\",\"snow\",\"rain\",\"snow\",\"rain\",\"rain\",\"rain\",\"rain\",\"rain\",\"sun\",\"sun\",\"rain\",\"drizzle\",\"rain\",\"rain\",\"rain\",\"rain\",\"rain\",\"rain\",\"sun\",\"rain\",\"sun\",\"snow\",\"rain\",\"sun\",\"sun\",\"sun\",\"rain\",\"rain\",\"rain\",\"drizzle\",\"sun\",\"rain\",\"rain\",\"rain\",\"rain\",\"rain\",\"rain\",\"sun\",\"rain\",\"sun\",\"rain\",\"rain\",\"rain\",\"rain\",\"drizzle\",\"rain\",\"rain\",\"rain\",\"rain\",\"rain\",\"rain\",\"sun\",\"sun\",\"sun\",\"sun\",\"rain\",\"sun\",\"sun\",\"sun\",\"sun\",\"sun\",\"drizzle\",\"sun\",\"rain\",\"rain\",\"sun\",\"rain\",\"rain\",\"rain\",\"rain\",\"rain\",\"rain\",\"sun\",\"sun\",\"rain\",\"sun\",\"rain\",\"rain\",\"rain\",\"rain\",\"sun\",\"rain\",\"rain\",\"sun\",\"rain\",\"rain\",\"rain\",\"sun\",\"rain\",\"rain\",\"sun\",\"sun\",\"sun\",\"rain\",\"sun\",\"rain\",\"rain\",\"sun\",\"sun\",\"rain\",\"rain\",\"drizzle\",\"rain\",\"rain\",\"sun\",\"rain\",\"rain\",\"rain\",\"rain\",\"rain\",\"rain\",\"sun\",\"drizzle\",\"sun\",\"sun\",\"rain\",\"rain\",\"drizzle\",\"fog\",\"drizzle\",\"rain\",\"rain\",\"rain\",\"rain\",\"sun\",\"sun\",\"sun\",\"rain\",\"sun\",\"rain\",\"rain\",\"sun\",\"sun\",\"drizzle\",\"drizzle\",\"drizzle\",\"sun\",\"sun\",\"sun\",\"drizzle\",\"sun\",\"sun\",\"sun\",\"sun\",\"rain\",\"drizzle\",\"sun\",\"drizzle\",\"sun\",\"sun\",\"sun\",\"sun\",\"sun\",\"sun\",\"sun\",\"sun\",\"drizzle\",\"drizzle\",\"sun\",\"rain\",\"sun\",\"sun\",\"sun\",\"sun\",\"sun\",\"sun\",\"sun\",\"sun\",\"sun\",\"sun\",\"sun\",\"sun\",\"sun\",\"sun\",\"sun\",\"sun\",\"sun\",\"sun\",\"rain\",\"rain\",\"sun\",\"sun\",\"sun\",\"sun\",\"sun\",\"sun\",\"fog\",\"sun\",\"drizzle\",\"drizzle\",\"drizzle\",\"rain\",\"fog\",\"fog\",\"sun\",\"drizzle\",\"drizzle\",\"rain\",\"sun\",\"sun\",\"sun\",\"sun\",\"sun\",\"sun\",\"sun\",\"sun\",\"sun\",\"sun\",\"drizzle\",\"drizzle\",\"drizzle\",\"rain\",\"rain\",\"rain\",\"rain\",\"sun\",\"sun\",\"rain\",\"rain\",\"rain\",\"rain\",\"rain\",\"rain\",\"rain\",\"sun\",\"rain\",\"rain\",\"rain\",\"rain\",\"rain\",\"rain\",\"rain\",\"rain\",\"rain\",\"rain\",\"rain\",\"rain\",\"rain\",\"rain\",\"rain\",\"sun\",\"rain\",\"rain\",\"rain\",\"rain\",\"drizzle\",\"rain\",\"rain\",\"rain\",\"rain\",\"rain\",\"rain\",\"rain\",\"rain\",\"rain\",\"drizzle\",\"fog\",\"sun\",\"rain\",\"rain\",\"rain\",\"rain\",\"rain\",\"rain\",\"rain\",\"rain\",\"rain\",\"rain\",\"sun\",\"rain\",\"rain\",\"rain\",\"rain\",\"rain\",\"rain\",\"snow\",\"snow\",\"rain\",\"snow\",\"snow\",\"rain\",\"rain\",\"rain\",\"rain\",\"rain\",\"snow\",\"rain\",\"rain\",\"rain\",\"rain\",\"drizzle\",\"drizzle\",\"sun\",\"sun\",\"rain\",\"rain\",\"rain\",\"rain\",\"rain\",\"rain\",\"rain\",\"snow\",\"drizzle\",\"sun\",\"sun\",\"sun\",\"sun\",\"drizzle\",\"drizzle\",\"drizzle\",\"drizzle\",\"drizzle\",\"drizzle\",\"drizzle\",\"rain\",\"rain\",\"rain\",\"rain\",\"rain\",\"rain\",\"rain\",\"rain\",\"rain\",\"rain\",\"drizzle\",\"rain\",\"rain\",\"rain\",\"rain\",\"rain\",\"sun\",\"rain\",\"drizzle\",\"rain\",\"rain\",\"rain\",\"rain\",\"drizzle\",\"rain\",\"rain\",\"rain\",\"sun\",\"rain\",\"rain\",\"rain\",\"rain\",\"rain\",\"rain\",\"rain\",\"rain\",\"rain\",\"rain\",\"rain\",\"sun\",\"sun\",\"rain\",\"rain\",\"rain\",\"drizzle\",\"fog\",\"rain\",\"rain\",\"rain\",\"rain\",\"rain\",\"rain\",\"rain\",\"sun\",\"rain\",\"rain\",\"rain\",\"snow\",\"sun\",\"sun\",\"sun\",\"sun\",\"sun\",\"rain\",\"rain\",\"rain\",\"drizzle\",\"sun\",\"sun\",\"sun\",\"sun\",\"rain\",\"rain\",\"rain\",\"rain\",\"rain\",\"sun\",\"rain\",\"rain\",\"rain\",\"rain\",\"rain\",\"fog\",\"rain\",\"drizzle\",\"rain\",\"rain\",\"sun\",\"rain\",\"sun\",\"sun\",\"sun\",\"sun\",\"fog\",\"sun\",\"rain\",\"rain\",\"sun\",\"sun\",\"sun\",\"sun\",\"sun\",\"sun\",\"sun\",\"sun\",\"sun\",\"sun\",\"sun\",\"sun\",\"rain\",\"rain\",\"sun\",\"rain\",\"fog\",\"rain\",\"sun\",\"sun\",\"sun\",\"rain\",\"rain\",\"rain\",\"rain\",\"sun\",\"rain\",\"rain\",\"rain\",\"rain\",\"sun\",\"sun\",\"sun\",\"rain\",\"sun\",\"sun\",\"sun\",\"sun\",\"sun\",\"sun\",\"sun\",\"sun\",\"sun\",\"rain\",\"sun\",\"sun\",\"sun\",\"sun\",\"sun\",\"rain\",\"sun\",\"rain\",\"rain\",\"sun\",\"rain\",\"rain\",\"rain\",\"rain\",\"rain\",\"sun\",\"sun\",\"sun\",\"sun\",\"sun\",\"sun\",\"fog\",\"sun\",\"sun\",\"sun\",\"sun\",\"sun\",\"sun\",\"sun\",\"sun\",\"sun\",\"sun\",\"sun\",\"sun\",\"sun\",\"sun\",\"sun\",\"sun\",\"sun\",\"fog\",\"sun\",\"sun\",\"sun\",\"sun\",\"sun\",\"fog\",\"sun\",\"sun\",\"sun\",\"sun\",\"rain\",\"fog\",\"sun\",\"sun\",\"sun\",\"sun\",\"sun\",\"sun\",\"rain\",\"sun\",\"sun\",\"sun\",\"rain\",\"rain\",\"fog\",\"sun\",\"sun\",\"sun\",\"sun\",\"sun\",\"sun\",\"sun\",\"sun\",\"rain\",\"rain\",\"rain\",\"rain\",\"rain\",\"sun\",\"sun\",\"sun\",\"sun\",\"rain\",\"rain\",\"rain\",\"rain\",\"sun\",\"fog\",\"sun\",\"sun\",\"sun\",\"sun\",\"sun\",\"fog\",\"rain\",\"rain\",\"sun\",\"sun\",\"sun\",\"rain\",\"sun\",\"rain\",\"rain\",\"sun\",\"rain\",\"sun\",\"rain\",\"rain\",\"rain\",\"rain\",\"rain\",\"rain\",\"rain\",\"sun\",\"sun\",\"rain\",\"rain\",\"rain\",\"sun\",\"rain\",\"rain\",\"rain\",\"fog\",\"sun\",\"sun\",\"fog\",\"fog\",\"sun\",\"sun\",\"sun\",\"sun\",\"sun\",\"sun\",\"sun\",\"sun\",\"sun\",\"rain\",\"sun\",\"sun\",\"rain\",\"rain\",\"rain\",\"rain\",\"rain\",\"drizzle\",\"rain\",\"rain\",\"rain\",\"sun\",\"rain\",\"sun\",\"fog\",\"rain\",\"sun\",\"rain\",\"rain\",\"sun\",\"rain\",\"rain\",\"rain\",\"sun\",\"sun\",\"sun\",\"sun\",\"fog\",\"sun\",\"sun\",\"sun\",\"sun\",\"rain\",\"rain\",\"rain\",\"rain\",\"sun\",\"sun\",\"sun\",\"sun\",\"sun\",\"sun\",\"sun\",\"sun\",\"sun\",\"rain\",\"rain\",\"sun\",\"rain\",\"rain\",\"sun\",\"rain\",\"sun\",\"snow\",\"rain\",\"rain\",\"rain\",\"sun\",\"sun\",\"sun\",\"rain\",\"sun\",\"sun\",\"rain\",\"rain\",\"sun\",\"rain\",\"rain\",\"fog\",\"sun\",\"rain\",\"rain\",\"rain\",\"rain\",\"rain\",\"rain\",\"rain\",\"sun\",\"sun\",\"sun\",\"sun\",\"sun\",\"sun\",\"sun\",\"sun\",\"sun\",\"rain\",\"fog\",\"sun\",\"sun\",\"sun\",\"sun\",\"rain\",\"rain\",\"sun\",\"rain\",\"rain\",\"sun\",\"sun\",\"sun\",\"sun\",\"sun\",\"sun\",\"snow\",\"rain\",\"rain\",\"rain\",\"rain\",\"rain\",\"rain\",\"rain\",\"rain\",\"rain\",\"rain\",\"rain\",\"rain\",\"rain\",\"rain\",\"rain\",\"rain\",\"rain\",\"sun\",\"sun\",\"sun\",\"rain\",\"rain\",\"rain\",\"rain\",\"rain\",\"rain\",\"sun\",\"rain\",\"rain\",\"rain\",\"fog\",\"fog\",\"rain\",\"rain\",\"rain\",\"rain\",\"rain\",\"sun\",\"rain\",\"sun\",\"sun\",\"sun\",\"sun\",\"sun\",\"rain\",\"rain\",\"rain\",\"rain\",\"rain\",\"sun\",\"sun\",\"sun\",\"sun\",\"rain\",\"sun\",\"rain\",\"sun\",\"sun\",\"rain\",\"sun\",\"sun\",\"sun\",\"sun\",\"sun\",\"sun\",\"rain\",\"rain\",\"rain\",\"sun\",\"rain\",\"sun\",\"rain\",\"rain\",\"rain\",\"rain\",\"sun\",\"rain\",\"rain\",\"sun\",\"sun\",\"sun\",\"sun\",\"sun\",\"rain\",\"rain\",\"rain\",\"sun\",\"sun\",\"rain\",\"rain\",\"rain\",\"sun\",\"sun\",\"sun\",\"sun\",\"sun\",\"sun\",\"sun\",\"sun\",\"sun\",\"sun\",\"sun\",\"sun\",\"rain\",\"sun\",\"rain\",\"sun\",\"sun\",\"sun\",\"sun\",\"sun\",\"sun\",\"sun\",\"sun\",\"sun\",\"sun\",\"sun\",\"sun\",\"sun\",\"sun\",\"sun\",\"sun\",\"sun\",\"rain\",\"rain\",\"sun\",\"rain\",\"rain\",\"rain\",\"sun\",\"rain\",\"rain\",\"sun\",\"sun\",\"sun\",\"sun\",\"sun\",\"sun\",\"rain\",\"rain\",\"sun\",\"sun\",\"sun\",\"sun\",\"sun\",\"sun\",\"fog\",\"sun\",\"fog\",\"sun\",\"sun\",\"fog\",\"sun\",\"sun\",\"sun\",\"sun\",\"sun\",\"sun\",\"sun\",\"sun\",\"fog\",\"sun\",\"sun\",\"rain\",\"rain\",\"sun\",\"sun\",\"sun\",\"sun\",\"sun\",\"sun\",\"sun\",\"sun\",\"sun\",\"rain\",\"sun\",\"sun\",\"sun\",\"fog\",\"fog\",\"sun\",\"sun\",\"sun\",\"rain\",\"rain\",\"rain\",\"sun\",\"rain\",\"sun\",\"sun\",\"sun\",\"sun\",\"sun\",\"sun\",\"sun\",\"sun\",\"sun\",\"sun\",\"sun\",\"sun\",\"sun\",\"sun\",\"rain\",\"rain\",\"sun\",\"rain\",\"sun\",\"fog\",\"fog\",\"sun\",\"sun\",\"sun\",\"sun\",\"sun\",\"sun\",\"sun\",\"sun\",\"sun\",\"sun\",\"sun\",\"rain\",\"rain\",\"sun\",\"fog\",\"sun\",\"rain\",\"rain\",\"rain\",\"rain\",\"rain\",\"fog\",\"fog\",\"rain\",\"sun\",\"sun\",\"sun\",\"sun\",\"sun\",\"fog\",\"fog\",\"fog\",\"fog\",\"fog\",\"rain\",\"rain\",\"sun\",\"rain\",\"rain\",\"rain\",\"sun\",\"rain\",\"rain\",\"sun\",\"rain\",\"rain\",\"rain\",\"rain\",\"rain\",\"rain\",\"rain\",\"rain\",\"rain\",\"rain\",\"rain\",\"rain\",\"fog\",\"rain\",\"rain\",\"rain\",\"rain\",\"rain\",\"sun\",\"fog\",\"rain\",\"sun\",\"sun\",\"sun\",\"sun\",\"sun\",\"sun\",\"sun\",\"sun\",\"sun\",\"sun\",\"rain\",\"rain\",\"rain\",\"rain\",\"rain\",\"rain\",\"rain\",\"rain\",\"rain\",\"snow\",\"sun\",\"sun\",\"fog\",\"sun\",\"rain\",\"rain\",\"rain\",\"sun\",\"rain\",\"rain\",\"rain\",\"rain\",\"sun\",\"fog\",\"fog\",\"sun\",\"sun\",\"rain\",\"rain\",\"rain\",\"rain\",\"sun\",\"sun\",\"rain\",\"rain\",\"fog\",\"fog\",\"rain\",\"rain\",\"fog\",\"sun\",\"sun\",\"sun\",\"rain\",\"fog\",\"rain\",\"rain\",\"fog\",\"fog\",\"fog\",\"rain\",\"rain\",\"rain\",\"fog\",\"fog\",\"fog\",\"rain\",\"fog\",\"rain\",\"rain\",\"rain\",\"fog\",\"fog\",\"rain\",\"rain\",\"rain\",\"fog\",\"fog\",\"rain\",\"fog\",\"sun\",\"fog\",\"fog\",\"rain\",\"rain\",\"rain\",\"rain\",\"rain\",\"rain\",\"rain\",\"rain\",\"rain\",\"rain\",\"fog\",\"rain\",\"fog\",\"rain\",\"sun\",\"fog\",\"sun\",\"sun\",\"rain\",\"rain\",\"sun\",\"sun\",\"sun\",\"sun\",\"rain\",\"rain\",\"rain\",\"sun\",\"sun\",\"sun\",\"sun\",\"sun\",\"sun\",\"sun\",\"fog\",\"fog\",\"fog\",\"rain\",\"rain\",\"sun\",\"rain\",\"rain\",\"rain\",\"rain\",\"rain\",\"sun\",\"sun\",\"rain\",\"rain\",\"rain\",\"rain\",\"rain\",\"rain\",\"sun\",\"rain\",\"sun\",\"sun\",\"rain\",\"rain\",\"rain\",\"sun\",\"rain\",\"sun\",\"sun\",\"rain\",\"rain\",\"sun\",\"sun\",\"rain\",\"sun\",\"sun\",\"rain\",\"rain\",\"sun\",\"sun\",\"sun\",\"sun\",\"sun\",\"sun\",\"rain\",\"sun\",\"rain\",\"rain\",\"rain\",\"fog\",\"rain\",\"rain\",\"sun\",\"sun\",\"sun\",\"sun\",\"sun\",\"sun\",\"rain\",\"fog\",\"sun\",\"sun\",\"sun\",\"sun\",\"fog\",\"rain\",\"rain\",\"rain\",\"fog\",\"sun\",\"sun\",\"sun\",\"sun\",\"fog\",\"sun\",\"sun\",\"sun\",\"sun\",\"sun\",\"sun\",\"sun\",\"sun\",\"sun\",\"sun\",\"sun\",\"rain\",\"rain\",\"sun\",\"sun\",\"sun\",\"sun\",\"sun\",\"sun\",\"sun\",\"sun\",\"sun\",\"sun\",\"sun\",\"sun\",\"drizzle\",\"sun\",\"sun\",\"sun\",\"rain\",\"sun\",\"sun\",\"sun\",\"sun\",\"sun\",\"sun\",\"sun\",\"sun\",\"rain\",\"sun\",\"fog\",\"sun\",\"sun\",\"sun\",\"sun\",\"sun\",\"drizzle\",\"sun\",\"drizzle\",\"sun\",\"sun\",\"sun\",\"sun\",\"sun\",\"sun\",\"sun\",\"sun\",\"sun\",\"sun\",\"sun\",\"sun\",\"sun\",\"sun\",\"sun\",\"rain\",\"fog\",\"rain\",\"fog\",\"sun\",\"sun\",\"sun\",\"sun\",\"sun\",\"sun\",\"sun\",\"fog\",\"sun\",\"sun\",\"sun\",\"fog\",\"sun\",\"sun\",\"sun\",\"rain\",\"sun\",\"rain\",\"sun\",\"sun\",\"sun\",\"sun\",\"drizzle\",\"rain\",\"sun\",\"drizzle\",\"drizzle\",\"sun\",\"sun\",\"sun\",\"sun\",\"rain\",\"rain\",\"rain\",\"sun\",\"rain\",\"sun\",\"sun\",\"sun\",\"rain\",\"rain\",\"rain\",\"sun\",\"sun\",\"fog\",\"sun\",\"sun\",\"rain\",\"sun\",\"sun\",\"rain\",\"rain\",\"sun\",\"sun\",\"rain\",\"fog\",\"sun\",\"sun\",\"fog\",\"rain\",\"sun\",\"sun\",\"sun\",\"sun\",\"fog\",\"fog\",\"fog\",\"sun\",\"sun\",\"sun\",\"drizzle\",\"rain\",\"fog\",\"rain\",\"rain\",\"sun\",\"rain\",\"rain\",\"fog\",\"fog\",\"sun\",\"rain\",\"rain\",\"rain\",\"fog\",\"fog\",\"fog\",\"fog\",\"fog\",\"rain\",\"rain\",\"fog\",\"rain\",\"rain\",\"rain\",\"rain\",\"rain\",\"rain\",\"rain\",\"sun\",\"rain\",\"fog\",\"rain\",\"rain\",\"rain\",\"rain\",\"rain\",\"rain\",\"rain\",\"rain\",\"rain\",\"rain\",\"rain\",\"rain\",\"rain\",\"fog\",\"sun\",\"fog\",\"rain\",\"rain\",\"sun\",\"sun\",\"sun\",\"sun\",\"fog\",\"rain\",\"rain\",\"rain\",\"rain\",\"rain\",\"rain\",\"rain\",\"rain\",\"rain\",\"rain\",\"rain\",\"rain\",\"rain\",\"rain\",\"sun\",\"rain\",\"rain\",\"rain\",\"rain\",\"fog\",\"rain\",\"rain\",\"rain\",\"rain\",\"rain\",\"rain\",\"sun\",\"rain\",\"rain\",\"fog\",\"sun\",\"sun\"],\"legendgroup\":\"\",\"marker\":{\"colors\":[\"#636efa\",\"#EF553B\",\"#EF553B\",\"#EF553B\",\"#EF553B\",\"#EF553B\",\"#EF553B\",\"#00cc96\",\"#EF553B\",\"#EF553B\",\"#00cc96\",\"#00cc96\",\"#00cc96\",\"#ab63fa\",\"#ab63fa\",\"#ab63fa\",\"#ab63fa\",\"#ab63fa\",\"#ab63fa\",\"#ab63fa\",\"#EF553B\",\"#EF553B\",\"#EF553B\",\"#EF553B\",\"#EF553B\",\"#EF553B\",\"#636efa\",\"#EF553B\",\"#EF553B\",\"#EF553B\",\"#EF553B\",\"#EF553B\",\"#00cc96\",\"#00cc96\",\"#00cc96\",\"#00cc96\",\"#00cc96\",\"#EF553B\",\"#EF553B\",\"#EF553B\",\"#EF553B\",\"#EF553B\",\"#EF553B\",\"#EF553B\",\"#EF553B\",\"#636efa\",\"#EF553B\",\"#EF553B\",\"#EF553B\",\"#00cc96\",\"#EF553B\",\"#EF553B\",\"#EF553B\",\"#00cc96\",\"#EF553B\",\"#EF553B\",\"#ab63fa\",\"#00cc96\",\"#ab63fa\",\"#ab63fa\",\"#00cc96\",\"#EF553B\",\"#00cc96\",\"#EF553B\",\"#EF553B\",\"#ab63fa\",\"#00cc96\",\"#00cc96\",\"#EF553B\",\"#EF553B\",\"#EF553B\",\"#ab63fa\",\"#ab63fa\",\"#EF553B\",\"#ab63fa\",\"#EF553B\",\"#ab63fa\",\"#EF553B\",\"#EF553B\",\"#EF553B\",\"#EF553B\",\"#EF553B\",\"#00cc96\",\"#00cc96\",\"#EF553B\",\"#636efa\",\"#EF553B\",\"#EF553B\",\"#EF553B\",\"#EF553B\",\"#EF553B\",\"#EF553B\",\"#00cc96\",\"#EF553B\",\"#00cc96\",\"#ab63fa\",\"#EF553B\",\"#00cc96\",\"#00cc96\",\"#00cc96\",\"#EF553B\",\"#EF553B\",\"#EF553B\",\"#636efa\",\"#00cc96\",\"#EF553B\",\"#EF553B\",\"#EF553B\",\"#EF553B\",\"#EF553B\",\"#EF553B\",\"#00cc96\",\"#EF553B\",\"#00cc96\",\"#EF553B\",\"#EF553B\",\"#EF553B\",\"#EF553B\",\"#636efa\",\"#EF553B\",\"#EF553B\",\"#EF553B\",\"#EF553B\",\"#EF553B\",\"#EF553B\",\"#00cc96\",\"#00cc96\",\"#00cc96\",\"#00cc96\",\"#EF553B\",\"#00cc96\",\"#00cc96\",\"#00cc96\",\"#00cc96\",\"#00cc96\",\"#636efa\",\"#00cc96\",\"#EF553B\",\"#EF553B\",\"#00cc96\",\"#EF553B\",\"#EF553B\",\"#EF553B\",\"#EF553B\",\"#EF553B\",\"#EF553B\",\"#00cc96\",\"#00cc96\",\"#EF553B\",\"#00cc96\",\"#EF553B\",\"#EF553B\",\"#EF553B\",\"#EF553B\",\"#00cc96\",\"#EF553B\",\"#EF553B\",\"#00cc96\",\"#EF553B\",\"#EF553B\",\"#EF553B\",\"#00cc96\",\"#EF553B\",\"#EF553B\",\"#00cc96\",\"#00cc96\",\"#00cc96\",\"#EF553B\",\"#00cc96\",\"#EF553B\",\"#EF553B\",\"#00cc96\",\"#00cc96\",\"#EF553B\",\"#EF553B\",\"#636efa\",\"#EF553B\",\"#EF553B\",\"#00cc96\",\"#EF553B\",\"#EF553B\",\"#EF553B\",\"#EF553B\",\"#EF553B\",\"#EF553B\",\"#00cc96\",\"#636efa\",\"#00cc96\",\"#00cc96\",\"#EF553B\",\"#EF553B\",\"#636efa\",\"#FFA15A\",\"#636efa\",\"#EF553B\",\"#EF553B\",\"#EF553B\",\"#EF553B\",\"#00cc96\",\"#00cc96\",\"#00cc96\",\"#EF553B\",\"#00cc96\",\"#EF553B\",\"#EF553B\",\"#00cc96\",\"#00cc96\",\"#636efa\",\"#636efa\",\"#636efa\",\"#00cc96\",\"#00cc96\",\"#00cc96\",\"#636efa\",\"#00cc96\",\"#00cc96\",\"#00cc96\",\"#00cc96\",\"#EF553B\",\"#636efa\",\"#00cc96\",\"#636efa\",\"#00cc96\",\"#00cc96\",\"#00cc96\",\"#00cc96\",\"#00cc96\",\"#00cc96\",\"#00cc96\",\"#00cc96\",\"#636efa\",\"#636efa\",\"#00cc96\",\"#EF553B\",\"#00cc96\",\"#00cc96\",\"#00cc96\",\"#00cc96\",\"#00cc96\",\"#00cc96\",\"#00cc96\",\"#00cc96\",\"#00cc96\",\"#00cc96\",\"#00cc96\",\"#00cc96\",\"#00cc96\",\"#00cc96\",\"#00cc96\",\"#00cc96\",\"#00cc96\",\"#00cc96\",\"#EF553B\",\"#EF553B\",\"#00cc96\",\"#00cc96\",\"#00cc96\",\"#00cc96\",\"#00cc96\",\"#00cc96\",\"#FFA15A\",\"#00cc96\",\"#636efa\",\"#636efa\",\"#636efa\",\"#EF553B\",\"#FFA15A\",\"#FFA15A\",\"#00cc96\",\"#636efa\",\"#636efa\",\"#EF553B\",\"#00cc96\",\"#00cc96\",\"#00cc96\",\"#00cc96\",\"#00cc96\",\"#00cc96\",\"#00cc96\",\"#00cc96\",\"#00cc96\",\"#00cc96\",\"#636efa\",\"#636efa\",\"#636efa\",\"#EF553B\",\"#EF553B\",\"#EF553B\",\"#EF553B\",\"#00cc96\",\"#00cc96\",\"#EF553B\",\"#EF553B\",\"#EF553B\",\"#EF553B\",\"#EF553B\",\"#EF553B\",\"#EF553B\",\"#00cc96\",\"#EF553B\",\"#EF553B\",\"#EF553B\",\"#EF553B\",\"#EF553B\",\"#EF553B\",\"#EF553B\",\"#EF553B\",\"#EF553B\",\"#EF553B\",\"#EF553B\",\"#EF553B\",\"#EF553B\",\"#EF553B\",\"#EF553B\",\"#00cc96\",\"#EF553B\",\"#EF553B\",\"#EF553B\",\"#EF553B\",\"#636efa\",\"#EF553B\",\"#EF553B\",\"#EF553B\",\"#EF553B\",\"#EF553B\",\"#EF553B\",\"#EF553B\",\"#EF553B\",\"#EF553B\",\"#636efa\",\"#FFA15A\",\"#00cc96\",\"#EF553B\",\"#EF553B\",\"#EF553B\",\"#EF553B\",\"#EF553B\",\"#EF553B\",\"#EF553B\",\"#EF553B\",\"#EF553B\",\"#EF553B\",\"#00cc96\",\"#EF553B\",\"#EF553B\",\"#EF553B\",\"#EF553B\",\"#EF553B\",\"#EF553B\",\"#ab63fa\",\"#ab63fa\",\"#EF553B\",\"#ab63fa\",\"#ab63fa\",\"#EF553B\",\"#EF553B\",\"#EF553B\",\"#EF553B\",\"#EF553B\",\"#ab63fa\",\"#EF553B\",\"#EF553B\",\"#EF553B\",\"#EF553B\",\"#636efa\",\"#636efa\",\"#00cc96\",\"#00cc96\",\"#EF553B\",\"#EF553B\",\"#EF553B\",\"#EF553B\",\"#EF553B\",\"#EF553B\",\"#EF553B\",\"#ab63fa\",\"#636efa\",\"#00cc96\",\"#00cc96\",\"#00cc96\",\"#00cc96\",\"#636efa\",\"#636efa\",\"#636efa\",\"#636efa\",\"#636efa\",\"#636efa\",\"#636efa\",\"#EF553B\",\"#EF553B\",\"#EF553B\",\"#EF553B\",\"#EF553B\",\"#EF553B\",\"#EF553B\",\"#EF553B\",\"#EF553B\",\"#EF553B\",\"#636efa\",\"#EF553B\",\"#EF553B\",\"#EF553B\",\"#EF553B\",\"#EF553B\",\"#00cc96\",\"#EF553B\",\"#636efa\",\"#EF553B\",\"#EF553B\",\"#EF553B\",\"#EF553B\",\"#636efa\",\"#EF553B\",\"#EF553B\",\"#EF553B\",\"#00cc96\",\"#EF553B\",\"#EF553B\",\"#EF553B\",\"#EF553B\",\"#EF553B\",\"#EF553B\",\"#EF553B\",\"#EF553B\",\"#EF553B\",\"#EF553B\",\"#EF553B\",\"#00cc96\",\"#00cc96\",\"#EF553B\",\"#EF553B\",\"#EF553B\",\"#636efa\",\"#FFA15A\",\"#EF553B\",\"#EF553B\",\"#EF553B\",\"#EF553B\",\"#EF553B\",\"#EF553B\",\"#EF553B\",\"#00cc96\",\"#EF553B\",\"#EF553B\",\"#EF553B\",\"#ab63fa\",\"#00cc96\",\"#00cc96\",\"#00cc96\",\"#00cc96\",\"#00cc96\",\"#EF553B\",\"#EF553B\",\"#EF553B\",\"#636efa\",\"#00cc96\",\"#00cc96\",\"#00cc96\",\"#00cc96\",\"#EF553B\",\"#EF553B\",\"#EF553B\",\"#EF553B\",\"#EF553B\",\"#00cc96\",\"#EF553B\",\"#EF553B\",\"#EF553B\",\"#EF553B\",\"#EF553B\",\"#FFA15A\",\"#EF553B\",\"#636efa\",\"#EF553B\",\"#EF553B\",\"#00cc96\",\"#EF553B\",\"#00cc96\",\"#00cc96\",\"#00cc96\",\"#00cc96\",\"#FFA15A\",\"#00cc96\",\"#EF553B\",\"#EF553B\",\"#00cc96\",\"#00cc96\",\"#00cc96\",\"#00cc96\",\"#00cc96\",\"#00cc96\",\"#00cc96\",\"#00cc96\",\"#00cc96\",\"#00cc96\",\"#00cc96\",\"#00cc96\",\"#EF553B\",\"#EF553B\",\"#00cc96\",\"#EF553B\",\"#FFA15A\",\"#EF553B\",\"#00cc96\",\"#00cc96\",\"#00cc96\",\"#EF553B\",\"#EF553B\",\"#EF553B\",\"#EF553B\",\"#00cc96\",\"#EF553B\",\"#EF553B\",\"#EF553B\",\"#EF553B\",\"#00cc96\",\"#00cc96\",\"#00cc96\",\"#EF553B\",\"#00cc96\",\"#00cc96\",\"#00cc96\",\"#00cc96\",\"#00cc96\",\"#00cc96\",\"#00cc96\",\"#00cc96\",\"#00cc96\",\"#EF553B\",\"#00cc96\",\"#00cc96\",\"#00cc96\",\"#00cc96\",\"#00cc96\",\"#EF553B\",\"#00cc96\",\"#EF553B\",\"#EF553B\",\"#00cc96\",\"#EF553B\",\"#EF553B\",\"#EF553B\",\"#EF553B\",\"#EF553B\",\"#00cc96\",\"#00cc96\",\"#00cc96\",\"#00cc96\",\"#00cc96\",\"#00cc96\",\"#FFA15A\",\"#00cc96\",\"#00cc96\",\"#00cc96\",\"#00cc96\",\"#00cc96\",\"#00cc96\",\"#00cc96\",\"#00cc96\",\"#00cc96\",\"#00cc96\",\"#00cc96\",\"#00cc96\",\"#00cc96\",\"#00cc96\",\"#00cc96\",\"#00cc96\",\"#00cc96\",\"#FFA15A\",\"#00cc96\",\"#00cc96\",\"#00cc96\",\"#00cc96\",\"#00cc96\",\"#FFA15A\",\"#00cc96\",\"#00cc96\",\"#00cc96\",\"#00cc96\",\"#EF553B\",\"#FFA15A\",\"#00cc96\",\"#00cc96\",\"#00cc96\",\"#00cc96\",\"#00cc96\",\"#00cc96\",\"#EF553B\",\"#00cc96\",\"#00cc96\",\"#00cc96\",\"#EF553B\",\"#EF553B\",\"#FFA15A\",\"#00cc96\",\"#00cc96\",\"#00cc96\",\"#00cc96\",\"#00cc96\",\"#00cc96\",\"#00cc96\",\"#00cc96\",\"#EF553B\",\"#EF553B\",\"#EF553B\",\"#EF553B\",\"#EF553B\",\"#00cc96\",\"#00cc96\",\"#00cc96\",\"#00cc96\",\"#EF553B\",\"#EF553B\",\"#EF553B\",\"#EF553B\",\"#00cc96\",\"#FFA15A\",\"#00cc96\",\"#00cc96\",\"#00cc96\",\"#00cc96\",\"#00cc96\",\"#FFA15A\",\"#EF553B\",\"#EF553B\",\"#00cc96\",\"#00cc96\",\"#00cc96\",\"#EF553B\",\"#00cc96\",\"#EF553B\",\"#EF553B\",\"#00cc96\",\"#EF553B\",\"#00cc96\",\"#EF553B\",\"#EF553B\",\"#EF553B\",\"#EF553B\",\"#EF553B\",\"#EF553B\",\"#EF553B\",\"#00cc96\",\"#00cc96\",\"#EF553B\",\"#EF553B\",\"#EF553B\",\"#00cc96\",\"#EF553B\",\"#EF553B\",\"#EF553B\",\"#FFA15A\",\"#00cc96\",\"#00cc96\",\"#FFA15A\",\"#FFA15A\",\"#00cc96\",\"#00cc96\",\"#00cc96\",\"#00cc96\",\"#00cc96\",\"#00cc96\",\"#00cc96\",\"#00cc96\",\"#00cc96\",\"#EF553B\",\"#00cc96\",\"#00cc96\",\"#EF553B\",\"#EF553B\",\"#EF553B\",\"#EF553B\",\"#EF553B\",\"#636efa\",\"#EF553B\",\"#EF553B\",\"#EF553B\",\"#00cc96\",\"#EF553B\",\"#00cc96\",\"#FFA15A\",\"#EF553B\",\"#00cc96\",\"#EF553B\",\"#EF553B\",\"#00cc96\",\"#EF553B\",\"#EF553B\",\"#EF553B\",\"#00cc96\",\"#00cc96\",\"#00cc96\",\"#00cc96\",\"#FFA15A\",\"#00cc96\",\"#00cc96\",\"#00cc96\",\"#00cc96\",\"#EF553B\",\"#EF553B\",\"#EF553B\",\"#EF553B\",\"#00cc96\",\"#00cc96\",\"#00cc96\",\"#00cc96\",\"#00cc96\",\"#00cc96\",\"#00cc96\",\"#00cc96\",\"#00cc96\",\"#EF553B\",\"#EF553B\",\"#00cc96\",\"#EF553B\",\"#EF553B\",\"#00cc96\",\"#EF553B\",\"#00cc96\",\"#ab63fa\",\"#EF553B\",\"#EF553B\",\"#EF553B\",\"#00cc96\",\"#00cc96\",\"#00cc96\",\"#EF553B\",\"#00cc96\",\"#00cc96\",\"#EF553B\",\"#EF553B\",\"#00cc96\",\"#EF553B\",\"#EF553B\",\"#FFA15A\",\"#00cc96\",\"#EF553B\",\"#EF553B\",\"#EF553B\",\"#EF553B\",\"#EF553B\",\"#EF553B\",\"#EF553B\",\"#00cc96\",\"#00cc96\",\"#00cc96\",\"#00cc96\",\"#00cc96\",\"#00cc96\",\"#00cc96\",\"#00cc96\",\"#00cc96\",\"#EF553B\",\"#FFA15A\",\"#00cc96\",\"#00cc96\",\"#00cc96\",\"#00cc96\",\"#EF553B\",\"#EF553B\",\"#00cc96\",\"#EF553B\",\"#EF553B\",\"#00cc96\",\"#00cc96\",\"#00cc96\",\"#00cc96\",\"#00cc96\",\"#00cc96\",\"#ab63fa\",\"#EF553B\",\"#EF553B\",\"#EF553B\",\"#EF553B\",\"#EF553B\",\"#EF553B\",\"#EF553B\",\"#EF553B\",\"#EF553B\",\"#EF553B\",\"#EF553B\",\"#EF553B\",\"#EF553B\",\"#EF553B\",\"#EF553B\",\"#EF553B\",\"#EF553B\",\"#00cc96\",\"#00cc96\",\"#00cc96\",\"#EF553B\",\"#EF553B\",\"#EF553B\",\"#EF553B\",\"#EF553B\",\"#EF553B\",\"#00cc96\",\"#EF553B\",\"#EF553B\",\"#EF553B\",\"#FFA15A\",\"#FFA15A\",\"#EF553B\",\"#EF553B\",\"#EF553B\",\"#EF553B\",\"#EF553B\",\"#00cc96\",\"#EF553B\",\"#00cc96\",\"#00cc96\",\"#00cc96\",\"#00cc96\",\"#00cc96\",\"#EF553B\",\"#EF553B\",\"#EF553B\",\"#EF553B\",\"#EF553B\",\"#00cc96\",\"#00cc96\",\"#00cc96\",\"#00cc96\",\"#EF553B\",\"#00cc96\",\"#EF553B\",\"#00cc96\",\"#00cc96\",\"#EF553B\",\"#00cc96\",\"#00cc96\",\"#00cc96\",\"#00cc96\",\"#00cc96\",\"#00cc96\",\"#EF553B\",\"#EF553B\",\"#EF553B\",\"#00cc96\",\"#EF553B\",\"#00cc96\",\"#EF553B\",\"#EF553B\",\"#EF553B\",\"#EF553B\",\"#00cc96\",\"#EF553B\",\"#EF553B\",\"#00cc96\",\"#00cc96\",\"#00cc96\",\"#00cc96\",\"#00cc96\",\"#EF553B\",\"#EF553B\",\"#EF553B\",\"#00cc96\",\"#00cc96\",\"#EF553B\",\"#EF553B\",\"#EF553B\",\"#00cc96\",\"#00cc96\",\"#00cc96\",\"#00cc96\",\"#00cc96\",\"#00cc96\",\"#00cc96\",\"#00cc96\",\"#00cc96\",\"#00cc96\",\"#00cc96\",\"#00cc96\",\"#EF553B\",\"#00cc96\",\"#EF553B\",\"#00cc96\",\"#00cc96\",\"#00cc96\",\"#00cc96\",\"#00cc96\",\"#00cc96\",\"#00cc96\",\"#00cc96\",\"#00cc96\",\"#00cc96\",\"#00cc96\",\"#00cc96\",\"#00cc96\",\"#00cc96\",\"#00cc96\",\"#00cc96\",\"#00cc96\",\"#EF553B\",\"#EF553B\",\"#00cc96\",\"#EF553B\",\"#EF553B\",\"#EF553B\",\"#00cc96\",\"#EF553B\",\"#EF553B\",\"#00cc96\",\"#00cc96\",\"#00cc96\",\"#00cc96\",\"#00cc96\",\"#00cc96\",\"#EF553B\",\"#EF553B\",\"#00cc96\",\"#00cc96\",\"#00cc96\",\"#00cc96\",\"#00cc96\",\"#00cc96\",\"#FFA15A\",\"#00cc96\",\"#FFA15A\",\"#00cc96\",\"#00cc96\",\"#FFA15A\",\"#00cc96\",\"#00cc96\",\"#00cc96\",\"#00cc96\",\"#00cc96\",\"#00cc96\",\"#00cc96\",\"#00cc96\",\"#FFA15A\",\"#00cc96\",\"#00cc96\",\"#EF553B\",\"#EF553B\",\"#00cc96\",\"#00cc96\",\"#00cc96\",\"#00cc96\",\"#00cc96\",\"#00cc96\",\"#00cc96\",\"#00cc96\",\"#00cc96\",\"#EF553B\",\"#00cc96\",\"#00cc96\",\"#00cc96\",\"#FFA15A\",\"#FFA15A\",\"#00cc96\",\"#00cc96\",\"#00cc96\",\"#EF553B\",\"#EF553B\",\"#EF553B\",\"#00cc96\",\"#EF553B\",\"#00cc96\",\"#00cc96\",\"#00cc96\",\"#00cc96\",\"#00cc96\",\"#00cc96\",\"#00cc96\",\"#00cc96\",\"#00cc96\",\"#00cc96\",\"#00cc96\",\"#00cc96\",\"#00cc96\",\"#00cc96\",\"#EF553B\",\"#EF553B\",\"#00cc96\",\"#EF553B\",\"#00cc96\",\"#FFA15A\",\"#FFA15A\",\"#00cc96\",\"#00cc96\",\"#00cc96\",\"#00cc96\",\"#00cc96\",\"#00cc96\",\"#00cc96\",\"#00cc96\",\"#00cc96\",\"#00cc96\",\"#00cc96\",\"#EF553B\",\"#EF553B\",\"#00cc96\",\"#FFA15A\",\"#00cc96\",\"#EF553B\",\"#EF553B\",\"#EF553B\",\"#EF553B\",\"#EF553B\",\"#FFA15A\",\"#FFA15A\",\"#EF553B\",\"#00cc96\",\"#00cc96\",\"#00cc96\",\"#00cc96\",\"#00cc96\",\"#FFA15A\",\"#FFA15A\",\"#FFA15A\",\"#FFA15A\",\"#FFA15A\",\"#EF553B\",\"#EF553B\",\"#00cc96\",\"#EF553B\",\"#EF553B\",\"#EF553B\",\"#00cc96\",\"#EF553B\",\"#EF553B\",\"#00cc96\",\"#EF553B\",\"#EF553B\",\"#EF553B\",\"#EF553B\",\"#EF553B\",\"#EF553B\",\"#EF553B\",\"#EF553B\",\"#EF553B\",\"#EF553B\",\"#EF553B\",\"#EF553B\",\"#FFA15A\",\"#EF553B\",\"#EF553B\",\"#EF553B\",\"#EF553B\",\"#EF553B\",\"#00cc96\",\"#FFA15A\",\"#EF553B\",\"#00cc96\",\"#00cc96\",\"#00cc96\",\"#00cc96\",\"#00cc96\",\"#00cc96\",\"#00cc96\",\"#00cc96\",\"#00cc96\",\"#00cc96\",\"#EF553B\",\"#EF553B\",\"#EF553B\",\"#EF553B\",\"#EF553B\",\"#EF553B\",\"#EF553B\",\"#EF553B\",\"#EF553B\",\"#ab63fa\",\"#00cc96\",\"#00cc96\",\"#FFA15A\",\"#00cc96\",\"#EF553B\",\"#EF553B\",\"#EF553B\",\"#00cc96\",\"#EF553B\",\"#EF553B\",\"#EF553B\",\"#EF553B\",\"#00cc96\",\"#FFA15A\",\"#FFA15A\",\"#00cc96\",\"#00cc96\",\"#EF553B\",\"#EF553B\",\"#EF553B\",\"#EF553B\",\"#00cc96\",\"#00cc96\",\"#EF553B\",\"#EF553B\",\"#FFA15A\",\"#FFA15A\",\"#EF553B\",\"#EF553B\",\"#FFA15A\",\"#00cc96\",\"#00cc96\",\"#00cc96\",\"#EF553B\",\"#FFA15A\",\"#EF553B\",\"#EF553B\",\"#FFA15A\",\"#FFA15A\",\"#FFA15A\",\"#EF553B\",\"#EF553B\",\"#EF553B\",\"#FFA15A\",\"#FFA15A\",\"#FFA15A\",\"#EF553B\",\"#FFA15A\",\"#EF553B\",\"#EF553B\",\"#EF553B\",\"#FFA15A\",\"#FFA15A\",\"#EF553B\",\"#EF553B\",\"#EF553B\",\"#FFA15A\",\"#FFA15A\",\"#EF553B\",\"#FFA15A\",\"#00cc96\",\"#FFA15A\",\"#FFA15A\",\"#EF553B\",\"#EF553B\",\"#EF553B\",\"#EF553B\",\"#EF553B\",\"#EF553B\",\"#EF553B\",\"#EF553B\",\"#EF553B\",\"#EF553B\",\"#FFA15A\",\"#EF553B\",\"#FFA15A\",\"#EF553B\",\"#00cc96\",\"#FFA15A\",\"#00cc96\",\"#00cc96\",\"#EF553B\",\"#EF553B\",\"#00cc96\",\"#00cc96\",\"#00cc96\",\"#00cc96\",\"#EF553B\",\"#EF553B\",\"#EF553B\",\"#00cc96\",\"#00cc96\",\"#00cc96\",\"#00cc96\",\"#00cc96\",\"#00cc96\",\"#00cc96\",\"#FFA15A\",\"#FFA15A\",\"#FFA15A\",\"#EF553B\",\"#EF553B\",\"#00cc96\",\"#EF553B\",\"#EF553B\",\"#EF553B\",\"#EF553B\",\"#EF553B\",\"#00cc96\",\"#00cc96\",\"#EF553B\",\"#EF553B\",\"#EF553B\",\"#EF553B\",\"#EF553B\",\"#EF553B\",\"#00cc96\",\"#EF553B\",\"#00cc96\",\"#00cc96\",\"#EF553B\",\"#EF553B\",\"#EF553B\",\"#00cc96\",\"#EF553B\",\"#00cc96\",\"#00cc96\",\"#EF553B\",\"#EF553B\",\"#00cc96\",\"#00cc96\",\"#EF553B\",\"#00cc96\",\"#00cc96\",\"#EF553B\",\"#EF553B\",\"#00cc96\",\"#00cc96\",\"#00cc96\",\"#00cc96\",\"#00cc96\",\"#00cc96\",\"#EF553B\",\"#00cc96\",\"#EF553B\",\"#EF553B\",\"#EF553B\",\"#FFA15A\",\"#EF553B\",\"#EF553B\",\"#00cc96\",\"#00cc96\",\"#00cc96\",\"#00cc96\",\"#00cc96\",\"#00cc96\",\"#EF553B\",\"#FFA15A\",\"#00cc96\",\"#00cc96\",\"#00cc96\",\"#00cc96\",\"#FFA15A\",\"#EF553B\",\"#EF553B\",\"#EF553B\",\"#FFA15A\",\"#00cc96\",\"#00cc96\",\"#00cc96\",\"#00cc96\",\"#FFA15A\",\"#00cc96\",\"#00cc96\",\"#00cc96\",\"#00cc96\",\"#00cc96\",\"#00cc96\",\"#00cc96\",\"#00cc96\",\"#00cc96\",\"#00cc96\",\"#00cc96\",\"#EF553B\",\"#EF553B\",\"#00cc96\",\"#00cc96\",\"#00cc96\",\"#00cc96\",\"#00cc96\",\"#00cc96\",\"#00cc96\",\"#00cc96\",\"#00cc96\",\"#00cc96\",\"#00cc96\",\"#00cc96\",\"#636efa\",\"#00cc96\",\"#00cc96\",\"#00cc96\",\"#EF553B\",\"#00cc96\",\"#00cc96\",\"#00cc96\",\"#00cc96\",\"#00cc96\",\"#00cc96\",\"#00cc96\",\"#00cc96\",\"#EF553B\",\"#00cc96\",\"#FFA15A\",\"#00cc96\",\"#00cc96\",\"#00cc96\",\"#00cc96\",\"#00cc96\",\"#636efa\",\"#00cc96\",\"#636efa\",\"#00cc96\",\"#00cc96\",\"#00cc96\",\"#00cc96\",\"#00cc96\",\"#00cc96\",\"#00cc96\",\"#00cc96\",\"#00cc96\",\"#00cc96\",\"#00cc96\",\"#00cc96\",\"#00cc96\",\"#00cc96\",\"#00cc96\",\"#EF553B\",\"#FFA15A\",\"#EF553B\",\"#FFA15A\",\"#00cc96\",\"#00cc96\",\"#00cc96\",\"#00cc96\",\"#00cc96\",\"#00cc96\",\"#00cc96\",\"#FFA15A\",\"#00cc96\",\"#00cc96\",\"#00cc96\",\"#FFA15A\",\"#00cc96\",\"#00cc96\",\"#00cc96\",\"#EF553B\",\"#00cc96\",\"#EF553B\",\"#00cc96\",\"#00cc96\",\"#00cc96\",\"#00cc96\",\"#636efa\",\"#EF553B\",\"#00cc96\",\"#636efa\",\"#636efa\",\"#00cc96\",\"#00cc96\",\"#00cc96\",\"#00cc96\",\"#EF553B\",\"#EF553B\",\"#EF553B\",\"#00cc96\",\"#EF553B\",\"#00cc96\",\"#00cc96\",\"#00cc96\",\"#EF553B\",\"#EF553B\",\"#EF553B\",\"#00cc96\",\"#00cc96\",\"#FFA15A\",\"#00cc96\",\"#00cc96\",\"#EF553B\",\"#00cc96\",\"#00cc96\",\"#EF553B\",\"#EF553B\",\"#00cc96\",\"#00cc96\",\"#EF553B\",\"#FFA15A\",\"#00cc96\",\"#00cc96\",\"#FFA15A\",\"#EF553B\",\"#00cc96\",\"#00cc96\",\"#00cc96\",\"#00cc96\",\"#FFA15A\",\"#FFA15A\",\"#FFA15A\",\"#00cc96\",\"#00cc96\",\"#00cc96\",\"#636efa\",\"#EF553B\",\"#FFA15A\",\"#EF553B\",\"#EF553B\",\"#00cc96\",\"#EF553B\",\"#EF553B\",\"#FFA15A\",\"#FFA15A\",\"#00cc96\",\"#EF553B\",\"#EF553B\",\"#EF553B\",\"#FFA15A\",\"#FFA15A\",\"#FFA15A\",\"#FFA15A\",\"#FFA15A\",\"#EF553B\",\"#EF553B\",\"#FFA15A\",\"#EF553B\",\"#EF553B\",\"#EF553B\",\"#EF553B\",\"#EF553B\",\"#EF553B\",\"#EF553B\",\"#00cc96\",\"#EF553B\",\"#FFA15A\",\"#EF553B\",\"#EF553B\",\"#EF553B\",\"#EF553B\",\"#EF553B\",\"#EF553B\",\"#EF553B\",\"#EF553B\",\"#EF553B\",\"#EF553B\",\"#EF553B\",\"#EF553B\",\"#EF553B\",\"#FFA15A\",\"#00cc96\",\"#FFA15A\",\"#EF553B\",\"#EF553B\",\"#00cc96\",\"#00cc96\",\"#00cc96\",\"#00cc96\",\"#FFA15A\",\"#EF553B\",\"#EF553B\",\"#EF553B\",\"#EF553B\",\"#EF553B\",\"#EF553B\",\"#EF553B\",\"#EF553B\",\"#EF553B\",\"#EF553B\",\"#EF553B\",\"#EF553B\",\"#EF553B\",\"#EF553B\",\"#00cc96\",\"#EF553B\",\"#EF553B\",\"#EF553B\",\"#EF553B\",\"#FFA15A\",\"#EF553B\",\"#EF553B\",\"#EF553B\",\"#EF553B\",\"#EF553B\",\"#EF553B\",\"#00cc96\",\"#EF553B\",\"#EF553B\",\"#FFA15A\",\"#00cc96\",\"#00cc96\"]},\"name\":\"\",\"showlegend\":true,\"type\":\"pie\"}],                        {\"template\":{\"data\":{\"histogram2dcontour\":[{\"type\":\"histogram2dcontour\",\"colorbar\":{\"outlinewidth\":0,\"ticks\":\"\"},\"colorscale\":[[0.0,\"#0d0887\"],[0.1111111111111111,\"#46039f\"],[0.2222222222222222,\"#7201a8\"],[0.3333333333333333,\"#9c179e\"],[0.4444444444444444,\"#bd3786\"],[0.5555555555555556,\"#d8576b\"],[0.6666666666666666,\"#ed7953\"],[0.7777777777777778,\"#fb9f3a\"],[0.8888888888888888,\"#fdca26\"],[1.0,\"#f0f921\"]]}],\"choropleth\":[{\"type\":\"choropleth\",\"colorbar\":{\"outlinewidth\":0,\"ticks\":\"\"}}],\"histogram2d\":[{\"type\":\"histogram2d\",\"colorbar\":{\"outlinewidth\":0,\"ticks\":\"\"},\"colorscale\":[[0.0,\"#0d0887\"],[0.1111111111111111,\"#46039f\"],[0.2222222222222222,\"#7201a8\"],[0.3333333333333333,\"#9c179e\"],[0.4444444444444444,\"#bd3786\"],[0.5555555555555556,\"#d8576b\"],[0.6666666666666666,\"#ed7953\"],[0.7777777777777778,\"#fb9f3a\"],[0.8888888888888888,\"#fdca26\"],[1.0,\"#f0f921\"]]}],\"heatmap\":[{\"type\":\"heatmap\",\"colorbar\":{\"outlinewidth\":0,\"ticks\":\"\"},\"colorscale\":[[0.0,\"#0d0887\"],[0.1111111111111111,\"#46039f\"],[0.2222222222222222,\"#7201a8\"],[0.3333333333333333,\"#9c179e\"],[0.4444444444444444,\"#bd3786\"],[0.5555555555555556,\"#d8576b\"],[0.6666666666666666,\"#ed7953\"],[0.7777777777777778,\"#fb9f3a\"],[0.8888888888888888,\"#fdca26\"],[1.0,\"#f0f921\"]]}],\"heatmapgl\":[{\"type\":\"heatmapgl\",\"colorbar\":{\"outlinewidth\":0,\"ticks\":\"\"},\"colorscale\":[[0.0,\"#0d0887\"],[0.1111111111111111,\"#46039f\"],[0.2222222222222222,\"#7201a8\"],[0.3333333333333333,\"#9c179e\"],[0.4444444444444444,\"#bd3786\"],[0.5555555555555556,\"#d8576b\"],[0.6666666666666666,\"#ed7953\"],[0.7777777777777778,\"#fb9f3a\"],[0.8888888888888888,\"#fdca26\"],[1.0,\"#f0f921\"]]}],\"contourcarpet\":[{\"type\":\"contourcarpet\",\"colorbar\":{\"outlinewidth\":0,\"ticks\":\"\"}}],\"contour\":[{\"type\":\"contour\",\"colorbar\":{\"outlinewidth\":0,\"ticks\":\"\"},\"colorscale\":[[0.0,\"#0d0887\"],[0.1111111111111111,\"#46039f\"],[0.2222222222222222,\"#7201a8\"],[0.3333333333333333,\"#9c179e\"],[0.4444444444444444,\"#bd3786\"],[0.5555555555555556,\"#d8576b\"],[0.6666666666666666,\"#ed7953\"],[0.7777777777777778,\"#fb9f3a\"],[0.8888888888888888,\"#fdca26\"],[1.0,\"#f0f921\"]]}],\"surface\":[{\"type\":\"surface\",\"colorbar\":{\"outlinewidth\":0,\"ticks\":\"\"},\"colorscale\":[[0.0,\"#0d0887\"],[0.1111111111111111,\"#46039f\"],[0.2222222222222222,\"#7201a8\"],[0.3333333333333333,\"#9c179e\"],[0.4444444444444444,\"#bd3786\"],[0.5555555555555556,\"#d8576b\"],[0.6666666666666666,\"#ed7953\"],[0.7777777777777778,\"#fb9f3a\"],[0.8888888888888888,\"#fdca26\"],[1.0,\"#f0f921\"]]}],\"mesh3d\":[{\"type\":\"mesh3d\",\"colorbar\":{\"outlinewidth\":0,\"ticks\":\"\"}}],\"scatter\":[{\"fillpattern\":{\"fillmode\":\"overlay\",\"size\":10,\"solidity\":0.2},\"type\":\"scatter\"}],\"parcoords\":[{\"type\":\"parcoords\",\"line\":{\"colorbar\":{\"outlinewidth\":0,\"ticks\":\"\"}}}],\"scatterpolargl\":[{\"type\":\"scatterpolargl\",\"marker\":{\"colorbar\":{\"outlinewidth\":0,\"ticks\":\"\"}}}],\"bar\":[{\"error_x\":{\"color\":\"#2a3f5f\"},\"error_y\":{\"color\":\"#2a3f5f\"},\"marker\":{\"line\":{\"color\":\"#E5ECF6\",\"width\":0.5},\"pattern\":{\"fillmode\":\"overlay\",\"size\":10,\"solidity\":0.2}},\"type\":\"bar\"}],\"scattergeo\":[{\"type\":\"scattergeo\",\"marker\":{\"colorbar\":{\"outlinewidth\":0,\"ticks\":\"\"}}}],\"scatterpolar\":[{\"type\":\"scatterpolar\",\"marker\":{\"colorbar\":{\"outlinewidth\":0,\"ticks\":\"\"}}}],\"histogram\":[{\"marker\":{\"pattern\":{\"fillmode\":\"overlay\",\"size\":10,\"solidity\":0.2}},\"type\":\"histogram\"}],\"scattergl\":[{\"type\":\"scattergl\",\"marker\":{\"colorbar\":{\"outlinewidth\":0,\"ticks\":\"\"}}}],\"scatter3d\":[{\"type\":\"scatter3d\",\"line\":{\"colorbar\":{\"outlinewidth\":0,\"ticks\":\"\"}},\"marker\":{\"colorbar\":{\"outlinewidth\":0,\"ticks\":\"\"}}}],\"scattermapbox\":[{\"type\":\"scattermapbox\",\"marker\":{\"colorbar\":{\"outlinewidth\":0,\"ticks\":\"\"}}}],\"scatterternary\":[{\"type\":\"scatterternary\",\"marker\":{\"colorbar\":{\"outlinewidth\":0,\"ticks\":\"\"}}}],\"scattercarpet\":[{\"type\":\"scattercarpet\",\"marker\":{\"colorbar\":{\"outlinewidth\":0,\"ticks\":\"\"}}}],\"carpet\":[{\"aaxis\":{\"endlinecolor\":\"#2a3f5f\",\"gridcolor\":\"white\",\"linecolor\":\"white\",\"minorgridcolor\":\"white\",\"startlinecolor\":\"#2a3f5f\"},\"baxis\":{\"endlinecolor\":\"#2a3f5f\",\"gridcolor\":\"white\",\"linecolor\":\"white\",\"minorgridcolor\":\"white\",\"startlinecolor\":\"#2a3f5f\"},\"type\":\"carpet\"}],\"table\":[{\"cells\":{\"fill\":{\"color\":\"#EBF0F8\"},\"line\":{\"color\":\"white\"}},\"header\":{\"fill\":{\"color\":\"#C8D4E3\"},\"line\":{\"color\":\"white\"}},\"type\":\"table\"}],\"barpolar\":[{\"marker\":{\"line\":{\"color\":\"#E5ECF6\",\"width\":0.5},\"pattern\":{\"fillmode\":\"overlay\",\"size\":10,\"solidity\":0.2}},\"type\":\"barpolar\"}],\"pie\":[{\"automargin\":true,\"type\":\"pie\"}]},\"layout\":{\"autotypenumbers\":\"strict\",\"colorway\":[\"#636efa\",\"#EF553B\",\"#00cc96\",\"#ab63fa\",\"#FFA15A\",\"#19d3f3\",\"#FF6692\",\"#B6E880\",\"#FF97FF\",\"#FECB52\"],\"font\":{\"color\":\"#2a3f5f\"},\"hovermode\":\"closest\",\"hoverlabel\":{\"align\":\"left\"},\"paper_bgcolor\":\"white\",\"plot_bgcolor\":\"#E5ECF6\",\"polar\":{\"bgcolor\":\"#E5ECF6\",\"angularaxis\":{\"gridcolor\":\"white\",\"linecolor\":\"white\",\"ticks\":\"\"},\"radialaxis\":{\"gridcolor\":\"white\",\"linecolor\":\"white\",\"ticks\":\"\"}},\"ternary\":{\"bgcolor\":\"#E5ECF6\",\"aaxis\":{\"gridcolor\":\"white\",\"linecolor\":\"white\",\"ticks\":\"\"},\"baxis\":{\"gridcolor\":\"white\",\"linecolor\":\"white\",\"ticks\":\"\"},\"caxis\":{\"gridcolor\":\"white\",\"linecolor\":\"white\",\"ticks\":\"\"}},\"coloraxis\":{\"colorbar\":{\"outlinewidth\":0,\"ticks\":\"\"}},\"colorscale\":{\"sequential\":[[0.0,\"#0d0887\"],[0.1111111111111111,\"#46039f\"],[0.2222222222222222,\"#7201a8\"],[0.3333333333333333,\"#9c179e\"],[0.4444444444444444,\"#bd3786\"],[0.5555555555555556,\"#d8576b\"],[0.6666666666666666,\"#ed7953\"],[0.7777777777777778,\"#fb9f3a\"],[0.8888888888888888,\"#fdca26\"],[1.0,\"#f0f921\"]],\"sequentialminus\":[[0.0,\"#0d0887\"],[0.1111111111111111,\"#46039f\"],[0.2222222222222222,\"#7201a8\"],[0.3333333333333333,\"#9c179e\"],[0.4444444444444444,\"#bd3786\"],[0.5555555555555556,\"#d8576b\"],[0.6666666666666666,\"#ed7953\"],[0.7777777777777778,\"#fb9f3a\"],[0.8888888888888888,\"#fdca26\"],[1.0,\"#f0f921\"]],\"diverging\":[[0,\"#8e0152\"],[0.1,\"#c51b7d\"],[0.2,\"#de77ae\"],[0.3,\"#f1b6da\"],[0.4,\"#fde0ef\"],[0.5,\"#f7f7f7\"],[0.6,\"#e6f5d0\"],[0.7,\"#b8e186\"],[0.8,\"#7fbc41\"],[0.9,\"#4d9221\"],[1,\"#276419\"]]},\"xaxis\":{\"gridcolor\":\"white\",\"linecolor\":\"white\",\"ticks\":\"\",\"title\":{\"standoff\":15},\"zerolinecolor\":\"white\",\"automargin\":true,\"zerolinewidth\":2},\"yaxis\":{\"gridcolor\":\"white\",\"linecolor\":\"white\",\"ticks\":\"\",\"title\":{\"standoff\":15},\"zerolinecolor\":\"white\",\"automargin\":true,\"zerolinewidth\":2},\"scene\":{\"xaxis\":{\"backgroundcolor\":\"#E5ECF6\",\"gridcolor\":\"white\",\"linecolor\":\"white\",\"showbackground\":true,\"ticks\":\"\",\"zerolinecolor\":\"white\",\"gridwidth\":2},\"yaxis\":{\"backgroundcolor\":\"#E5ECF6\",\"gridcolor\":\"white\",\"linecolor\":\"white\",\"showbackground\":true,\"ticks\":\"\",\"zerolinecolor\":\"white\",\"gridwidth\":2},\"zaxis\":{\"backgroundcolor\":\"#E5ECF6\",\"gridcolor\":\"white\",\"linecolor\":\"white\",\"showbackground\":true,\"ticks\":\"\",\"zerolinecolor\":\"white\",\"gridwidth\":2}},\"shapedefaults\":{\"line\":{\"color\":\"#2a3f5f\"}},\"annotationdefaults\":{\"arrowcolor\":\"#2a3f5f\",\"arrowhead\":0,\"arrowwidth\":1},\"geo\":{\"bgcolor\":\"white\",\"landcolor\":\"#E5ECF6\",\"subunitcolor\":\"white\",\"showland\":true,\"showlakes\":true,\"lakecolor\":\"white\"},\"title\":{\"x\":0.05},\"mapbox\":{\"style\":\"light\"}}},\"legend\":{\"tracegroupgap\":0},\"title\":{\"text\":\"the most weather percent  \"}},                        {\"responsive\": true}                    ).then(function(){\n",
              "                            \n",
              "var gd = document.getElementById('870e779e-484f-43be-8619-b0d2e67fd30a');\n",
              "var x = new MutationObserver(function (mutations, observer) {{\n",
              "        var display = window.getComputedStyle(gd).display;\n",
              "        if (!display || display === 'none') {{\n",
              "            console.log([gd, 'removed!']);\n",
              "            Plotly.purge(gd);\n",
              "            observer.disconnect();\n",
              "        }}\n",
              "}});\n",
              "\n",
              "// Listen for the removal of the full notebook cells\n",
              "var notebookContainer = gd.closest('#notebook-container');\n",
              "if (notebookContainer) {{\n",
              "    x.observe(notebookContainer, {childList: true});\n",
              "}}\n",
              "\n",
              "// Listen for the clearing of the current output cell\n",
              "var outputEl = gd.closest('.output');\n",
              "if (outputEl) {{\n",
              "    x.observe(outputEl, {childList: true});\n",
              "}}\n",
              "\n",
              "                        })                };                            </script>        </div>\n",
              "</body>\n",
              "</html>"
            ]
          },
          "metadata": {}
        }
      ],
      "source": [
        "fig = px.pie(df, names=\"weather\",color='weather',title='the most weather percent  ')\n",
        "fig.show()"
      ]
    },
    {
      "cell_type": "code",
      "execution_count": 25,
      "metadata": {
        "colab": {
          "base_uri": "https://localhost:8080/",
          "height": 542
        },
        "id": "qj5Zm85yWiM_",
        "outputId": "024f6b3d-0f21-408c-8072-77f8fc9bac9f"
      },
      "outputs": [
        {
          "output_type": "display_data",
          "data": {
            "text/html": [
              "<html>\n",
              "<head><meta charset=\"utf-8\" /></head>\n",
              "<body>\n",
              "    <div>            <script src=\"https://cdnjs.cloudflare.com/ajax/libs/mathjax/2.7.5/MathJax.js?config=TeX-AMS-MML_SVG\"></script><script type=\"text/javascript\">if (window.MathJax && window.MathJax.Hub && window.MathJax.Hub.Config) {window.MathJax.Hub.Config({SVG: {font: \"STIX-Web\"}});}</script>                <script type=\"text/javascript\">window.PlotlyConfig = {MathJaxConfig: 'local'};</script>\n",
              "        <script charset=\"utf-8\" src=\"https://cdn.plot.ly/plotly-2.35.2.min.js\"></script>                <div id=\"577656c9-672b-4e08-a6f5-a5ce6837b625\" class=\"plotly-graph-div\" style=\"height:525px; width:100%;\"></div>            <script type=\"text/javascript\">                                    window.PLOTLYENV=window.PLOTLYENV || {};                                    if (document.getElementById(\"577656c9-672b-4e08-a6f5-a5ce6837b625\")) {                    Plotly.newPlot(                        \"577656c9-672b-4e08-a6f5-a5ce6837b625\",                        [{\"alignmentgroup\":\"True\",\"bingroup\":\"x\",\"histfunc\":\"avg\",\"hovertemplate\":\"weather=%{x}\\u003cbr\\u003eavg of precipitation=%{y}\\u003cextra\\u003e\\u003c\\u002fextra\\u003e\",\"legendgroup\":\"drizzle\",\"marker\":{\"color\":\"#636efa\",\"pattern\":{\"shape\":\"\"}},\"name\":\"drizzle\",\"offsetgroup\":\"drizzle\",\"orientation\":\"v\",\"showlegend\":true,\"texttemplate\":\"%{value}\",\"x\":[\"drizzle\",\"drizzle\",\"drizzle\",\"drizzle\",\"drizzle\",\"drizzle\",\"drizzle\",\"drizzle\",\"drizzle\",\"drizzle\",\"drizzle\",\"drizzle\",\"drizzle\",\"drizzle\",\"drizzle\",\"drizzle\",\"drizzle\",\"drizzle\",\"drizzle\",\"drizzle\",\"drizzle\",\"drizzle\",\"drizzle\",\"drizzle\",\"drizzle\",\"drizzle\",\"drizzle\",\"drizzle\",\"drizzle\",\"drizzle\",\"drizzle\",\"drizzle\",\"drizzle\",\"drizzle\",\"drizzle\",\"drizzle\",\"drizzle\",\"drizzle\",\"drizzle\",\"drizzle\",\"drizzle\",\"drizzle\",\"drizzle\",\"drizzle\",\"drizzle\",\"drizzle\",\"drizzle\",\"drizzle\",\"drizzle\",\"drizzle\",\"drizzle\",\"drizzle\",\"drizzle\"],\"xaxis\":\"x\",\"y\":[0.0,0.0,0.0,0.0,0.0,0.0,0.0,0.0,0.0,0.0,0.0,0.0,0.0,0.0,0.0,0.0,0.0,0.0,0.0,0.0,0.0,0.0,0.0,0.0,0.0,0.0,0.0,0.0,0.0,0.0,0.0,0.0,0.0,0.0,0.0,0.0,0.0,0.0,0.0,0.0,0.0,0.0,0.0,0.0,0.0,0.0,0.0,0.0,0.0,0.0,0.0,0.0,0.0],\"yaxis\":\"y\",\"type\":\"histogram\"},{\"alignmentgroup\":\"True\",\"bingroup\":\"x\",\"histfunc\":\"avg\",\"hovertemplate\":\"weather=%{x}\\u003cbr\\u003eavg of precipitation=%{y}\\u003cextra\\u003e\\u003c\\u002fextra\\u003e\",\"legendgroup\":\"rain\",\"marker\":{\"color\":\"#EF553B\",\"pattern\":{\"shape\":\"\"}},\"name\":\"rain\",\"offsetgroup\":\"rain\",\"orientation\":\"v\",\"showlegend\":true,\"texttemplate\":\"%{value}\",\"x\":[\"rain\",\"rain\",\"rain\",\"rain\",\"rain\",\"rain\",\"rain\",\"rain\",\"rain\",\"rain\",\"rain\",\"rain\",\"rain\",\"rain\",\"rain\",\"rain\",\"rain\",\"rain\",\"rain\",\"rain\",\"rain\",\"rain\",\"rain\",\"rain\",\"rain\",\"rain\",\"rain\",\"rain\",\"rain\",\"rain\",\"rain\",\"rain\",\"rain\",\"rain\",\"rain\",\"rain\",\"rain\",\"rain\",\"rain\",\"rain\",\"rain\",\"rain\",\"rain\",\"rain\",\"rain\",\"rain\",\"rain\",\"rain\",\"rain\",\"rain\",\"rain\",\"rain\",\"rain\",\"rain\",\"rain\",\"rain\",\"rain\",\"rain\",\"rain\",\"rain\",\"rain\",\"rain\",\"rain\",\"rain\",\"rain\",\"rain\",\"rain\",\"rain\",\"rain\",\"rain\",\"rain\",\"rain\",\"rain\",\"rain\",\"rain\",\"rain\",\"rain\",\"rain\",\"rain\",\"rain\",\"rain\",\"rain\",\"rain\",\"rain\",\"rain\",\"rain\",\"rain\",\"rain\",\"rain\",\"rain\",\"rain\",\"rain\",\"rain\",\"rain\",\"rain\",\"rain\",\"rain\",\"rain\",\"rain\",\"rain\",\"rain\",\"rain\",\"rain\",\"rain\",\"rain\",\"rain\",\"rain\",\"rain\",\"rain\",\"rain\",\"rain\",\"rain\",\"rain\",\"rain\",\"rain\",\"rain\",\"rain\",\"rain\",\"rain\",\"rain\",\"rain\",\"rain\",\"rain\",\"rain\",\"rain\",\"rain\",\"rain\",\"rain\",\"rain\",\"rain\",\"rain\",\"rain\",\"rain\",\"rain\",\"rain\",\"rain\",\"rain\",\"rain\",\"rain\",\"rain\",\"rain\",\"rain\",\"rain\",\"rain\",\"rain\",\"rain\",\"rain\",\"rain\",\"rain\",\"rain\",\"rain\",\"rain\",\"rain\",\"rain\",\"rain\",\"rain\",\"rain\",\"rain\",\"rain\",\"rain\",\"rain\",\"rain\",\"rain\",\"rain\",\"rain\",\"rain\",\"rain\",\"rain\",\"rain\",\"rain\",\"rain\",\"rain\",\"rain\",\"rain\",\"rain\",\"rain\",\"rain\",\"rain\",\"rain\",\"rain\",\"rain\",\"rain\",\"rain\",\"rain\",\"rain\",\"rain\",\"rain\",\"rain\",\"rain\",\"rain\",\"rain\",\"rain\",\"rain\",\"rain\",\"rain\",\"rain\",\"rain\",\"rain\",\"rain\",\"rain\",\"rain\",\"rain\",\"rain\",\"rain\",\"rain\",\"rain\",\"rain\",\"rain\",\"rain\",\"rain\",\"rain\",\"rain\",\"rain\",\"rain\",\"rain\",\"rain\",\"rain\",\"rain\",\"rain\",\"rain\",\"rain\",\"rain\",\"rain\",\"rain\",\"rain\",\"rain\",\"rain\",\"rain\",\"rain\",\"rain\",\"rain\",\"rain\",\"rain\",\"rain\",\"rain\",\"rain\",\"rain\",\"rain\",\"rain\",\"rain\",\"rain\",\"rain\",\"rain\",\"rain\",\"rain\",\"rain\",\"rain\",\"rain\",\"rain\",\"rain\",\"rain\",\"rain\",\"rain\",\"rain\",\"rain\",\"rain\",\"rain\",\"rain\",\"rain\",\"rain\",\"rain\",\"rain\",\"rain\",\"rain\",\"rain\",\"rain\",\"rain\",\"rain\",\"rain\",\"rain\",\"rain\",\"rain\",\"rain\",\"rain\",\"rain\",\"rain\",\"rain\",\"rain\",\"rain\",\"rain\",\"rain\",\"rain\",\"rain\",\"rain\",\"rain\",\"rain\",\"rain\",\"rain\",\"rain\",\"rain\",\"rain\",\"rain\",\"rain\",\"rain\",\"rain\",\"rain\",\"rain\",\"rain\",\"rain\",\"rain\",\"rain\",\"rain\",\"rain\",\"rain\",\"rain\",\"rain\",\"rain\",\"rain\",\"rain\",\"rain\",\"rain\",\"rain\",\"rain\",\"rain\",\"rain\",\"rain\",\"rain\",\"rain\",\"rain\",\"rain\",\"rain\",\"rain\",\"rain\",\"rain\",\"rain\",\"rain\",\"rain\",\"rain\",\"rain\",\"rain\",\"rain\",\"rain\",\"rain\",\"rain\",\"rain\",\"rain\",\"rain\",\"rain\",\"rain\",\"rain\",\"rain\",\"rain\",\"rain\",\"rain\",\"rain\",\"rain\",\"rain\",\"rain\",\"rain\",\"rain\",\"rain\",\"rain\",\"rain\",\"rain\",\"rain\",\"rain\",\"rain\",\"rain\",\"rain\",\"rain\",\"rain\",\"rain\",\"rain\",\"rain\",\"rain\",\"rain\",\"rain\",\"rain\",\"rain\",\"rain\",\"rain\",\"rain\",\"rain\",\"rain\",\"rain\",\"rain\",\"rain\",\"rain\",\"rain\",\"rain\",\"rain\",\"rain\",\"rain\",\"rain\",\"rain\",\"rain\",\"rain\",\"rain\",\"rain\",\"rain\",\"rain\",\"rain\",\"rain\",\"rain\",\"rain\",\"rain\",\"rain\",\"rain\",\"rain\",\"rain\",\"rain\",\"rain\",\"rain\",\"rain\",\"rain\",\"rain\",\"rain\",\"rain\",\"rain\",\"rain\",\"rain\",\"rain\",\"rain\",\"rain\",\"rain\",\"rain\",\"rain\",\"rain\",\"rain\",\"rain\",\"rain\",\"rain\",\"rain\",\"rain\",\"rain\",\"rain\",\"rain\",\"rain\",\"rain\",\"rain\",\"rain\",\"rain\",\"rain\",\"rain\",\"rain\",\"rain\",\"rain\",\"rain\",\"rain\",\"rain\",\"rain\",\"rain\",\"rain\",\"rain\",\"rain\",\"rain\",\"rain\",\"rain\",\"rain\",\"rain\",\"rain\",\"rain\",\"rain\",\"rain\",\"rain\",\"rain\",\"rain\",\"rain\",\"rain\",\"rain\",\"rain\",\"rain\",\"rain\",\"rain\",\"rain\",\"rain\",\"rain\",\"rain\",\"rain\",\"rain\",\"rain\",\"rain\",\"rain\",\"rain\",\"rain\",\"rain\",\"rain\",\"rain\",\"rain\",\"rain\",\"rain\",\"rain\",\"rain\",\"rain\",\"rain\",\"rain\",\"rain\",\"rain\",\"rain\",\"rain\",\"rain\",\"rain\",\"rain\",\"rain\",\"rain\",\"rain\",\"rain\",\"rain\",\"rain\",\"rain\",\"rain\",\"rain\",\"rain\",\"rain\",\"rain\",\"rain\",\"rain\",\"rain\",\"rain\",\"rain\",\"rain\",\"rain\",\"rain\",\"rain\",\"rain\",\"rain\",\"rain\",\"rain\",\"rain\",\"rain\",\"rain\",\"rain\",\"rain\",\"rain\",\"rain\",\"rain\",\"rain\",\"rain\",\"rain\",\"rain\",\"rain\",\"rain\",\"rain\",\"rain\",\"rain\",\"rain\",\"rain\",\"rain\",\"rain\",\"rain\",\"rain\",\"rain\",\"rain\",\"rain\",\"rain\",\"rain\",\"rain\",\"rain\",\"rain\",\"rain\",\"rain\",\"rain\",\"rain\",\"rain\",\"rain\",\"rain\",\"rain\",\"rain\",\"rain\",\"rain\",\"rain\",\"rain\",\"rain\",\"rain\",\"rain\",\"rain\",\"rain\",\"rain\",\"rain\",\"rain\",\"rain\",\"rain\",\"rain\",\"rain\",\"rain\",\"rain\",\"rain\",\"rain\",\"rain\",\"rain\",\"rain\",\"rain\",\"rain\",\"rain\",\"rain\",\"rain\",\"rain\",\"rain\",\"rain\",\"rain\",\"rain\",\"rain\",\"rain\",\"rain\",\"rain\",\"rain\",\"rain\",\"rain\",\"rain\",\"rain\",\"rain\",\"rain\",\"rain\",\"rain\",\"rain\",\"rain\",\"rain\",\"rain\",\"rain\",\"rain\",\"rain\",\"rain\",\"rain\",\"rain\",\"rain\",\"rain\",\"rain\",\"rain\",\"rain\",\"rain\",\"rain\",\"rain\",\"rain\",\"rain\",\"rain\",\"rain\",\"rain\",\"rain\",\"rain\",\"rain\",\"rain\",\"rain\",\"rain\",\"rain\",\"rain\",\"rain\",\"rain\",\"rain\",\"rain\",\"rain\",\"rain\"],\"xaxis\":\"x\",\"y\":[10.9,0.8,20.3,1.3,2.5,0.0,4.3,1.0,3.0,6.1,0.0,8.6,8.1,4.8,0.0,27.7,3.6,1.8,13.5,0.3,2.8,2.5,2.5,0.8,1.0,11.4,2.5,1.8,17.3,6.4,3.0,0.8,8.6,11.4,0.0,2.0,0.0,6.9,3.6,10.4,13.7,8.6,8.4,3.6,2.0,3.6,1.3,4.1,0.0,4.8,1.3,27.4,5.6,13.2,1.5,1.5,0.3,0.0,2.3,0.5,0.0,8.1,1.8,1.8,10.9,6.6,0.0,4.3,10.7,3.8,0.8,4.3,4.3,0.5,0.5,18.5,1.8,0.0,0.0,0.0,6.4,14.0,6.1,0.3,0.0,0.0,0.0,0.3,3.8,6.6,0.3,1.3,16.0,16.5,1.5,0.0,0.0,0.8,0.0,3.0,1.0,15.7,8.6,0.5,0.0,0.0,0.3,3.0,0.0,2.0,5.8,0.0,1.5,0.5,0.0,0.0,0.3,15.2,1.0,0.0,0.0,0.0,0.3,0.3,0.3,0.0,2.0,4.8,16.5,7.9,20.8,4.8,0.5,6.4,8.9,0.0,7.1,1.5,23.1,6.1,10.9,34.5,14.5,9.7,5.6,0.5,8.1,0.8,0.3,0.0,0.0,0.0,15.2,3.6,5.3,0.8,5.6,6.1,7.9,54.1,3.8,11.2,0.0,32.0,0.0,2.8,1.5,35.6,4.1,19.6,13.0,14.2,1.5,1.5,1.0,1.5,0.5,3.0,8.1,2.3,7.9,2.0,13.2,1.8,3.3,6.6,0.3,4.6,4.1,0.0,1.5,4.1,2.5,3.0,2.0,2.3,16.3,38.4,5.1,5.8,3.0,2.3,1.8,7.9,4.3,3.6,3.0,0.3,2.3,0.0,3.3,1.0,1.3,0.3,0.3,1.0,2.3,1.0,0.0,0.0,0.0,1.5,0.5,9.4,0.3,0.0,2.3,0.5,4.6,8.1,4.1,0.8,0.0,11.9,7.4,0.8,1.3,2.0,2.3,2.8,0.0,4.3,0.0,11.7,9.9,0.3,2.0,0.0,8.4,18.5,12.7,39.1,0.8,9.4,1.5,9.7,9.4,5.8,0.3,5.3,20.6,3.3,1.0,3.8,6.6,3.3,1.0,0.5,13.7,13.7,4.1,0.3,1.5,9.7,0.5,5.6,1.0,0.3,0.3,3.0,0.3,7.9,4.8,9.9,2.0,3.6,2.0,2.3,0.8,1.8,0.3,1.0,1.3,5.6,19.3,2.3,0.3,27.7,21.3,3.3,0.3,3.6,13.5,2.8,2.0,1.0,43.4,16.8,18.5,7.9,5.3,0.8,4.1,0.5,6.9,1.0,9.1,1.0,1.8,0.5,0.3,1.3,12.7,0.5,2.5,3.8,30.0,1.8,4.1,1.3,3.0,5.3,26.2,1.0,0.5,2.3,3.0,4.6,6.9,0.5,1.3,0.3,1.3,5.6,10.7,1.5,0.3,0.3,0.5,4.1,1.5,0.3,12.2,9.7,5.8,4.3,21.3,1.5,0.5,8.9,21.6,2.3,2.0,0.5,18.3,17.0,4.6,1.8,9.4,11.7,26.4,14.5,15.2,1.0,3.0,2.8,2.5,6.1,13.0,0.3,0.5,19.1,10.7,16.5,46.7,3.0,32.3,4.3,18.8,0.5,6.9,8.1,27.7,0.3,0.5,4.1,3.6,0.3,22.1,14.0,2.5,4.6,4.6,0.5,10.9,18.5,13.7,5.1,14.2,8.9,12.4,3.3,6.9,33.3,16.0,5.1,13.7,2.0,0.5,3.8,5.6,1.8,6.4,0.5,3.6,1.3,0.8,0.3,1.8,2.3,0.3,19.3,0.5,0.5,12.7,21.6,1.0,8.4,1.3,3.0,0.5,0.3,0.3,18.3,20.3,4.3,8.9,0.8,0.3,7.4,7.6,7.1,8.6,3.3,15.0,11.7,1.0,32.0,9.4,4.1,6.1,1.5,0.8,12.7,0.5,25.4,17.0,1.8,10.9,4.1,4.8,4.1,5.1,3.6,15.2,0.5,11.9,1.3,18.3,0.3,3.3,34.3,0.8,3.0,7.4,9.1,9.9,13.0,6.9,2.8,13.0,3.0,19.6,20.6,5.3,3.3,4.1,1.5,10.2,8.1,0.3,5.8,1.5,9.7,26.2,21.3,0.5,0.8,5.8,0.5,0.8,1.5,7.4,1.3,8.4,26.2,17.3,23.6,3.6,6.1,0.3,1.0,0.3,4.6,0.8,4.1,9.4,18.3,0.8,2.5,2.0,17.0,55.9,1.0,0.8,4.1,3.8,1.0,8.1,7.6,5.1,1.0,1.8,1.0,5.1,1.5,1.0,0.5,10.9,14.0,3.3,5.6,3.0,3.3,1.3,0.3,1.8,6.1,4.3,4.1,0.3,4.6,0.5,0.5,0.3,0.3,2.0,7.6,30.5,2.0,0.5,32.5,10.2,5.8,0.3,5.3,0.3,0.5,1.0,1.8,4.1,2.0,9.9,0.3,28.7,4.6,1.3,0.3,3.8,0.3,8.9,6.9,3.3,1.8,19.3,33.0,26.2,0.3,0.8,1.3,12.7,6.6,3.3,1.3,1.5,9.9,33.5,47.2,22.4,2.0,29.5,1.5,2.0,3.0,7.1,0.5,12.2,2.5,12.7,2.0,15.7,11.2,27.4,54.1,13.5,9.4,0.3,16.0,1.3,1.5,3.6,21.8,18.5,4.3,27.4,4.6,6.1,2.5,5.8,8.6,1.5],\"yaxis\":\"y\",\"type\":\"histogram\"},{\"alignmentgroup\":\"True\",\"bingroup\":\"x\",\"histfunc\":\"avg\",\"hovertemplate\":\"weather=%{x}\\u003cbr\\u003eavg of precipitation=%{y}\\u003cextra\\u003e\\u003c\\u002fextra\\u003e\",\"legendgroup\":\"sun\",\"marker\":{\"color\":\"#00cc96\",\"pattern\":{\"shape\":\"\"}},\"name\":\"sun\",\"offsetgroup\":\"sun\",\"orientation\":\"v\",\"showlegend\":true,\"texttemplate\":\"%{value}\",\"x\":[\"sun\",\"sun\",\"sun\",\"sun\",\"sun\",\"sun\",\"sun\",\"sun\",\"sun\",\"sun\",\"sun\",\"sun\",\"sun\",\"sun\",\"sun\",\"sun\",\"sun\",\"sun\",\"sun\",\"sun\",\"sun\",\"sun\",\"sun\",\"sun\",\"sun\",\"sun\",\"sun\",\"sun\",\"sun\",\"sun\",\"sun\",\"sun\",\"sun\",\"sun\",\"sun\",\"sun\",\"sun\",\"sun\",\"sun\",\"sun\",\"sun\",\"sun\",\"sun\",\"sun\",\"sun\",\"sun\",\"sun\",\"sun\",\"sun\",\"sun\",\"sun\",\"sun\",\"sun\",\"sun\",\"sun\",\"sun\",\"sun\",\"sun\",\"sun\",\"sun\",\"sun\",\"sun\",\"sun\",\"sun\",\"sun\",\"sun\",\"sun\",\"sun\",\"sun\",\"sun\",\"sun\",\"sun\",\"sun\",\"sun\",\"sun\",\"sun\",\"sun\",\"sun\",\"sun\",\"sun\",\"sun\",\"sun\",\"sun\",\"sun\",\"sun\",\"sun\",\"sun\",\"sun\",\"sun\",\"sun\",\"sun\",\"sun\",\"sun\",\"sun\",\"sun\",\"sun\",\"sun\",\"sun\",\"sun\",\"sun\",\"sun\",\"sun\",\"sun\",\"sun\",\"sun\",\"sun\",\"sun\",\"sun\",\"sun\",\"sun\",\"sun\",\"sun\",\"sun\",\"sun\",\"sun\",\"sun\",\"sun\",\"sun\",\"sun\",\"sun\",\"sun\",\"sun\",\"sun\",\"sun\",\"sun\",\"sun\",\"sun\",\"sun\",\"sun\",\"sun\",\"sun\",\"sun\",\"sun\",\"sun\",\"sun\",\"sun\",\"sun\",\"sun\",\"sun\",\"sun\",\"sun\",\"sun\",\"sun\",\"sun\",\"sun\",\"sun\",\"sun\",\"sun\",\"sun\",\"sun\",\"sun\",\"sun\",\"sun\",\"sun\",\"sun\",\"sun\",\"sun\",\"sun\",\"sun\",\"sun\",\"sun\",\"sun\",\"sun\",\"sun\",\"sun\",\"sun\",\"sun\",\"sun\",\"sun\",\"sun\",\"sun\",\"sun\",\"sun\",\"sun\",\"sun\",\"sun\",\"sun\",\"sun\",\"sun\",\"sun\",\"sun\",\"sun\",\"sun\",\"sun\",\"sun\",\"sun\",\"sun\",\"sun\",\"sun\",\"sun\",\"sun\",\"sun\",\"sun\",\"sun\",\"sun\",\"sun\",\"sun\",\"sun\",\"sun\",\"sun\",\"sun\",\"sun\",\"sun\",\"sun\",\"sun\",\"sun\",\"sun\",\"sun\",\"sun\",\"sun\",\"sun\",\"sun\",\"sun\",\"sun\",\"sun\",\"sun\",\"sun\",\"sun\",\"sun\",\"sun\",\"sun\",\"sun\",\"sun\",\"sun\",\"sun\",\"sun\",\"sun\",\"sun\",\"sun\",\"sun\",\"sun\",\"sun\",\"sun\",\"sun\",\"sun\",\"sun\",\"sun\",\"sun\",\"sun\",\"sun\",\"sun\",\"sun\",\"sun\",\"sun\",\"sun\",\"sun\",\"sun\",\"sun\",\"sun\",\"sun\",\"sun\",\"sun\",\"sun\",\"sun\",\"sun\",\"sun\",\"sun\",\"sun\",\"sun\",\"sun\",\"sun\",\"sun\",\"sun\",\"sun\",\"sun\",\"sun\",\"sun\",\"sun\",\"sun\",\"sun\",\"sun\",\"sun\",\"sun\",\"sun\",\"sun\",\"sun\",\"sun\",\"sun\",\"sun\",\"sun\",\"sun\",\"sun\",\"sun\",\"sun\",\"sun\",\"sun\",\"sun\",\"sun\",\"sun\",\"sun\",\"sun\",\"sun\",\"sun\",\"sun\",\"sun\",\"sun\",\"sun\",\"sun\",\"sun\",\"sun\",\"sun\",\"sun\",\"sun\",\"sun\",\"sun\",\"sun\",\"sun\",\"sun\",\"sun\",\"sun\",\"sun\",\"sun\",\"sun\",\"sun\",\"sun\",\"sun\",\"sun\",\"sun\",\"sun\",\"sun\",\"sun\",\"sun\",\"sun\",\"sun\",\"sun\",\"sun\",\"sun\",\"sun\",\"sun\",\"sun\",\"sun\",\"sun\",\"sun\",\"sun\",\"sun\",\"sun\",\"sun\",\"sun\",\"sun\",\"sun\",\"sun\",\"sun\",\"sun\",\"sun\",\"sun\",\"sun\",\"sun\",\"sun\",\"sun\",\"sun\",\"sun\",\"sun\",\"sun\",\"sun\",\"sun\",\"sun\",\"sun\",\"sun\",\"sun\",\"sun\",\"sun\",\"sun\",\"sun\",\"sun\",\"sun\",\"sun\",\"sun\",\"sun\",\"sun\",\"sun\",\"sun\",\"sun\",\"sun\",\"sun\",\"sun\",\"sun\",\"sun\",\"sun\",\"sun\",\"sun\",\"sun\",\"sun\",\"sun\",\"sun\",\"sun\",\"sun\",\"sun\",\"sun\",\"sun\",\"sun\",\"sun\",\"sun\",\"sun\",\"sun\",\"sun\",\"sun\",\"sun\",\"sun\",\"sun\",\"sun\",\"sun\",\"sun\",\"sun\",\"sun\",\"sun\",\"sun\",\"sun\",\"sun\",\"sun\",\"sun\",\"sun\",\"sun\",\"sun\",\"sun\",\"sun\",\"sun\",\"sun\",\"sun\",\"sun\",\"sun\",\"sun\",\"sun\",\"sun\",\"sun\",\"sun\",\"sun\",\"sun\",\"sun\",\"sun\",\"sun\",\"sun\",\"sun\",\"sun\",\"sun\",\"sun\",\"sun\",\"sun\",\"sun\",\"sun\",\"sun\",\"sun\",\"sun\",\"sun\",\"sun\",\"sun\",\"sun\",\"sun\",\"sun\",\"sun\",\"sun\",\"sun\",\"sun\",\"sun\",\"sun\",\"sun\",\"sun\",\"sun\",\"sun\",\"sun\",\"sun\",\"sun\",\"sun\",\"sun\",\"sun\",\"sun\",\"sun\",\"sun\",\"sun\",\"sun\",\"sun\",\"sun\",\"sun\",\"sun\",\"sun\",\"sun\",\"sun\",\"sun\",\"sun\",\"sun\",\"sun\",\"sun\",\"sun\",\"sun\",\"sun\",\"sun\",\"sun\",\"sun\",\"sun\",\"sun\",\"sun\",\"sun\",\"sun\",\"sun\",\"sun\",\"sun\",\"sun\",\"sun\",\"sun\",\"sun\",\"sun\",\"sun\",\"sun\",\"sun\",\"sun\",\"sun\",\"sun\",\"sun\",\"sun\",\"sun\",\"sun\",\"sun\",\"sun\",\"sun\",\"sun\",\"sun\",\"sun\",\"sun\",\"sun\",\"sun\",\"sun\",\"sun\",\"sun\",\"sun\",\"sun\",\"sun\",\"sun\",\"sun\",\"sun\",\"sun\",\"sun\",\"sun\",\"sun\",\"sun\",\"sun\",\"sun\",\"sun\",\"sun\",\"sun\",\"sun\",\"sun\",\"sun\",\"sun\",\"sun\",\"sun\",\"sun\",\"sun\",\"sun\",\"sun\",\"sun\",\"sun\",\"sun\",\"sun\",\"sun\",\"sun\",\"sun\",\"sun\",\"sun\",\"sun\",\"sun\",\"sun\",\"sun\",\"sun\",\"sun\",\"sun\",\"sun\",\"sun\",\"sun\",\"sun\",\"sun\",\"sun\",\"sun\",\"sun\",\"sun\",\"sun\",\"sun\",\"sun\",\"sun\",\"sun\",\"sun\",\"sun\",\"sun\",\"sun\",\"sun\",\"sun\",\"sun\",\"sun\",\"sun\",\"sun\",\"sun\",\"sun\",\"sun\",\"sun\",\"sun\",\"sun\",\"sun\",\"sun\",\"sun\",\"sun\",\"sun\",\"sun\",\"sun\",\"sun\",\"sun\",\"sun\",\"sun\",\"sun\",\"sun\",\"sun\",\"sun\",\"sun\",\"sun\",\"sun\",\"sun\",\"sun\",\"sun\",\"sun\",\"sun\",\"sun\",\"sun\",\"sun\",\"sun\",\"sun\",\"sun\",\"sun\",\"sun\",\"sun\",\"sun\",\"sun\",\"sun\",\"sun\",\"sun\",\"sun\",\"sun\",\"sun\",\"sun\",\"sun\",\"sun\",\"sun\",\"sun\",\"sun\"],\"xaxis\":\"x\",\"y\":[0.0,0.0,0.0,0.0,0.0,0.0,0.0,0.0,0.0,0.0,0.0,0.0,0.0,0.0,0.0,0.0,0.0,0.0,0.0,0.0,0.0,0.0,0.0,0.0,0.0,0.0,0.0,0.0,0.0,0.0,0.0,0.0,0.0,0.0,0.0,0.0,0.0,0.0,0.0,0.0,0.0,0.0,0.0,0.0,0.0,0.0,0.0,0.0,0.0,0.0,0.0,0.0,0.0,0.0,0.0,0.0,0.0,0.0,0.0,0.0,0.0,0.0,0.0,0.0,0.0,0.0,0.0,0.0,0.0,0.0,0.0,0.0,0.0,0.0,0.0,0.0,0.0,0.0,0.0,0.0,0.0,0.0,0.0,0.0,0.0,0.0,0.0,0.0,0.0,0.0,0.0,0.0,0.0,0.0,0.0,0.0,0.0,0.0,0.0,0.0,0.0,0.0,0.0,0.0,0.0,0.0,0.0,0.0,0.0,0.0,0.0,0.0,0.0,0.0,0.0,0.0,0.0,0.0,0.0,0.0,0.0,0.0,0.0,0.0,0.0,0.0,0.0,0.0,0.0,0.0,0.0,0.0,0.0,0.0,0.0,0.0,0.0,0.0,0.0,0.0,0.0,0.0,0.0,0.0,0.0,0.0,0.0,0.0,0.0,0.0,0.0,0.0,0.0,0.0,0.0,0.0,0.0,0.0,0.0,0.0,0.0,0.0,0.0,0.0,0.0,0.0,0.0,0.0,0.0,0.0,0.0,0.0,0.0,0.0,0.0,0.0,0.0,0.0,0.0,0.0,0.0,0.0,0.0,0.0,0.0,0.0,0.0,0.0,0.0,0.0,0.0,0.0,0.0,0.0,0.0,0.0,0.0,0.0,0.0,0.0,0.0,0.0,0.0,0.0,0.0,0.0,0.0,0.0,0.0,0.0,0.0,0.0,0.0,0.0,0.0,0.0,0.0,0.0,0.0,0.0,0.0,0.0,0.0,0.0,0.0,0.0,0.0,0.0,0.0,0.0,0.0,0.0,0.0,0.0,0.0,0.0,0.0,0.0,0.0,0.0,0.0,0.0,0.0,0.0,0.0,0.0,0.0,0.0,0.0,0.0,0.0,0.0,0.0,0.0,0.0,0.0,0.0,0.0,0.0,0.0,0.0,0.0,0.0,0.0,0.0,0.0,0.0,0.0,0.0,0.0,0.0,0.0,0.0,0.0,0.0,0.0,0.0,0.0,0.0,0.0,0.0,0.0,0.0,0.0,0.0,0.0,0.0,0.0,0.0,0.0,0.0,0.0,0.0,0.0,0.0,0.0,0.0,0.0,0.0,0.0,0.0,0.0,0.0,0.0,0.0,0.0,0.0,0.0,0.0,0.0,0.0,0.0,0.0,0.0,0.0,0.0,0.0,0.0,0.0,0.0,0.0,0.0,0.0,0.0,0.0,0.0,0.0,0.0,0.0,0.0,0.0,0.0,0.0,0.0,0.0,0.0,0.0,0.0,0.0,0.0,0.0,0.0,0.0,0.0,0.0,0.0,0.0,0.0,0.0,0.0,0.0,0.0,0.0,0.0,0.0,0.0,0.0,0.0,0.0,0.0,0.0,0.0,0.0,0.0,0.0,0.0,0.0,0.0,0.0,0.0,0.0,0.0,0.0,0.0,0.0,0.0,0.0,0.0,0.0,0.0,0.0,0.0,0.0,0.0,0.0,0.0,0.0,0.0,0.0,0.0,0.0,0.0,0.0,0.0,0.0,0.0,0.0,0.0,0.0,0.0,0.0,0.0,0.0,0.0,0.0,0.0,0.0,0.0,0.0,0.0,0.0,0.0,0.0,0.0,0.0,0.0,0.0,0.0,0.0,0.0,0.0,0.0,0.0,0.0,0.0,0.0,0.0,0.0,0.0,0.0,0.0,0.0,0.0,0.0,0.0,0.0,0.0,0.0,0.0,0.0,0.0,0.0,0.0,0.0,0.0,0.0,0.0,0.0,0.0,0.0,0.0,0.0,0.0,0.0,0.0,0.0,0.0,0.0,0.0,0.0,0.0,0.0,0.0,0.0,0.0,0.0,0.0,0.0,0.0,0.0,0.0,0.0,0.0,0.0,0.0,0.0,0.0,0.0,0.0,0.0,0.0,0.0,0.0,0.0,0.0,0.0,0.0,0.0,0.0,0.0,0.0,0.0,0.0,0.0,0.0,0.0,0.0,0.0,0.0,0.0,0.0,0.0,0.0,0.0,0.0,0.0,0.0,0.0,0.0,0.0,0.0,0.0,0.0,0.0,0.0,0.0,0.0,0.0,0.0,0.0,0.0,0.0,0.0,0.0,0.0,0.0,0.0,0.0,0.0,0.0,0.0,0.0,0.0,0.0,0.0,0.0,0.0,0.0,0.0,0.0,0.0,0.0,0.0,0.0,0.0,0.0,0.0,0.0,0.0,0.0,0.0,0.0,0.0,0.0,0.0,0.0,0.0,0.0,0.0,0.0,0.0,0.0,0.0,0.0,0.0,0.0,0.0,0.0,0.0,0.0,0.0,0.0,0.0,0.0,0.0,0.0,0.0,0.0,0.0,0.0,0.0,0.0,0.0,0.0,0.0,0.0,0.0,0.0,0.0,0.0,0.0,0.0,0.0,0.0,0.0,0.0,0.0,0.0,0.0,0.0,0.0,0.0,0.0,0.0,0.0,0.0,0.0,0.0,0.0,0.0,0.0,0.0,0.0,0.0,0.0,0.0,0.0,0.0,0.0,0.0,0.0,0.0,0.0,0.0,0.0,0.0,0.0,0.0,0.0,0.0,0.0,0.0,0.0,0.0,0.0,0.0,0.0,0.0,0.0,0.0],\"yaxis\":\"y\",\"type\":\"histogram\"},{\"alignmentgroup\":\"True\",\"bingroup\":\"x\",\"histfunc\":\"avg\",\"hovertemplate\":\"weather=%{x}\\u003cbr\\u003eavg of precipitation=%{y}\\u003cextra\\u003e\\u003c\\u002fextra\\u003e\",\"legendgroup\":\"snow\",\"marker\":{\"color\":\"#ab63fa\",\"pattern\":{\"shape\":\"\"}},\"name\":\"snow\",\"offsetgroup\":\"snow\",\"orientation\":\"v\",\"showlegend\":true,\"texttemplate\":\"%{value}\",\"x\":[\"snow\",\"snow\",\"snow\",\"snow\",\"snow\",\"snow\",\"snow\",\"snow\",\"snow\",\"snow\",\"snow\",\"snow\",\"snow\",\"snow\",\"snow\",\"snow\",\"snow\",\"snow\",\"snow\",\"snow\",\"snow\",\"snow\",\"snow\",\"snow\",\"snow\",\"snow\"],\"xaxis\":\"x\",\"y\":[4.1,5.3,2.5,8.1,19.8,15.2,13.5,1.3,3.6,0.8,0.5,19.3,9.4,23.9,9.4,4.6,5.3,22.6,3.3,13.7,13.5,0.3,8.1,5.6,5.1,3.6],\"yaxis\":\"y\",\"type\":\"histogram\"},{\"alignmentgroup\":\"True\",\"bingroup\":\"x\",\"histfunc\":\"avg\",\"hovertemplate\":\"weather=%{x}\\u003cbr\\u003eavg of precipitation=%{y}\\u003cextra\\u003e\\u003c\\u002fextra\\u003e\",\"legendgroup\":\"fog\",\"marker\":{\"color\":\"#FFA15A\",\"pattern\":{\"shape\":\"\"}},\"name\":\"fog\",\"offsetgroup\":\"fog\",\"orientation\":\"v\",\"showlegend\":true,\"texttemplate\":\"%{value}\",\"x\":[\"fog\",\"fog\",\"fog\",\"fog\",\"fog\",\"fog\",\"fog\",\"fog\",\"fog\",\"fog\",\"fog\",\"fog\",\"fog\",\"fog\",\"fog\",\"fog\",\"fog\",\"fog\",\"fog\",\"fog\",\"fog\",\"fog\",\"fog\",\"fog\",\"fog\",\"fog\",\"fog\",\"fog\",\"fog\",\"fog\",\"fog\",\"fog\",\"fog\",\"fog\",\"fog\",\"fog\",\"fog\",\"fog\",\"fog\",\"fog\",\"fog\",\"fog\",\"fog\",\"fog\",\"fog\",\"fog\",\"fog\",\"fog\",\"fog\",\"fog\",\"fog\",\"fog\",\"fog\",\"fog\",\"fog\",\"fog\",\"fog\",\"fog\",\"fog\",\"fog\",\"fog\",\"fog\",\"fog\",\"fog\",\"fog\",\"fog\",\"fog\",\"fog\",\"fog\",\"fog\",\"fog\",\"fog\",\"fog\",\"fog\",\"fog\",\"fog\",\"fog\",\"fog\",\"fog\",\"fog\",\"fog\",\"fog\",\"fog\",\"fog\",\"fog\",\"fog\",\"fog\",\"fog\",\"fog\",\"fog\",\"fog\",\"fog\",\"fog\",\"fog\",\"fog\",\"fog\",\"fog\",\"fog\",\"fog\",\"fog\",\"fog\"],\"xaxis\":\"x\",\"y\":[0.0,0.0,0.0,0.0,0.0,0.0,0.0,0.0,0.0,0.0,0.0,0.0,0.0,0.0,0.0,0.0,0.0,0.0,0.0,0.0,0.0,0.0,0.0,0.0,0.0,0.0,0.0,0.0,0.0,0.0,0.0,0.0,0.0,0.0,0.0,0.0,0.0,0.0,0.0,0.0,0.0,0.0,0.0,0.0,0.0,0.0,0.0,0.0,0.0,0.0,0.0,0.0,0.0,0.0,0.0,0.0,0.0,0.0,0.0,0.0,0.0,0.0,0.0,0.0,0.0,0.0,0.0,0.0,0.0,0.0,0.0,0.0,0.0,0.0,0.0,0.0,0.0,0.0,0.0,0.0,0.0,0.0,0.0,0.0,0.0,0.0,0.0,0.0,0.0,0.0,0.0,0.0,0.0,0.0,0.0,0.0,0.0,0.0,0.0,0.0,0.0],\"yaxis\":\"y\",\"type\":\"histogram\"}],                        {\"template\":{\"data\":{\"histogram2dcontour\":[{\"type\":\"histogram2dcontour\",\"colorbar\":{\"outlinewidth\":0,\"ticks\":\"\"},\"colorscale\":[[0.0,\"#0d0887\"],[0.1111111111111111,\"#46039f\"],[0.2222222222222222,\"#7201a8\"],[0.3333333333333333,\"#9c179e\"],[0.4444444444444444,\"#bd3786\"],[0.5555555555555556,\"#d8576b\"],[0.6666666666666666,\"#ed7953\"],[0.7777777777777778,\"#fb9f3a\"],[0.8888888888888888,\"#fdca26\"],[1.0,\"#f0f921\"]]}],\"choropleth\":[{\"type\":\"choropleth\",\"colorbar\":{\"outlinewidth\":0,\"ticks\":\"\"}}],\"histogram2d\":[{\"type\":\"histogram2d\",\"colorbar\":{\"outlinewidth\":0,\"ticks\":\"\"},\"colorscale\":[[0.0,\"#0d0887\"],[0.1111111111111111,\"#46039f\"],[0.2222222222222222,\"#7201a8\"],[0.3333333333333333,\"#9c179e\"],[0.4444444444444444,\"#bd3786\"],[0.5555555555555556,\"#d8576b\"],[0.6666666666666666,\"#ed7953\"],[0.7777777777777778,\"#fb9f3a\"],[0.8888888888888888,\"#fdca26\"],[1.0,\"#f0f921\"]]}],\"heatmap\":[{\"type\":\"heatmap\",\"colorbar\":{\"outlinewidth\":0,\"ticks\":\"\"},\"colorscale\":[[0.0,\"#0d0887\"],[0.1111111111111111,\"#46039f\"],[0.2222222222222222,\"#7201a8\"],[0.3333333333333333,\"#9c179e\"],[0.4444444444444444,\"#bd3786\"],[0.5555555555555556,\"#d8576b\"],[0.6666666666666666,\"#ed7953\"],[0.7777777777777778,\"#fb9f3a\"],[0.8888888888888888,\"#fdca26\"],[1.0,\"#f0f921\"]]}],\"heatmapgl\":[{\"type\":\"heatmapgl\",\"colorbar\":{\"outlinewidth\":0,\"ticks\":\"\"},\"colorscale\":[[0.0,\"#0d0887\"],[0.1111111111111111,\"#46039f\"],[0.2222222222222222,\"#7201a8\"],[0.3333333333333333,\"#9c179e\"],[0.4444444444444444,\"#bd3786\"],[0.5555555555555556,\"#d8576b\"],[0.6666666666666666,\"#ed7953\"],[0.7777777777777778,\"#fb9f3a\"],[0.8888888888888888,\"#fdca26\"],[1.0,\"#f0f921\"]]}],\"contourcarpet\":[{\"type\":\"contourcarpet\",\"colorbar\":{\"outlinewidth\":0,\"ticks\":\"\"}}],\"contour\":[{\"type\":\"contour\",\"colorbar\":{\"outlinewidth\":0,\"ticks\":\"\"},\"colorscale\":[[0.0,\"#0d0887\"],[0.1111111111111111,\"#46039f\"],[0.2222222222222222,\"#7201a8\"],[0.3333333333333333,\"#9c179e\"],[0.4444444444444444,\"#bd3786\"],[0.5555555555555556,\"#d8576b\"],[0.6666666666666666,\"#ed7953\"],[0.7777777777777778,\"#fb9f3a\"],[0.8888888888888888,\"#fdca26\"],[1.0,\"#f0f921\"]]}],\"surface\":[{\"type\":\"surface\",\"colorbar\":{\"outlinewidth\":0,\"ticks\":\"\"},\"colorscale\":[[0.0,\"#0d0887\"],[0.1111111111111111,\"#46039f\"],[0.2222222222222222,\"#7201a8\"],[0.3333333333333333,\"#9c179e\"],[0.4444444444444444,\"#bd3786\"],[0.5555555555555556,\"#d8576b\"],[0.6666666666666666,\"#ed7953\"],[0.7777777777777778,\"#fb9f3a\"],[0.8888888888888888,\"#fdca26\"],[1.0,\"#f0f921\"]]}],\"mesh3d\":[{\"type\":\"mesh3d\",\"colorbar\":{\"outlinewidth\":0,\"ticks\":\"\"}}],\"scatter\":[{\"fillpattern\":{\"fillmode\":\"overlay\",\"size\":10,\"solidity\":0.2},\"type\":\"scatter\"}],\"parcoords\":[{\"type\":\"parcoords\",\"line\":{\"colorbar\":{\"outlinewidth\":0,\"ticks\":\"\"}}}],\"scatterpolargl\":[{\"type\":\"scatterpolargl\",\"marker\":{\"colorbar\":{\"outlinewidth\":0,\"ticks\":\"\"}}}],\"bar\":[{\"error_x\":{\"color\":\"#2a3f5f\"},\"error_y\":{\"color\":\"#2a3f5f\"},\"marker\":{\"line\":{\"color\":\"#E5ECF6\",\"width\":0.5},\"pattern\":{\"fillmode\":\"overlay\",\"size\":10,\"solidity\":0.2}},\"type\":\"bar\"}],\"scattergeo\":[{\"type\":\"scattergeo\",\"marker\":{\"colorbar\":{\"outlinewidth\":0,\"ticks\":\"\"}}}],\"scatterpolar\":[{\"type\":\"scatterpolar\",\"marker\":{\"colorbar\":{\"outlinewidth\":0,\"ticks\":\"\"}}}],\"histogram\":[{\"marker\":{\"pattern\":{\"fillmode\":\"overlay\",\"size\":10,\"solidity\":0.2}},\"type\":\"histogram\"}],\"scattergl\":[{\"type\":\"scattergl\",\"marker\":{\"colorbar\":{\"outlinewidth\":0,\"ticks\":\"\"}}}],\"scatter3d\":[{\"type\":\"scatter3d\",\"line\":{\"colorbar\":{\"outlinewidth\":0,\"ticks\":\"\"}},\"marker\":{\"colorbar\":{\"outlinewidth\":0,\"ticks\":\"\"}}}],\"scattermapbox\":[{\"type\":\"scattermapbox\",\"marker\":{\"colorbar\":{\"outlinewidth\":0,\"ticks\":\"\"}}}],\"scatterternary\":[{\"type\":\"scatterternary\",\"marker\":{\"colorbar\":{\"outlinewidth\":0,\"ticks\":\"\"}}}],\"scattercarpet\":[{\"type\":\"scattercarpet\",\"marker\":{\"colorbar\":{\"outlinewidth\":0,\"ticks\":\"\"}}}],\"carpet\":[{\"aaxis\":{\"endlinecolor\":\"#2a3f5f\",\"gridcolor\":\"white\",\"linecolor\":\"white\",\"minorgridcolor\":\"white\",\"startlinecolor\":\"#2a3f5f\"},\"baxis\":{\"endlinecolor\":\"#2a3f5f\",\"gridcolor\":\"white\",\"linecolor\":\"white\",\"minorgridcolor\":\"white\",\"startlinecolor\":\"#2a3f5f\"},\"type\":\"carpet\"}],\"table\":[{\"cells\":{\"fill\":{\"color\":\"#EBF0F8\"},\"line\":{\"color\":\"white\"}},\"header\":{\"fill\":{\"color\":\"#C8D4E3\"},\"line\":{\"color\":\"white\"}},\"type\":\"table\"}],\"barpolar\":[{\"marker\":{\"line\":{\"color\":\"#E5ECF6\",\"width\":0.5},\"pattern\":{\"fillmode\":\"overlay\",\"size\":10,\"solidity\":0.2}},\"type\":\"barpolar\"}],\"pie\":[{\"automargin\":true,\"type\":\"pie\"}]},\"layout\":{\"autotypenumbers\":\"strict\",\"colorway\":[\"#636efa\",\"#EF553B\",\"#00cc96\",\"#ab63fa\",\"#FFA15A\",\"#19d3f3\",\"#FF6692\",\"#B6E880\",\"#FF97FF\",\"#FECB52\"],\"font\":{\"color\":\"#2a3f5f\"},\"hovermode\":\"closest\",\"hoverlabel\":{\"align\":\"left\"},\"paper_bgcolor\":\"white\",\"plot_bgcolor\":\"#E5ECF6\",\"polar\":{\"bgcolor\":\"#E5ECF6\",\"angularaxis\":{\"gridcolor\":\"white\",\"linecolor\":\"white\",\"ticks\":\"\"},\"radialaxis\":{\"gridcolor\":\"white\",\"linecolor\":\"white\",\"ticks\":\"\"}},\"ternary\":{\"bgcolor\":\"#E5ECF6\",\"aaxis\":{\"gridcolor\":\"white\",\"linecolor\":\"white\",\"ticks\":\"\"},\"baxis\":{\"gridcolor\":\"white\",\"linecolor\":\"white\",\"ticks\":\"\"},\"caxis\":{\"gridcolor\":\"white\",\"linecolor\":\"white\",\"ticks\":\"\"}},\"coloraxis\":{\"colorbar\":{\"outlinewidth\":0,\"ticks\":\"\"}},\"colorscale\":{\"sequential\":[[0.0,\"#0d0887\"],[0.1111111111111111,\"#46039f\"],[0.2222222222222222,\"#7201a8\"],[0.3333333333333333,\"#9c179e\"],[0.4444444444444444,\"#bd3786\"],[0.5555555555555556,\"#d8576b\"],[0.6666666666666666,\"#ed7953\"],[0.7777777777777778,\"#fb9f3a\"],[0.8888888888888888,\"#fdca26\"],[1.0,\"#f0f921\"]],\"sequentialminus\":[[0.0,\"#0d0887\"],[0.1111111111111111,\"#46039f\"],[0.2222222222222222,\"#7201a8\"],[0.3333333333333333,\"#9c179e\"],[0.4444444444444444,\"#bd3786\"],[0.5555555555555556,\"#d8576b\"],[0.6666666666666666,\"#ed7953\"],[0.7777777777777778,\"#fb9f3a\"],[0.8888888888888888,\"#fdca26\"],[1.0,\"#f0f921\"]],\"diverging\":[[0,\"#8e0152\"],[0.1,\"#c51b7d\"],[0.2,\"#de77ae\"],[0.3,\"#f1b6da\"],[0.4,\"#fde0ef\"],[0.5,\"#f7f7f7\"],[0.6,\"#e6f5d0\"],[0.7,\"#b8e186\"],[0.8,\"#7fbc41\"],[0.9,\"#4d9221\"],[1,\"#276419\"]]},\"xaxis\":{\"gridcolor\":\"white\",\"linecolor\":\"white\",\"ticks\":\"\",\"title\":{\"standoff\":15},\"zerolinecolor\":\"white\",\"automargin\":true,\"zerolinewidth\":2},\"yaxis\":{\"gridcolor\":\"white\",\"linecolor\":\"white\",\"ticks\":\"\",\"title\":{\"standoff\":15},\"zerolinecolor\":\"white\",\"automargin\":true,\"zerolinewidth\":2},\"scene\":{\"xaxis\":{\"backgroundcolor\":\"#E5ECF6\",\"gridcolor\":\"white\",\"linecolor\":\"white\",\"showbackground\":true,\"ticks\":\"\",\"zerolinecolor\":\"white\",\"gridwidth\":2},\"yaxis\":{\"backgroundcolor\":\"#E5ECF6\",\"gridcolor\":\"white\",\"linecolor\":\"white\",\"showbackground\":true,\"ticks\":\"\",\"zerolinecolor\":\"white\",\"gridwidth\":2},\"zaxis\":{\"backgroundcolor\":\"#E5ECF6\",\"gridcolor\":\"white\",\"linecolor\":\"white\",\"showbackground\":true,\"ticks\":\"\",\"zerolinecolor\":\"white\",\"gridwidth\":2}},\"shapedefaults\":{\"line\":{\"color\":\"#2a3f5f\"}},\"annotationdefaults\":{\"arrowcolor\":\"#2a3f5f\",\"arrowhead\":0,\"arrowwidth\":1},\"geo\":{\"bgcolor\":\"white\",\"landcolor\":\"#E5ECF6\",\"subunitcolor\":\"white\",\"showland\":true,\"showlakes\":true,\"lakecolor\":\"white\"},\"title\":{\"x\":0.05},\"mapbox\":{\"style\":\"light\"}}},\"xaxis\":{\"anchor\":\"y\",\"domain\":[0.0,1.0],\"title\":{\"text\":\"weather\"},\"categoryorder\":\"total descending\",\"categoryarray\":[\"drizzle\",\"rain\",\"sun\",\"snow\",\"fog\"]},\"yaxis\":{\"anchor\":\"x\",\"domain\":[0.0,1.0],\"title\":{\"text\":\"avg of precipitation\"}},\"legend\":{\"title\":{\"text\":\"weather\"},\"tracegroupgap\":0},\"title\":{\"text\":\"Average of precipitation in each weather state\"},\"barmode\":\"relative\"},                        {\"responsive\": true}                    ).then(function(){\n",
              "                            \n",
              "var gd = document.getElementById('577656c9-672b-4e08-a6f5-a5ce6837b625');\n",
              "var x = new MutationObserver(function (mutations, observer) {{\n",
              "        var display = window.getComputedStyle(gd).display;\n",
              "        if (!display || display === 'none') {{\n",
              "            console.log([gd, 'removed!']);\n",
              "            Plotly.purge(gd);\n",
              "            observer.disconnect();\n",
              "        }}\n",
              "}});\n",
              "\n",
              "// Listen for the removal of the full notebook cells\n",
              "var notebookContainer = gd.closest('#notebook-container');\n",
              "if (notebookContainer) {{\n",
              "    x.observe(notebookContainer, {childList: true});\n",
              "}}\n",
              "\n",
              "// Listen for the clearing of the current output cell\n",
              "var outputEl = gd.closest('.output');\n",
              "if (outputEl) {{\n",
              "    x.observe(outputEl, {childList: true});\n",
              "}}\n",
              "\n",
              "                        })                };                            </script>        </div>\n",
              "</body>\n",
              "</html>"
            ]
          },
          "metadata": {}
        }
      ],
      "source": [
        "fig = px.histogram(df, x='weather',y=\"precipitation\",color='weather',histfunc=\"avg\",text_auto=True, title='Average of precipitation in each weather state').update_xaxes(categoryorder='total descending')\n",
        "fig.show()"
      ]
    },
    {
      "cell_type": "code",
      "execution_count": 26,
      "metadata": {
        "colab": {
          "base_uri": "https://localhost:8080/",
          "height": 542
        },
        "id": "5bNoqMLHX-aP",
        "outputId": "a76ad142-c123-4473-fbc5-88bb83219af3"
      },
      "outputs": [
        {
          "output_type": "display_data",
          "data": {
            "text/html": [
              "<html>\n",
              "<head><meta charset=\"utf-8\" /></head>\n",
              "<body>\n",
              "    <div>            <script src=\"https://cdnjs.cloudflare.com/ajax/libs/mathjax/2.7.5/MathJax.js?config=TeX-AMS-MML_SVG\"></script><script type=\"text/javascript\">if (window.MathJax && window.MathJax.Hub && window.MathJax.Hub.Config) {window.MathJax.Hub.Config({SVG: {font: \"STIX-Web\"}});}</script>                <script type=\"text/javascript\">window.PlotlyConfig = {MathJaxConfig: 'local'};</script>\n",
              "        <script charset=\"utf-8\" src=\"https://cdn.plot.ly/plotly-2.35.2.min.js\"></script>                <div id=\"c43c9c7c-14ad-4731-9b4e-562fa67b9a11\" class=\"plotly-graph-div\" style=\"height:525px; width:100%;\"></div>            <script type=\"text/javascript\">                                    window.PLOTLYENV=window.PLOTLYENV || {};                                    if (document.getElementById(\"c43c9c7c-14ad-4731-9b4e-562fa67b9a11\")) {                    Plotly.newPlot(                        \"c43c9c7c-14ad-4731-9b4e-562fa67b9a11\",                        [{\"alignmentgroup\":\"True\",\"bingroup\":\"x\",\"histfunc\":\"avg\",\"hovertemplate\":\"weather=%{x}\\u003cbr\\u003eavg of temp_max=%{y}\\u003cextra\\u003e\\u003c\\u002fextra\\u003e\",\"legendgroup\":\"drizzle\",\"marker\":{\"color\":\"#636efa\",\"pattern\":{\"shape\":\"\"}},\"name\":\"drizzle\",\"offsetgroup\":\"drizzle\",\"orientation\":\"v\",\"showlegend\":true,\"texttemplate\":\"%{value}\",\"x\":[\"drizzle\",\"drizzle\",\"drizzle\",\"drizzle\",\"drizzle\",\"drizzle\",\"drizzle\",\"drizzle\",\"drizzle\",\"drizzle\",\"drizzle\",\"drizzle\",\"drizzle\",\"drizzle\",\"drizzle\",\"drizzle\",\"drizzle\",\"drizzle\",\"drizzle\",\"drizzle\",\"drizzle\",\"drizzle\",\"drizzle\",\"drizzle\",\"drizzle\",\"drizzle\",\"drizzle\",\"drizzle\",\"drizzle\",\"drizzle\",\"drizzle\",\"drizzle\",\"drizzle\",\"drizzle\",\"drizzle\",\"drizzle\",\"drizzle\",\"drizzle\",\"drizzle\",\"drizzle\",\"drizzle\",\"drizzle\",\"drizzle\",\"drizzle\",\"drizzle\",\"drizzle\",\"drizzle\",\"drizzle\",\"drizzle\",\"drizzle\",\"drizzle\",\"drizzle\",\"drizzle\"],\"xaxis\":\"x\",\"y\":[12.8,6.7,7.2,12.8,15.0,16.1,24.4,19.4,24.4,23.9,25.6,25.6,18.9,22.2,23.9,21.1,24.4,21.7,23.3,23.9,19.4,16.1,19.4,22.8,16.1,12.2,13.9,9.4,8.3,4.4,3.3,2.8,6.1,3.9,3.3,1.1,3.3,2.2,3.3,6.1,8.9,13.3,11.7,20.0,15.0,10.6,30.0,29.4,30.0,31.7,26.7,27.8,18.3],\"yaxis\":\"y\",\"type\":\"histogram\"},{\"alignmentgroup\":\"True\",\"bingroup\":\"x\",\"histfunc\":\"avg\",\"hovertemplate\":\"weather=%{x}\\u003cbr\\u003eavg of temp_max=%{y}\\u003cextra\\u003e\\u003c\\u002fextra\\u003e\",\"legendgroup\":\"rain\",\"marker\":{\"color\":\"#EF553B\",\"pattern\":{\"shape\":\"\"}},\"name\":\"rain\",\"offsetgroup\":\"rain\",\"orientation\":\"v\",\"showlegend\":true,\"texttemplate\":\"%{value}\",\"x\":[\"rain\",\"rain\",\"rain\",\"rain\",\"rain\",\"rain\",\"rain\",\"rain\",\"rain\",\"rain\",\"rain\",\"rain\",\"rain\",\"rain\",\"rain\",\"rain\",\"rain\",\"rain\",\"rain\",\"rain\",\"rain\",\"rain\",\"rain\",\"rain\",\"rain\",\"rain\",\"rain\",\"rain\",\"rain\",\"rain\",\"rain\",\"rain\",\"rain\",\"rain\",\"rain\",\"rain\",\"rain\",\"rain\",\"rain\",\"rain\",\"rain\",\"rain\",\"rain\",\"rain\",\"rain\",\"rain\",\"rain\",\"rain\",\"rain\",\"rain\",\"rain\",\"rain\",\"rain\",\"rain\",\"rain\",\"rain\",\"rain\",\"rain\",\"rain\",\"rain\",\"rain\",\"rain\",\"rain\",\"rain\",\"rain\",\"rain\",\"rain\",\"rain\",\"rain\",\"rain\",\"rain\",\"rain\",\"rain\",\"rain\",\"rain\",\"rain\",\"rain\",\"rain\",\"rain\",\"rain\",\"rain\",\"rain\",\"rain\",\"rain\",\"rain\",\"rain\",\"rain\",\"rain\",\"rain\",\"rain\",\"rain\",\"rain\",\"rain\",\"rain\",\"rain\",\"rain\",\"rain\",\"rain\",\"rain\",\"rain\",\"rain\",\"rain\",\"rain\",\"rain\",\"rain\",\"rain\",\"rain\",\"rain\",\"rain\",\"rain\",\"rain\",\"rain\",\"rain\",\"rain\",\"rain\",\"rain\",\"rain\",\"rain\",\"rain\",\"rain\",\"rain\",\"rain\",\"rain\",\"rain\",\"rain\",\"rain\",\"rain\",\"rain\",\"rain\",\"rain\",\"rain\",\"rain\",\"rain\",\"rain\",\"rain\",\"rain\",\"rain\",\"rain\",\"rain\",\"rain\",\"rain\",\"rain\",\"rain\",\"rain\",\"rain\",\"rain\",\"rain\",\"rain\",\"rain\",\"rain\",\"rain\",\"rain\",\"rain\",\"rain\",\"rain\",\"rain\",\"rain\",\"rain\",\"rain\",\"rain\",\"rain\",\"rain\",\"rain\",\"rain\",\"rain\",\"rain\",\"rain\",\"rain\",\"rain\",\"rain\",\"rain\",\"rain\",\"rain\",\"rain\",\"rain\",\"rain\",\"rain\",\"rain\",\"rain\",\"rain\",\"rain\",\"rain\",\"rain\",\"rain\",\"rain\",\"rain\",\"rain\",\"rain\",\"rain\",\"rain\",\"rain\",\"rain\",\"rain\",\"rain\",\"rain\",\"rain\",\"rain\",\"rain\",\"rain\",\"rain\",\"rain\",\"rain\",\"rain\",\"rain\",\"rain\",\"rain\",\"rain\",\"rain\",\"rain\",\"rain\",\"rain\",\"rain\",\"rain\",\"rain\",\"rain\",\"rain\",\"rain\",\"rain\",\"rain\",\"rain\",\"rain\",\"rain\",\"rain\",\"rain\",\"rain\",\"rain\",\"rain\",\"rain\",\"rain\",\"rain\",\"rain\",\"rain\",\"rain\",\"rain\",\"rain\",\"rain\",\"rain\",\"rain\",\"rain\",\"rain\",\"rain\",\"rain\",\"rain\",\"rain\",\"rain\",\"rain\",\"rain\",\"rain\",\"rain\",\"rain\",\"rain\",\"rain\",\"rain\",\"rain\",\"rain\",\"rain\",\"rain\",\"rain\",\"rain\",\"rain\",\"rain\",\"rain\",\"rain\",\"rain\",\"rain\",\"rain\",\"rain\",\"rain\",\"rain\",\"rain\",\"rain\",\"rain\",\"rain\",\"rain\",\"rain\",\"rain\",\"rain\",\"rain\",\"rain\",\"rain\",\"rain\",\"rain\",\"rain\",\"rain\",\"rain\",\"rain\",\"rain\",\"rain\",\"rain\",\"rain\",\"rain\",\"rain\",\"rain\",\"rain\",\"rain\",\"rain\",\"rain\",\"rain\",\"rain\",\"rain\",\"rain\",\"rain\",\"rain\",\"rain\",\"rain\",\"rain\",\"rain\",\"rain\",\"rain\",\"rain\",\"rain\",\"rain\",\"rain\",\"rain\",\"rain\",\"rain\",\"rain\",\"rain\",\"rain\",\"rain\",\"rain\",\"rain\",\"rain\",\"rain\",\"rain\",\"rain\",\"rain\",\"rain\",\"rain\",\"rain\",\"rain\",\"rain\",\"rain\",\"rain\",\"rain\",\"rain\",\"rain\",\"rain\",\"rain\",\"rain\",\"rain\",\"rain\",\"rain\",\"rain\",\"rain\",\"rain\",\"rain\",\"rain\",\"rain\",\"rain\",\"rain\",\"rain\",\"rain\",\"rain\",\"rain\",\"rain\",\"rain\",\"rain\",\"rain\",\"rain\",\"rain\",\"rain\",\"rain\",\"rain\",\"rain\",\"rain\",\"rain\",\"rain\",\"rain\",\"rain\",\"rain\",\"rain\",\"rain\",\"rain\",\"rain\",\"rain\",\"rain\",\"rain\",\"rain\",\"rain\",\"rain\",\"rain\",\"rain\",\"rain\",\"rain\",\"rain\",\"rain\",\"rain\",\"rain\",\"rain\",\"rain\",\"rain\",\"rain\",\"rain\",\"rain\",\"rain\",\"rain\",\"rain\",\"rain\",\"rain\",\"rain\",\"rain\",\"rain\",\"rain\",\"rain\",\"rain\",\"rain\",\"rain\",\"rain\",\"rain\",\"rain\",\"rain\",\"rain\",\"rain\",\"rain\",\"rain\",\"rain\",\"rain\",\"rain\",\"rain\",\"rain\",\"rain\",\"rain\",\"rain\",\"rain\",\"rain\",\"rain\",\"rain\",\"rain\",\"rain\",\"rain\",\"rain\",\"rain\",\"rain\",\"rain\",\"rain\",\"rain\",\"rain\",\"rain\",\"rain\",\"rain\",\"rain\",\"rain\",\"rain\",\"rain\",\"rain\",\"rain\",\"rain\",\"rain\",\"rain\",\"rain\",\"rain\",\"rain\",\"rain\",\"rain\",\"rain\",\"rain\",\"rain\",\"rain\",\"rain\",\"rain\",\"rain\",\"rain\",\"rain\",\"rain\",\"rain\",\"rain\",\"rain\",\"rain\",\"rain\",\"rain\",\"rain\",\"rain\",\"rain\",\"rain\",\"rain\",\"rain\",\"rain\",\"rain\",\"rain\",\"rain\",\"rain\",\"rain\",\"rain\",\"rain\",\"rain\",\"rain\",\"rain\",\"rain\",\"rain\",\"rain\",\"rain\",\"rain\",\"rain\",\"rain\",\"rain\",\"rain\",\"rain\",\"rain\",\"rain\",\"rain\",\"rain\",\"rain\",\"rain\",\"rain\",\"rain\",\"rain\",\"rain\",\"rain\",\"rain\",\"rain\",\"rain\",\"rain\",\"rain\",\"rain\",\"rain\",\"rain\",\"rain\",\"rain\",\"rain\",\"rain\",\"rain\",\"rain\",\"rain\",\"rain\",\"rain\",\"rain\",\"rain\",\"rain\",\"rain\",\"rain\",\"rain\",\"rain\",\"rain\",\"rain\",\"rain\",\"rain\",\"rain\",\"rain\",\"rain\",\"rain\",\"rain\",\"rain\",\"rain\",\"rain\",\"rain\",\"rain\",\"rain\",\"rain\",\"rain\",\"rain\",\"rain\",\"rain\",\"rain\",\"rain\",\"rain\",\"rain\",\"rain\",\"rain\",\"rain\",\"rain\",\"rain\",\"rain\",\"rain\",\"rain\",\"rain\",\"rain\",\"rain\",\"rain\",\"rain\",\"rain\",\"rain\",\"rain\",\"rain\",\"rain\",\"rain\",\"rain\",\"rain\",\"rain\",\"rain\",\"rain\",\"rain\",\"rain\",\"rain\",\"rain\",\"rain\",\"rain\",\"rain\",\"rain\",\"rain\",\"rain\",\"rain\",\"rain\",\"rain\",\"rain\",\"rain\",\"rain\",\"rain\",\"rain\",\"rain\",\"rain\",\"rain\",\"rain\",\"rain\",\"rain\",\"rain\",\"rain\",\"rain\",\"rain\",\"rain\",\"rain\",\"rain\",\"rain\",\"rain\",\"rain\",\"rain\",\"rain\",\"rain\",\"rain\",\"rain\",\"rain\",\"rain\",\"rain\",\"rain\",\"rain\",\"rain\",\"rain\",\"rain\",\"rain\",\"rain\",\"rain\",\"rain\",\"rain\",\"rain\",\"rain\",\"rain\",\"rain\",\"rain\",\"rain\",\"rain\",\"rain\"],\"xaxis\":\"x\",\"y\":[10.6,11.7,12.2,8.9,4.4,7.2,9.4,6.1,8.3,6.7,8.3,10.0,8.9,8.9,6.7,9.4,8.3,9.4,8.9,15.6,10.0,11.1,12.8,8.9,8.3,7.2,6.7,7.2,10.0,6.7,7.8,10.0,10.0,6.7,7.2,6.7,10.6,7.8,9.4,7.2,6.7,7.8,8.9,5.0,7.2,7.8,8.9,10.0,13.3,14.4,10.6,10.0,9.4,10.0,8.9,11.7,11.1,17.8,11.1,13.9,16.1,13.3,10.0,13.3,13.9,13.3,23.3,13.9,16.7,13.9,13.3,15.6,12.8,11.7,13.3,11.1,12.2,13.3,17.8,15.6,14.4,16.7,12.8,14.4,17.2,22.2,16.7,18.9,17.8,20.0,18.9,12.8,13.3,16.1,15.0,17.2,23.3,18.3,21.1,17.2,19.4,13.9,15.6,19.4,18.3,22.2,21.7,20.0,20.0,18.9,18.3,28.3,25.0,23.3,25.0,18.9,26.1,19.4,20.6,18.9,28.3,23.3,18.9,20.0,19.4,25.0,13.9,15.6,17.8,17.2,17.8,15.0,11.1,11.7,7.8,11.1,11.7,11.1,14.4,14.4,15.6,15.0,15.6,15.0,15.0,15.6,17.8,15.0,12.8,12.2,10.0,8.9,8.9,12.8,11.1,11.1,9.4,12.2,10.0,13.3,11.1,8.3,8.9,9.4,8.9,9.4,12.8,15.0,13.3,8.3,9.4,11.7,8.9,7.2,7.8,6.7,7.2,7.8,6.7,7.2,6.1,8.3,7.2,8.3,8.3,7.2,5.6,6.7,7.8,8.3,5.0,6.7,10.0,6.7,7.2,10.0,11.7,10.0,7.2,7.2,10.6,8.3,5.6,6.1,8.3,8.9,9.4,11.7,8.9,10.6,10.0,10.6,9.4,8.3,8.3,11.1,9.4,9.4,11.1,9.4,7.8,7.8,6.7,7.8,10.0,8.9,10.6,8.9,10.0,11.7,15.0,13.9,9.4,7.2,12.2,7.8,10.6,12.8,11.7,11.7,14.4,10.6,11.7,12.8,11.1,13.3,16.1,18.3,14.4,13.9,12.2,8.3,13.3,15.0,12.2,7.8,10.6,12.8,13.9,11.7,13.3,12.2,15.0,13.9,21.7,18.9,17.2,17.2,15.6,11.1,12.2,16.7,18.3,16.7,17.2,16.1,20.6,20.6,23.3,17.2,20.6,22.2,21.1,23.3,22.2,21.1,17.2,25.6,27.2,21.1,22.2,24.4,26.7,26.7,23.9,25.0,22.8,20.0,21.7,18.9,21.7,23.3,17.2,16.1,16.1,13.9,16.7,14.4,13.9,14.4,12.8,14.4,22.8,16.1,13.9,14.4,13.9,14.4,13.9,15.0,14.4,17.8,14.4,12.2,13.3,12.8,11.1,11.1,15.6,11.1,10.6,11.7,12.8,13.3,9.4,11.1,13.3,7.8,5.6,9.4,11.7,10.0,7.8,8.9,10.6,11.7,8.9,8.9,8.3,10.6,8.9,7.8,8.3,10.0,9.4,12.8,14.4,11.1,9.4,11.1,11.1,7.8,7.8,3.9,10.0,12.2,12.2,12.8,11.7,11.1,9.4,8.3,8.9,8.3,10.0,6.7,5.6,7.2,6.7,12.2,7.2,11.1,14.4,13.9,15.6,13.3,12.8,15.0,12.2,13.9,14.4,16.7,10.6,10.0,11.1,13.9,11.1,12.2,11.7,11.7,13.3,11.7,15.6,14.4,11.1,11.7,11.7,17.2,12.2,11.7,13.9,15.0,11.1,15.0,14.4,15.6,13.9,13.3,15.6,20.0,15.0,21.7,15.6,18.3,17.8,17.8,25.6,20.0,21.1,20.0,21.1,18.9,29.4,35.6,27.2,23.3,24.4,17.8,21.1,20.0,22.8,19.4,22.2,18.9,18.9,21.7,20.0,16.7,18.3,18.3,21.1,16.7,16.1,16.7,19.4,16.1,16.1,15.6,14.4,14.4,16.7,12.8,15.6,15.0,16.7,15.6,12.8,13.3,13.9,14.4,15.0,16.7,13.3,11.1,11.1,9.4,12.8,11.7,13.9,15.0,14.4,12.8,8.3,12.8,11.7,14.4,16.1,18.9,14.4,8.9,9.4,11.1,12.8,12.2,7.2,9.4,6.7,5.6,10.6,12.2,10.0,7.8,9.4,7.8,13.3,13.9,10.0,9.4,12.2,14.4,11.1,9.4,11.1,10.0,10.6,13.3,14.4,12.2,15.0,13.3,12.8,16.7,14.4,10.6,11.1,10.0,11.7,10.0,13.3,14.4,17.2,13.9,10.6,13.9,13.3,13.9,13.3,11.7,11.1,12.8,14.4,18.3,17.8,12.8,12.8,11.1,13.9,14.4,13.9,11.7,11.7,17.2,12.2,12.2,13.3,25.0,15.6,14.4,15.6,12.2,17.8,16.1,17.8,23.9,28.3,22.8,22.2,28.3,18.3,22.8,23.3,22.2,20.0,19.4,20.6,16.1,21.1,20.6,20.0,18.3,22.8,15.6,16.1,19.4,21.1,18.3,16.7,19.4,15.0,17.2,19.4,12.2,13.9,15.0,17.2,15.6,12.2,11.1,10.6,11.7,12.2,11.1,10.0,11.1,11.1,11.1,13.3,9.4,8.9,8.9,13.3,8.9,8.9,6.7,6.7,5.6,10.0,10.6,15.6,10.6,10.0,12.8,11.1,15.6,12.2,11.7,9.4,8.9,7.8,6.7,6.1,6.7,8.9,7.8,5.6,7.8,5.0,5.6,5.0,4.4,5.0],\"yaxis\":\"y\",\"type\":\"histogram\"},{\"alignmentgroup\":\"True\",\"bingroup\":\"x\",\"histfunc\":\"avg\",\"hovertemplate\":\"weather=%{x}\\u003cbr\\u003eavg of temp_max=%{y}\\u003cextra\\u003e\\u003c\\u002fextra\\u003e\",\"legendgroup\":\"sun\",\"marker\":{\"color\":\"#00cc96\",\"pattern\":{\"shape\":\"\"}},\"name\":\"sun\",\"offsetgroup\":\"sun\",\"orientation\":\"v\",\"showlegend\":true,\"texttemplate\":\"%{value}\",\"x\":[\"sun\",\"sun\",\"sun\",\"sun\",\"sun\",\"sun\",\"sun\",\"sun\",\"sun\",\"sun\",\"sun\",\"sun\",\"sun\",\"sun\",\"sun\",\"sun\",\"sun\",\"sun\",\"sun\",\"sun\",\"sun\",\"sun\",\"sun\",\"sun\",\"sun\",\"sun\",\"sun\",\"sun\",\"sun\",\"sun\",\"sun\",\"sun\",\"sun\",\"sun\",\"sun\",\"sun\",\"sun\",\"sun\",\"sun\",\"sun\",\"sun\",\"sun\",\"sun\",\"sun\",\"sun\",\"sun\",\"sun\",\"sun\",\"sun\",\"sun\",\"sun\",\"sun\",\"sun\",\"sun\",\"sun\",\"sun\",\"sun\",\"sun\",\"sun\",\"sun\",\"sun\",\"sun\",\"sun\",\"sun\",\"sun\",\"sun\",\"sun\",\"sun\",\"sun\",\"sun\",\"sun\",\"sun\",\"sun\",\"sun\",\"sun\",\"sun\",\"sun\",\"sun\",\"sun\",\"sun\",\"sun\",\"sun\",\"sun\",\"sun\",\"sun\",\"sun\",\"sun\",\"sun\",\"sun\",\"sun\",\"sun\",\"sun\",\"sun\",\"sun\",\"sun\",\"sun\",\"sun\",\"sun\",\"sun\",\"sun\",\"sun\",\"sun\",\"sun\",\"sun\",\"sun\",\"sun\",\"sun\",\"sun\",\"sun\",\"sun\",\"sun\",\"sun\",\"sun\",\"sun\",\"sun\",\"sun\",\"sun\",\"sun\",\"sun\",\"sun\",\"sun\",\"sun\",\"sun\",\"sun\",\"sun\",\"sun\",\"sun\",\"sun\",\"sun\",\"sun\",\"sun\",\"sun\",\"sun\",\"sun\",\"sun\",\"sun\",\"sun\",\"sun\",\"sun\",\"sun\",\"sun\",\"sun\",\"sun\",\"sun\",\"sun\",\"sun\",\"sun\",\"sun\",\"sun\",\"sun\",\"sun\",\"sun\",\"sun\",\"sun\",\"sun\",\"sun\",\"sun\",\"sun\",\"sun\",\"sun\",\"sun\",\"sun\",\"sun\",\"sun\",\"sun\",\"sun\",\"sun\",\"sun\",\"sun\",\"sun\",\"sun\",\"sun\",\"sun\",\"sun\",\"sun\",\"sun\",\"sun\",\"sun\",\"sun\",\"sun\",\"sun\",\"sun\",\"sun\",\"sun\",\"sun\",\"sun\",\"sun\",\"sun\",\"sun\",\"sun\",\"sun\",\"sun\",\"sun\",\"sun\",\"sun\",\"sun\",\"sun\",\"sun\",\"sun\",\"sun\",\"sun\",\"sun\",\"sun\",\"sun\",\"sun\",\"sun\",\"sun\",\"sun\",\"sun\",\"sun\",\"sun\",\"sun\",\"sun\",\"sun\",\"sun\",\"sun\",\"sun\",\"sun\",\"sun\",\"sun\",\"sun\",\"sun\",\"sun\",\"sun\",\"sun\",\"sun\",\"sun\",\"sun\",\"sun\",\"sun\",\"sun\",\"sun\",\"sun\",\"sun\",\"sun\",\"sun\",\"sun\",\"sun\",\"sun\",\"sun\",\"sun\",\"sun\",\"sun\",\"sun\",\"sun\",\"sun\",\"sun\",\"sun\",\"sun\",\"sun\",\"sun\",\"sun\",\"sun\",\"sun\",\"sun\",\"sun\",\"sun\",\"sun\",\"sun\",\"sun\",\"sun\",\"sun\",\"sun\",\"sun\",\"sun\",\"sun\",\"sun\",\"sun\",\"sun\",\"sun\",\"sun\",\"sun\",\"sun\",\"sun\",\"sun\",\"sun\",\"sun\",\"sun\",\"sun\",\"sun\",\"sun\",\"sun\",\"sun\",\"sun\",\"sun\",\"sun\",\"sun\",\"sun\",\"sun\",\"sun\",\"sun\",\"sun\",\"sun\",\"sun\",\"sun\",\"sun\",\"sun\",\"sun\",\"sun\",\"sun\",\"sun\",\"sun\",\"sun\",\"sun\",\"sun\",\"sun\",\"sun\",\"sun\",\"sun\",\"sun\",\"sun\",\"sun\",\"sun\",\"sun\",\"sun\",\"sun\",\"sun\",\"sun\",\"sun\",\"sun\",\"sun\",\"sun\",\"sun\",\"sun\",\"sun\",\"sun\",\"sun\",\"sun\",\"sun\",\"sun\",\"sun\",\"sun\",\"sun\",\"sun\",\"sun\",\"sun\",\"sun\",\"sun\",\"sun\",\"sun\",\"sun\",\"sun\",\"sun\",\"sun\",\"sun\",\"sun\",\"sun\",\"sun\",\"sun\",\"sun\",\"sun\",\"sun\",\"sun\",\"sun\",\"sun\",\"sun\",\"sun\",\"sun\",\"sun\",\"sun\",\"sun\",\"sun\",\"sun\",\"sun\",\"sun\",\"sun\",\"sun\",\"sun\",\"sun\",\"sun\",\"sun\",\"sun\",\"sun\",\"sun\",\"sun\",\"sun\",\"sun\",\"sun\",\"sun\",\"sun\",\"sun\",\"sun\",\"sun\",\"sun\",\"sun\",\"sun\",\"sun\",\"sun\",\"sun\",\"sun\",\"sun\",\"sun\",\"sun\",\"sun\",\"sun\",\"sun\",\"sun\",\"sun\",\"sun\",\"sun\",\"sun\",\"sun\",\"sun\",\"sun\",\"sun\",\"sun\",\"sun\",\"sun\",\"sun\",\"sun\",\"sun\",\"sun\",\"sun\",\"sun\",\"sun\",\"sun\",\"sun\",\"sun\",\"sun\",\"sun\",\"sun\",\"sun\",\"sun\",\"sun\",\"sun\",\"sun\",\"sun\",\"sun\",\"sun\",\"sun\",\"sun\",\"sun\",\"sun\",\"sun\",\"sun\",\"sun\",\"sun\",\"sun\",\"sun\",\"sun\",\"sun\",\"sun\",\"sun\",\"sun\",\"sun\",\"sun\",\"sun\",\"sun\",\"sun\",\"sun\",\"sun\",\"sun\",\"sun\",\"sun\",\"sun\",\"sun\",\"sun\",\"sun\",\"sun\",\"sun\",\"sun\",\"sun\",\"sun\",\"sun\",\"sun\",\"sun\",\"sun\",\"sun\",\"sun\",\"sun\",\"sun\",\"sun\",\"sun\",\"sun\",\"sun\",\"sun\",\"sun\",\"sun\",\"sun\",\"sun\",\"sun\",\"sun\",\"sun\",\"sun\",\"sun\",\"sun\",\"sun\",\"sun\",\"sun\",\"sun\",\"sun\",\"sun\",\"sun\",\"sun\",\"sun\",\"sun\",\"sun\",\"sun\",\"sun\",\"sun\",\"sun\",\"sun\",\"sun\",\"sun\",\"sun\",\"sun\",\"sun\",\"sun\",\"sun\",\"sun\",\"sun\",\"sun\",\"sun\",\"sun\",\"sun\",\"sun\",\"sun\",\"sun\",\"sun\",\"sun\",\"sun\",\"sun\",\"sun\",\"sun\",\"sun\",\"sun\",\"sun\",\"sun\",\"sun\",\"sun\",\"sun\",\"sun\",\"sun\",\"sun\",\"sun\",\"sun\",\"sun\",\"sun\",\"sun\",\"sun\",\"sun\",\"sun\",\"sun\",\"sun\",\"sun\",\"sun\",\"sun\",\"sun\",\"sun\",\"sun\",\"sun\",\"sun\",\"sun\",\"sun\",\"sun\",\"sun\",\"sun\",\"sun\",\"sun\",\"sun\",\"sun\",\"sun\",\"sun\",\"sun\",\"sun\",\"sun\",\"sun\",\"sun\",\"sun\",\"sun\",\"sun\",\"sun\",\"sun\",\"sun\",\"sun\",\"sun\",\"sun\",\"sun\",\"sun\",\"sun\",\"sun\",\"sun\",\"sun\",\"sun\",\"sun\",\"sun\",\"sun\",\"sun\",\"sun\",\"sun\",\"sun\",\"sun\",\"sun\",\"sun\",\"sun\",\"sun\",\"sun\",\"sun\",\"sun\",\"sun\",\"sun\",\"sun\",\"sun\",\"sun\",\"sun\",\"sun\",\"sun\",\"sun\",\"sun\",\"sun\",\"sun\",\"sun\",\"sun\",\"sun\",\"sun\",\"sun\",\"sun\",\"sun\",\"sun\",\"sun\",\"sun\",\"sun\",\"sun\",\"sun\",\"sun\",\"sun\",\"sun\",\"sun\",\"sun\",\"sun\",\"sun\",\"sun\",\"sun\",\"sun\",\"sun\",\"sun\",\"sun\",\"sun\",\"sun\",\"sun\"],\"xaxis\":\"x\",\"y\":[10.0,6.1,6.1,5.0,8.3,14.4,15.6,13.9,16.1,6.7,8.3,6.7,6.1,12.2,8.9,15.6,12.2,15.0,16.7,10.6,16.1,21.1,20.0,15.6,20.0,21.7,13.3,17.8,23.9,18.3,14.4,18.3,24.4,25.6,26.7,19.4,19.4,22.2,17.2,16.1,17.2,16.1,18.9,16.1,17.2,22.2,18.9,24.4,23.9,22.8,20.6,25.0,26.7,21.7,21.1,25.0,23.9,23.3,26.7,22.8,19.4,22.8,23.3,27.2,33.9,33.9,22.2,25.6,28.3,30.6,30.6,28.9,31.1,34.4,32.8,25.6,22.2,21.1,22.2,26.1,21.1,23.9,22.8,22.8,22.8,22.2,21.7,21.1,22.8,24.4,26.1,28.3,32.2,25.0,20.0,22.2,27.8,26.1,22.2,24.4,27.8,19.4,20.6,21.1,23.3,17.8,18.9,18.9,21.7,23.9,23.9,21.1,16.1,14.4,11.7,7.8,10.0,6.7,5.0,6.1,2.8,2.2,3.3,6.7,7.8,10.6,11.1,13.3,8.9,9.4,10.0,12.2,16.7,16.7,20.6,17.2,13.9,16.7,12.2,13.9,16.1,17.8,21.1,21.7,13.9,12.8,18.3,20.6,21.7,25.0,28.9,30.6,20.6,19.4,22.8,26.1,27.2,18.3,16.7,18.3,19.4,17.8,16.7,19.4,22.8,22.2,26.1,26.7,26.7,21.7,20.6,20.6,21.7,20.0,21.1,20.0,25.6,23.9,25.6,20.0,25.6,30.6,30.0,33.9,31.7,28.3,26.1,23.3,26.1,23.9,26.7,30.0,22.2,22.8,19.4,26.1,27.8,27.8,31.1,22.2,26.1,27.8,25.0,23.9,31.1,31.1,31.1,31.1,25.6,25.0,25.0,21.7,20.6,28.9,30.0,30.6,31.1,28.3,28.3,25.0,25.6,27.8,25.6,26.1,26.7,25.6,27.8,28.9,25.0,25.0,26.1,27.8,27.8,27.8,23.3,26.1,26.7,33.9,25.6,18.9,17.8,21.1,25.6,21.1,17.8,17.2,17.8,20.0,15.0,15.6,15.6,12.8,10.6,10.6,11.7,14.4,12.8,10.0,12.2,11.7,14.4,13.3,13.3,11.1,13.9,10.0,7.8,7.8,9.4,11.1,12.2,12.2,14.4,11.7,5.0,4.4,1.1,1.1,0.0,2.2,1.1,5.6,5.0,9.4,8.3,5.0,8.3,6.7,6.7,9.4,7.2,7.2,8.3,10.6,11.1,11.1,6.7,5.6,9.4,6.1,10.0,10.0,12.8,12.2,8.3,9.4,8.3,8.9,5.0,2.8,-0.5,-1.6,3.3,13.9,12.8,14.4,15.6,10.0,11.1,10.6,11.1,12.8,18.9,11.1,15.6,14.4,14.4,12.8,13.9,21.1,14.4,15.0,17.2,16.1,20.6,20.0,14.4,15.6,14.4,16.1,25.0,27.8,29.4,18.3,16.7,18.3,18.9,24.4,26.7,27.8,26.7,20.0,20.0,20.0,21.1,22.2,20.0,24.4,18.3,18.3,20.0,18.9,18.9,20.6,23.3,22.2,23.3,18.3,19.4,22.2,25.0,24.4,23.3,21.1,20.0,23.9,17.8,18.9,22.2,25.0,25.0,24.4,26.1,21.1,20.6,25.6,34.4,27.2,21.7,23.9,28.9,30.0,26.7,31.1,32.2,29.4,27.8,31.1,31.1,26.7,23.9,19.4,23.9,20.6,22.8,26.1,28.3,30.6,30.0,29.4,30.6,28.9,31.7,32.8,25.0,25.6,27.2,30.6,21.1,25.6,27.8,29.4,27.2,21.7,21.1,23.9,27.8,25.0,28.9,31.1,28.9,23.3,22.8,23.3,20.6,32.2,28.3,21.1,21.7,22.2,24.4,24.4,28.3,30.0,30.6,22.2,23.9,26.1,19.4,18.3,19.4,22.2,21.7,17.8,20.6,22.2,14.4,11.1,7.8,6.7,7.2,7.2,8.3,9.4,10.6,7.2,11.1,2.8,4.4,10.0,14.4,11.1,12.2,10.0,12.8,10.6,3.3,3.3,5.6,12.2,12.2,16.1,12.2,12.2,11.7,12.8,11.1,12.2,11.1,11.1,10.6,12.8,13.3,15.0,17.8,15.6,15.6,20.6,15.6,15.6,13.3,12.8,16.7,17.2,17.2,11.7,13.3,13.9,17.8,18.9,18.9,21.1,22.8,15.6,16.1,17.2,18.3,18.3,20.6,17.2,20.6,23.9,26.7,19.4,15.6,19.4,25.6,21.7,25.6,16.7,16.1,17.8,15.6,21.7,24.4,27.8,26.1,22.8,25.0,20.0,22.8,26.7,29.4,31.1,30.6,28.9,25.6,24.4,20.0,23.9,27.8,22.8,25.0,24.4,25.0,25.6,25.0,26.1,25.6,30.6,31.7,33.3,28.9,32.2,33.9,33.3,33.3,32.8,27.2,28.9,21.1,22.2,26.1,25.6,27.8,26.1,26.1,27.8,33.3,35.0,26.7,23.9,23.9,26.1,27.8,32.2,34.4,34.4,33.3,30.6,28.3,23.3,25.0,28.3,28.3,28.9,30.0,28.3,21.7,25.0,27.2,30.0,22.2,23.9,25.6,28.3,29.4,18.9,19.4,18.3,18.3,22.8,24.4,27.2,26.7,16.7,17.8,19.4,21.1,18.9,20.6,18.3,17.8,21.1,21.7,19.4,22.8,23.3,17.8,20.0,10.0,8.9,7.2,9.4,9.4,7.2,7.8,4.4,5.6,5.6],\"yaxis\":\"y\",\"type\":\"histogram\"},{\"alignmentgroup\":\"True\",\"bingroup\":\"x\",\"histfunc\":\"avg\",\"hovertemplate\":\"weather=%{x}\\u003cbr\\u003eavg of temp_max=%{y}\\u003cextra\\u003e\\u003c\\u002fextra\\u003e\",\"legendgroup\":\"snow\",\"marker\":{\"color\":\"#ab63fa\",\"pattern\":{\"shape\":\"\"}},\"name\":\"snow\",\"offsetgroup\":\"snow\",\"orientation\":\"v\",\"showlegend\":true,\"texttemplate\":\"%{value}\",\"x\":[\"snow\",\"snow\",\"snow\",\"snow\",\"snow\",\"snow\",\"snow\",\"snow\",\"snow\",\"snow\",\"snow\",\"snow\",\"snow\",\"snow\",\"snow\",\"snow\",\"snow\",\"snow\",\"snow\",\"snow\",\"snow\",\"snow\",\"snow\",\"snow\",\"snow\",\"snow\"],\"xaxis\":\"x\",\"y\":[4.4,1.1,1.7,3.3,0.0,-1.1,7.2,5.0,6.7,5.0,6.7,8.3,5.6,11.1,10.0,9.4,4.4,6.7,3.9,8.3,5.6,3.3,10.0,8.3,5.6,4.4],\"yaxis\":\"y\",\"type\":\"histogram\"},{\"alignmentgroup\":\"True\",\"bingroup\":\"x\",\"histfunc\":\"avg\",\"hovertemplate\":\"weather=%{x}\\u003cbr\\u003eavg of temp_max=%{y}\\u003cextra\\u003e\\u003c\\u002fextra\\u003e\",\"legendgroup\":\"fog\",\"marker\":{\"color\":\"#FFA15A\",\"pattern\":{\"shape\":\"\"}},\"name\":\"fog\",\"offsetgroup\":\"fog\",\"orientation\":\"v\",\"showlegend\":true,\"texttemplate\":\"%{value}\",\"x\":[\"fog\",\"fog\",\"fog\",\"fog\",\"fog\",\"fog\",\"fog\",\"fog\",\"fog\",\"fog\",\"fog\",\"fog\",\"fog\",\"fog\",\"fog\",\"fog\",\"fog\",\"fog\",\"fog\",\"fog\",\"fog\",\"fog\",\"fog\",\"fog\",\"fog\",\"fog\",\"fog\",\"fog\",\"fog\",\"fog\",\"fog\",\"fog\",\"fog\",\"fog\",\"fog\",\"fog\",\"fog\",\"fog\",\"fog\",\"fog\",\"fog\",\"fog\",\"fog\",\"fog\",\"fog\",\"fog\",\"fog\",\"fog\",\"fog\",\"fog\",\"fog\",\"fog\",\"fog\",\"fog\",\"fog\",\"fog\",\"fog\",\"fog\",\"fog\",\"fog\",\"fog\",\"fog\",\"fog\",\"fog\",\"fog\",\"fog\",\"fog\",\"fog\",\"fog\",\"fog\",\"fog\",\"fog\",\"fog\",\"fog\",\"fog\",\"fog\",\"fog\",\"fog\",\"fog\",\"fog\",\"fog\",\"fog\",\"fog\",\"fog\",\"fog\",\"fog\",\"fog\",\"fog\",\"fog\",\"fog\",\"fog\",\"fog\",\"fog\",\"fog\",\"fog\",\"fog\",\"fog\",\"fog\",\"fog\",\"fog\",\"fog\"],\"xaxis\":\"x\",\"y\":[27.8,27.8,19.4,21.1,9.4,12.8,13.9,20.6,21.7,21.7,26.1,21.1,25.0,28.9,26.7,21.7,15.0,12.8,14.4,16.1,11.7,7.8,10.0,14.4,16.1,24.4,27.2,28.9,25.6,26.1,25.6,23.9,27.8,24.4,20.6,18.9,23.9,25.6,18.9,20.6,17.2,11.1,12.8,5.6,10.0,12.8,7.8,5.6,6.1,5.0,12.2,7.8,7.8,11.1,9.4,6.1,11.7,10.0,7.2,17.2,16.1,12.2,8.3,7.2,12.8,15.6,15.0,16.7,17.2,14.4,15.6,16.7,13.9,20.0,23.3,30.6,21.1,23.3,26.1,25.0,25.0,18.3,22.2,18.3,21.1,15.6,18.9,15.0,21.1,17.8,16.1,16.1,12.8,15.0,16.1,15.6,8.3,10.0,1.7,8.3,7.2],\"yaxis\":\"y\",\"type\":\"histogram\"}],                        {\"template\":{\"data\":{\"histogram2dcontour\":[{\"type\":\"histogram2dcontour\",\"colorbar\":{\"outlinewidth\":0,\"ticks\":\"\"},\"colorscale\":[[0.0,\"#0d0887\"],[0.1111111111111111,\"#46039f\"],[0.2222222222222222,\"#7201a8\"],[0.3333333333333333,\"#9c179e\"],[0.4444444444444444,\"#bd3786\"],[0.5555555555555556,\"#d8576b\"],[0.6666666666666666,\"#ed7953\"],[0.7777777777777778,\"#fb9f3a\"],[0.8888888888888888,\"#fdca26\"],[1.0,\"#f0f921\"]]}],\"choropleth\":[{\"type\":\"choropleth\",\"colorbar\":{\"outlinewidth\":0,\"ticks\":\"\"}}],\"histogram2d\":[{\"type\":\"histogram2d\",\"colorbar\":{\"outlinewidth\":0,\"ticks\":\"\"},\"colorscale\":[[0.0,\"#0d0887\"],[0.1111111111111111,\"#46039f\"],[0.2222222222222222,\"#7201a8\"],[0.3333333333333333,\"#9c179e\"],[0.4444444444444444,\"#bd3786\"],[0.5555555555555556,\"#d8576b\"],[0.6666666666666666,\"#ed7953\"],[0.7777777777777778,\"#fb9f3a\"],[0.8888888888888888,\"#fdca26\"],[1.0,\"#f0f921\"]]}],\"heatmap\":[{\"type\":\"heatmap\",\"colorbar\":{\"outlinewidth\":0,\"ticks\":\"\"},\"colorscale\":[[0.0,\"#0d0887\"],[0.1111111111111111,\"#46039f\"],[0.2222222222222222,\"#7201a8\"],[0.3333333333333333,\"#9c179e\"],[0.4444444444444444,\"#bd3786\"],[0.5555555555555556,\"#d8576b\"],[0.6666666666666666,\"#ed7953\"],[0.7777777777777778,\"#fb9f3a\"],[0.8888888888888888,\"#fdca26\"],[1.0,\"#f0f921\"]]}],\"heatmapgl\":[{\"type\":\"heatmapgl\",\"colorbar\":{\"outlinewidth\":0,\"ticks\":\"\"},\"colorscale\":[[0.0,\"#0d0887\"],[0.1111111111111111,\"#46039f\"],[0.2222222222222222,\"#7201a8\"],[0.3333333333333333,\"#9c179e\"],[0.4444444444444444,\"#bd3786\"],[0.5555555555555556,\"#d8576b\"],[0.6666666666666666,\"#ed7953\"],[0.7777777777777778,\"#fb9f3a\"],[0.8888888888888888,\"#fdca26\"],[1.0,\"#f0f921\"]]}],\"contourcarpet\":[{\"type\":\"contourcarpet\",\"colorbar\":{\"outlinewidth\":0,\"ticks\":\"\"}}],\"contour\":[{\"type\":\"contour\",\"colorbar\":{\"outlinewidth\":0,\"ticks\":\"\"},\"colorscale\":[[0.0,\"#0d0887\"],[0.1111111111111111,\"#46039f\"],[0.2222222222222222,\"#7201a8\"],[0.3333333333333333,\"#9c179e\"],[0.4444444444444444,\"#bd3786\"],[0.5555555555555556,\"#d8576b\"],[0.6666666666666666,\"#ed7953\"],[0.7777777777777778,\"#fb9f3a\"],[0.8888888888888888,\"#fdca26\"],[1.0,\"#f0f921\"]]}],\"surface\":[{\"type\":\"surface\",\"colorbar\":{\"outlinewidth\":0,\"ticks\":\"\"},\"colorscale\":[[0.0,\"#0d0887\"],[0.1111111111111111,\"#46039f\"],[0.2222222222222222,\"#7201a8\"],[0.3333333333333333,\"#9c179e\"],[0.4444444444444444,\"#bd3786\"],[0.5555555555555556,\"#d8576b\"],[0.6666666666666666,\"#ed7953\"],[0.7777777777777778,\"#fb9f3a\"],[0.8888888888888888,\"#fdca26\"],[1.0,\"#f0f921\"]]}],\"mesh3d\":[{\"type\":\"mesh3d\",\"colorbar\":{\"outlinewidth\":0,\"ticks\":\"\"}}],\"scatter\":[{\"fillpattern\":{\"fillmode\":\"overlay\",\"size\":10,\"solidity\":0.2},\"type\":\"scatter\"}],\"parcoords\":[{\"type\":\"parcoords\",\"line\":{\"colorbar\":{\"outlinewidth\":0,\"ticks\":\"\"}}}],\"scatterpolargl\":[{\"type\":\"scatterpolargl\",\"marker\":{\"colorbar\":{\"outlinewidth\":0,\"ticks\":\"\"}}}],\"bar\":[{\"error_x\":{\"color\":\"#2a3f5f\"},\"error_y\":{\"color\":\"#2a3f5f\"},\"marker\":{\"line\":{\"color\":\"#E5ECF6\",\"width\":0.5},\"pattern\":{\"fillmode\":\"overlay\",\"size\":10,\"solidity\":0.2}},\"type\":\"bar\"}],\"scattergeo\":[{\"type\":\"scattergeo\",\"marker\":{\"colorbar\":{\"outlinewidth\":0,\"ticks\":\"\"}}}],\"scatterpolar\":[{\"type\":\"scatterpolar\",\"marker\":{\"colorbar\":{\"outlinewidth\":0,\"ticks\":\"\"}}}],\"histogram\":[{\"marker\":{\"pattern\":{\"fillmode\":\"overlay\",\"size\":10,\"solidity\":0.2}},\"type\":\"histogram\"}],\"scattergl\":[{\"type\":\"scattergl\",\"marker\":{\"colorbar\":{\"outlinewidth\":0,\"ticks\":\"\"}}}],\"scatter3d\":[{\"type\":\"scatter3d\",\"line\":{\"colorbar\":{\"outlinewidth\":0,\"ticks\":\"\"}},\"marker\":{\"colorbar\":{\"outlinewidth\":0,\"ticks\":\"\"}}}],\"scattermapbox\":[{\"type\":\"scattermapbox\",\"marker\":{\"colorbar\":{\"outlinewidth\":0,\"ticks\":\"\"}}}],\"scatterternary\":[{\"type\":\"scatterternary\",\"marker\":{\"colorbar\":{\"outlinewidth\":0,\"ticks\":\"\"}}}],\"scattercarpet\":[{\"type\":\"scattercarpet\",\"marker\":{\"colorbar\":{\"outlinewidth\":0,\"ticks\":\"\"}}}],\"carpet\":[{\"aaxis\":{\"endlinecolor\":\"#2a3f5f\",\"gridcolor\":\"white\",\"linecolor\":\"white\",\"minorgridcolor\":\"white\",\"startlinecolor\":\"#2a3f5f\"},\"baxis\":{\"endlinecolor\":\"#2a3f5f\",\"gridcolor\":\"white\",\"linecolor\":\"white\",\"minorgridcolor\":\"white\",\"startlinecolor\":\"#2a3f5f\"},\"type\":\"carpet\"}],\"table\":[{\"cells\":{\"fill\":{\"color\":\"#EBF0F8\"},\"line\":{\"color\":\"white\"}},\"header\":{\"fill\":{\"color\":\"#C8D4E3\"},\"line\":{\"color\":\"white\"}},\"type\":\"table\"}],\"barpolar\":[{\"marker\":{\"line\":{\"color\":\"#E5ECF6\",\"width\":0.5},\"pattern\":{\"fillmode\":\"overlay\",\"size\":10,\"solidity\":0.2}},\"type\":\"barpolar\"}],\"pie\":[{\"automargin\":true,\"type\":\"pie\"}]},\"layout\":{\"autotypenumbers\":\"strict\",\"colorway\":[\"#636efa\",\"#EF553B\",\"#00cc96\",\"#ab63fa\",\"#FFA15A\",\"#19d3f3\",\"#FF6692\",\"#B6E880\",\"#FF97FF\",\"#FECB52\"],\"font\":{\"color\":\"#2a3f5f\"},\"hovermode\":\"closest\",\"hoverlabel\":{\"align\":\"left\"},\"paper_bgcolor\":\"white\",\"plot_bgcolor\":\"#E5ECF6\",\"polar\":{\"bgcolor\":\"#E5ECF6\",\"angularaxis\":{\"gridcolor\":\"white\",\"linecolor\":\"white\",\"ticks\":\"\"},\"radialaxis\":{\"gridcolor\":\"white\",\"linecolor\":\"white\",\"ticks\":\"\"}},\"ternary\":{\"bgcolor\":\"#E5ECF6\",\"aaxis\":{\"gridcolor\":\"white\",\"linecolor\":\"white\",\"ticks\":\"\"},\"baxis\":{\"gridcolor\":\"white\",\"linecolor\":\"white\",\"ticks\":\"\"},\"caxis\":{\"gridcolor\":\"white\",\"linecolor\":\"white\",\"ticks\":\"\"}},\"coloraxis\":{\"colorbar\":{\"outlinewidth\":0,\"ticks\":\"\"}},\"colorscale\":{\"sequential\":[[0.0,\"#0d0887\"],[0.1111111111111111,\"#46039f\"],[0.2222222222222222,\"#7201a8\"],[0.3333333333333333,\"#9c179e\"],[0.4444444444444444,\"#bd3786\"],[0.5555555555555556,\"#d8576b\"],[0.6666666666666666,\"#ed7953\"],[0.7777777777777778,\"#fb9f3a\"],[0.8888888888888888,\"#fdca26\"],[1.0,\"#f0f921\"]],\"sequentialminus\":[[0.0,\"#0d0887\"],[0.1111111111111111,\"#46039f\"],[0.2222222222222222,\"#7201a8\"],[0.3333333333333333,\"#9c179e\"],[0.4444444444444444,\"#bd3786\"],[0.5555555555555556,\"#d8576b\"],[0.6666666666666666,\"#ed7953\"],[0.7777777777777778,\"#fb9f3a\"],[0.8888888888888888,\"#fdca26\"],[1.0,\"#f0f921\"]],\"diverging\":[[0,\"#8e0152\"],[0.1,\"#c51b7d\"],[0.2,\"#de77ae\"],[0.3,\"#f1b6da\"],[0.4,\"#fde0ef\"],[0.5,\"#f7f7f7\"],[0.6,\"#e6f5d0\"],[0.7,\"#b8e186\"],[0.8,\"#7fbc41\"],[0.9,\"#4d9221\"],[1,\"#276419\"]]},\"xaxis\":{\"gridcolor\":\"white\",\"linecolor\":\"white\",\"ticks\":\"\",\"title\":{\"standoff\":15},\"zerolinecolor\":\"white\",\"automargin\":true,\"zerolinewidth\":2},\"yaxis\":{\"gridcolor\":\"white\",\"linecolor\":\"white\",\"ticks\":\"\",\"title\":{\"standoff\":15},\"zerolinecolor\":\"white\",\"automargin\":true,\"zerolinewidth\":2},\"scene\":{\"xaxis\":{\"backgroundcolor\":\"#E5ECF6\",\"gridcolor\":\"white\",\"linecolor\":\"white\",\"showbackground\":true,\"ticks\":\"\",\"zerolinecolor\":\"white\",\"gridwidth\":2},\"yaxis\":{\"backgroundcolor\":\"#E5ECF6\",\"gridcolor\":\"white\",\"linecolor\":\"white\",\"showbackground\":true,\"ticks\":\"\",\"zerolinecolor\":\"white\",\"gridwidth\":2},\"zaxis\":{\"backgroundcolor\":\"#E5ECF6\",\"gridcolor\":\"white\",\"linecolor\":\"white\",\"showbackground\":true,\"ticks\":\"\",\"zerolinecolor\":\"white\",\"gridwidth\":2}},\"shapedefaults\":{\"line\":{\"color\":\"#2a3f5f\"}},\"annotationdefaults\":{\"arrowcolor\":\"#2a3f5f\",\"arrowhead\":0,\"arrowwidth\":1},\"geo\":{\"bgcolor\":\"white\",\"landcolor\":\"#E5ECF6\",\"subunitcolor\":\"white\",\"showland\":true,\"showlakes\":true,\"lakecolor\":\"white\"},\"title\":{\"x\":0.05},\"mapbox\":{\"style\":\"light\"}}},\"xaxis\":{\"anchor\":\"y\",\"domain\":[0.0,1.0],\"title\":{\"text\":\"weather\"},\"categoryorder\":\"total descending\",\"categoryarray\":[\"drizzle\",\"rain\",\"sun\",\"snow\",\"fog\"]},\"yaxis\":{\"anchor\":\"x\",\"domain\":[0.0,1.0],\"title\":{\"text\":\"avg of temp_max\"}},\"legend\":{\"title\":{\"text\":\"weather\"},\"tracegroupgap\":0},\"title\":{\"text\":\"most average temprature per weather state\"},\"barmode\":\"relative\"},                        {\"responsive\": true}                    ).then(function(){\n",
              "                            \n",
              "var gd = document.getElementById('c43c9c7c-14ad-4731-9b4e-562fa67b9a11');\n",
              "var x = new MutationObserver(function (mutations, observer) {{\n",
              "        var display = window.getComputedStyle(gd).display;\n",
              "        if (!display || display === 'none') {{\n",
              "            console.log([gd, 'removed!']);\n",
              "            Plotly.purge(gd);\n",
              "            observer.disconnect();\n",
              "        }}\n",
              "}});\n",
              "\n",
              "// Listen for the removal of the full notebook cells\n",
              "var notebookContainer = gd.closest('#notebook-container');\n",
              "if (notebookContainer) {{\n",
              "    x.observe(notebookContainer, {childList: true});\n",
              "}}\n",
              "\n",
              "// Listen for the clearing of the current output cell\n",
              "var outputEl = gd.closest('.output');\n",
              "if (outputEl) {{\n",
              "    x.observe(outputEl, {childList: true});\n",
              "}}\n",
              "\n",
              "                        })                };                            </script>        </div>\n",
              "</body>\n",
              "</html>"
            ]
          },
          "metadata": {}
        }
      ],
      "source": [
        "fig = px.histogram(df, x='weather',y=\"temp_max\",color='weather',histfunc=\"avg\",text_auto=True, title='most average temprature per weather state').update_xaxes(categoryorder='total descending')\n",
        "fig.show()"
      ]
    },
    {
      "cell_type": "code",
      "execution_count": 27,
      "metadata": {
        "colab": {
          "base_uri": "https://localhost:8080/",
          "height": 542
        },
        "id": "2IGVDTTgYijX",
        "outputId": "979441d9-ad95-4360-8425-82ec3c26212b"
      },
      "outputs": [
        {
          "output_type": "display_data",
          "data": {
            "text/html": [
              "<html>\n",
              "<head><meta charset=\"utf-8\" /></head>\n",
              "<body>\n",
              "    <div>            <script src=\"https://cdnjs.cloudflare.com/ajax/libs/mathjax/2.7.5/MathJax.js?config=TeX-AMS-MML_SVG\"></script><script type=\"text/javascript\">if (window.MathJax && window.MathJax.Hub && window.MathJax.Hub.Config) {window.MathJax.Hub.Config({SVG: {font: \"STIX-Web\"}});}</script>                <script type=\"text/javascript\">window.PlotlyConfig = {MathJaxConfig: 'local'};</script>\n",
              "        <script charset=\"utf-8\" src=\"https://cdn.plot.ly/plotly-2.35.2.min.js\"></script>                <div id=\"4e13e62a-efee-4e43-98f6-ef51f82f6d42\" class=\"plotly-graph-div\" style=\"height:525px; width:100%;\"></div>            <script type=\"text/javascript\">                                    window.PLOTLYENV=window.PLOTLYENV || {};                                    if (document.getElementById(\"4e13e62a-efee-4e43-98f6-ef51f82f6d42\")) {                    Plotly.newPlot(                        \"4e13e62a-efee-4e43-98f6-ef51f82f6d42\",                        [{\"alignmentgroup\":\"True\",\"bingroup\":\"x\",\"histfunc\":\"avg\",\"hovertemplate\":\"weather=%{x}\\u003cbr\\u003eavg of wind=%{y}\\u003cextra\\u003e\\u003c\\u002fextra\\u003e\",\"legendgroup\":\"drizzle\",\"marker\":{\"color\":\"#636efa\",\"pattern\":{\"shape\":\"\"}},\"name\":\"drizzle\",\"offsetgroup\":\"drizzle\",\"orientation\":\"v\",\"showlegend\":true,\"texttemplate\":\"%{value}\",\"x\":[\"drizzle\",\"drizzle\",\"drizzle\",\"drizzle\",\"drizzle\",\"drizzle\",\"drizzle\",\"drizzle\",\"drizzle\",\"drizzle\",\"drizzle\",\"drizzle\",\"drizzle\",\"drizzle\",\"drizzle\",\"drizzle\",\"drizzle\",\"drizzle\",\"drizzle\",\"drizzle\",\"drizzle\",\"drizzle\",\"drizzle\",\"drizzle\",\"drizzle\",\"drizzle\",\"drizzle\",\"drizzle\",\"drizzle\",\"drizzle\",\"drizzle\",\"drizzle\",\"drizzle\",\"drizzle\",\"drizzle\",\"drizzle\",\"drizzle\",\"drizzle\",\"drizzle\",\"drizzle\",\"drizzle\",\"drizzle\",\"drizzle\",\"drizzle\",\"drizzle\",\"drizzle\",\"drizzle\",\"drizzle\",\"drizzle\",\"drizzle\",\"drizzle\",\"drizzle\",\"drizzle\"],\"xaxis\":\"x\",\"y\":[4.7,1.4,1.8,4.3,4.0,2.5,4.1,2.0,3.1,2.3,2.7,2.2,2.8,1.7,2.2,2.6,3.8,3.0,2.7,1.9,2.5,2.1,1.7,1.7,1.6,1.4,1.3,2.4,3.6,1.8,2.0,1.9,1.8,1.0,1.3,1.9,2.1,1.1,0.6,2.0,2.0,2.4,2.6,4.4,3.3,1.6,3.5,3.2,1.9,2.1,2.5,1.8,2.6],\"yaxis\":\"y\",\"type\":\"histogram\"},{\"alignmentgroup\":\"True\",\"bingroup\":\"x\",\"histfunc\":\"avg\",\"hovertemplate\":\"weather=%{x}\\u003cbr\\u003eavg of wind=%{y}\\u003cextra\\u003e\\u003c\\u002fextra\\u003e\",\"legendgroup\":\"rain\",\"marker\":{\"color\":\"#EF553B\",\"pattern\":{\"shape\":\"\"}},\"name\":\"rain\",\"offsetgroup\":\"rain\",\"orientation\":\"v\",\"showlegend\":true,\"texttemplate\":\"%{value}\",\"x\":[\"rain\",\"rain\",\"rain\",\"rain\",\"rain\",\"rain\",\"rain\",\"rain\",\"rain\",\"rain\",\"rain\",\"rain\",\"rain\",\"rain\",\"rain\",\"rain\",\"rain\",\"rain\",\"rain\",\"rain\",\"rain\",\"rain\",\"rain\",\"rain\",\"rain\",\"rain\",\"rain\",\"rain\",\"rain\",\"rain\",\"rain\",\"rain\",\"rain\",\"rain\",\"rain\",\"rain\",\"rain\",\"rain\",\"rain\",\"rain\",\"rain\",\"rain\",\"rain\",\"rain\",\"rain\",\"rain\",\"rain\",\"rain\",\"rain\",\"rain\",\"rain\",\"rain\",\"rain\",\"rain\",\"rain\",\"rain\",\"rain\",\"rain\",\"rain\",\"rain\",\"rain\",\"rain\",\"rain\",\"rain\",\"rain\",\"rain\",\"rain\",\"rain\",\"rain\",\"rain\",\"rain\",\"rain\",\"rain\",\"rain\",\"rain\",\"rain\",\"rain\",\"rain\",\"rain\",\"rain\",\"rain\",\"rain\",\"rain\",\"rain\",\"rain\",\"rain\",\"rain\",\"rain\",\"rain\",\"rain\",\"rain\",\"rain\",\"rain\",\"rain\",\"rain\",\"rain\",\"rain\",\"rain\",\"rain\",\"rain\",\"rain\",\"rain\",\"rain\",\"rain\",\"rain\",\"rain\",\"rain\",\"rain\",\"rain\",\"rain\",\"rain\",\"rain\",\"rain\",\"rain\",\"rain\",\"rain\",\"rain\",\"rain\",\"rain\",\"rain\",\"rain\",\"rain\",\"rain\",\"rain\",\"rain\",\"rain\",\"rain\",\"rain\",\"rain\",\"rain\",\"rain\",\"rain\",\"rain\",\"rain\",\"rain\",\"rain\",\"rain\",\"rain\",\"rain\",\"rain\",\"rain\",\"rain\",\"rain\",\"rain\",\"rain\",\"rain\",\"rain\",\"rain\",\"rain\",\"rain\",\"rain\",\"rain\",\"rain\",\"rain\",\"rain\",\"rain\",\"rain\",\"rain\",\"rain\",\"rain\",\"rain\",\"rain\",\"rain\",\"rain\",\"rain\",\"rain\",\"rain\",\"rain\",\"rain\",\"rain\",\"rain\",\"rain\",\"rain\",\"rain\",\"rain\",\"rain\",\"rain\",\"rain\",\"rain\",\"rain\",\"rain\",\"rain\",\"rain\",\"rain\",\"rain\",\"rain\",\"rain\",\"rain\",\"rain\",\"rain\",\"rain\",\"rain\",\"rain\",\"rain\",\"rain\",\"rain\",\"rain\",\"rain\",\"rain\",\"rain\",\"rain\",\"rain\",\"rain\",\"rain\",\"rain\",\"rain\",\"rain\",\"rain\",\"rain\",\"rain\",\"rain\",\"rain\",\"rain\",\"rain\",\"rain\",\"rain\",\"rain\",\"rain\",\"rain\",\"rain\",\"rain\",\"rain\",\"rain\",\"rain\",\"rain\",\"rain\",\"rain\",\"rain\",\"rain\",\"rain\",\"rain\",\"rain\",\"rain\",\"rain\",\"rain\",\"rain\",\"rain\",\"rain\",\"rain\",\"rain\",\"rain\",\"rain\",\"rain\",\"rain\",\"rain\",\"rain\",\"rain\",\"rain\",\"rain\",\"rain\",\"rain\",\"rain\",\"rain\",\"rain\",\"rain\",\"rain\",\"rain\",\"rain\",\"rain\",\"rain\",\"rain\",\"rain\",\"rain\",\"rain\",\"rain\",\"rain\",\"rain\",\"rain\",\"rain\",\"rain\",\"rain\",\"rain\",\"rain\",\"rain\",\"rain\",\"rain\",\"rain\",\"rain\",\"rain\",\"rain\",\"rain\",\"rain\",\"rain\",\"rain\",\"rain\",\"rain\",\"rain\",\"rain\",\"rain\",\"rain\",\"rain\",\"rain\",\"rain\",\"rain\",\"rain\",\"rain\",\"rain\",\"rain\",\"rain\",\"rain\",\"rain\",\"rain\",\"rain\",\"rain\",\"rain\",\"rain\",\"rain\",\"rain\",\"rain\",\"rain\",\"rain\",\"rain\",\"rain\",\"rain\",\"rain\",\"rain\",\"rain\",\"rain\",\"rain\",\"rain\",\"rain\",\"rain\",\"rain\",\"rain\",\"rain\",\"rain\",\"rain\",\"rain\",\"rain\",\"rain\",\"rain\",\"rain\",\"rain\",\"rain\",\"rain\",\"rain\",\"rain\",\"rain\",\"rain\",\"rain\",\"rain\",\"rain\",\"rain\",\"rain\",\"rain\",\"rain\",\"rain\",\"rain\",\"rain\",\"rain\",\"rain\",\"rain\",\"rain\",\"rain\",\"rain\",\"rain\",\"rain\",\"rain\",\"rain\",\"rain\",\"rain\",\"rain\",\"rain\",\"rain\",\"rain\",\"rain\",\"rain\",\"rain\",\"rain\",\"rain\",\"rain\",\"rain\",\"rain\",\"rain\",\"rain\",\"rain\",\"rain\",\"rain\",\"rain\",\"rain\",\"rain\",\"rain\",\"rain\",\"rain\",\"rain\",\"rain\",\"rain\",\"rain\",\"rain\",\"rain\",\"rain\",\"rain\",\"rain\",\"rain\",\"rain\",\"rain\",\"rain\",\"rain\",\"rain\",\"rain\",\"rain\",\"rain\",\"rain\",\"rain\",\"rain\",\"rain\",\"rain\",\"rain\",\"rain\",\"rain\",\"rain\",\"rain\",\"rain\",\"rain\",\"rain\",\"rain\",\"rain\",\"rain\",\"rain\",\"rain\",\"rain\",\"rain\",\"rain\",\"rain\",\"rain\",\"rain\",\"rain\",\"rain\",\"rain\",\"rain\",\"rain\",\"rain\",\"rain\",\"rain\",\"rain\",\"rain\",\"rain\",\"rain\",\"rain\",\"rain\",\"rain\",\"rain\",\"rain\",\"rain\",\"rain\",\"rain\",\"rain\",\"rain\",\"rain\",\"rain\",\"rain\",\"rain\",\"rain\",\"rain\",\"rain\",\"rain\",\"rain\",\"rain\",\"rain\",\"rain\",\"rain\",\"rain\",\"rain\",\"rain\",\"rain\",\"rain\",\"rain\",\"rain\",\"rain\",\"rain\",\"rain\",\"rain\",\"rain\",\"rain\",\"rain\",\"rain\",\"rain\",\"rain\",\"rain\",\"rain\",\"rain\",\"rain\",\"rain\",\"rain\",\"rain\",\"rain\",\"rain\",\"rain\",\"rain\",\"rain\",\"rain\",\"rain\",\"rain\",\"rain\",\"rain\",\"rain\",\"rain\",\"rain\",\"rain\",\"rain\",\"rain\",\"rain\",\"rain\",\"rain\",\"rain\",\"rain\",\"rain\",\"rain\",\"rain\",\"rain\",\"rain\",\"rain\",\"rain\",\"rain\",\"rain\",\"rain\",\"rain\",\"rain\",\"rain\",\"rain\",\"rain\",\"rain\",\"rain\",\"rain\",\"rain\",\"rain\",\"rain\",\"rain\",\"rain\",\"rain\",\"rain\",\"rain\",\"rain\",\"rain\",\"rain\",\"rain\",\"rain\",\"rain\",\"rain\",\"rain\",\"rain\",\"rain\",\"rain\",\"rain\",\"rain\",\"rain\",\"rain\",\"rain\",\"rain\",\"rain\",\"rain\",\"rain\",\"rain\",\"rain\",\"rain\",\"rain\",\"rain\",\"rain\",\"rain\",\"rain\",\"rain\",\"rain\",\"rain\",\"rain\",\"rain\",\"rain\",\"rain\",\"rain\",\"rain\",\"rain\",\"rain\",\"rain\",\"rain\",\"rain\",\"rain\",\"rain\",\"rain\",\"rain\",\"rain\",\"rain\",\"rain\",\"rain\",\"rain\",\"rain\",\"rain\",\"rain\",\"rain\",\"rain\",\"rain\",\"rain\",\"rain\",\"rain\",\"rain\",\"rain\",\"rain\",\"rain\",\"rain\",\"rain\",\"rain\",\"rain\",\"rain\",\"rain\",\"rain\",\"rain\",\"rain\",\"rain\",\"rain\",\"rain\",\"rain\",\"rain\",\"rain\",\"rain\",\"rain\",\"rain\",\"rain\",\"rain\",\"rain\",\"rain\",\"rain\",\"rain\",\"rain\",\"rain\",\"rain\",\"rain\",\"rain\",\"rain\",\"rain\",\"rain\",\"rain\",\"rain\",\"rain\",\"rain\",\"rain\",\"rain\",\"rain\",\"rain\",\"rain\",\"rain\",\"rain\",\"rain\",\"rain\"],\"xaxis\":\"x\",\"y\":[4.5,2.3,4.7,6.1,2.2,2.3,3.4,3.4,8.2,4.8,3.6,5.1,5.4,4.8,2.2,4.5,5.1,3.9,2.7,5.3,2.7,2.4,3.0,3.4,1.3,1.4,3.1,2.1,3.4,8.1,2.9,7.5,5.9,3.5,6.4,5.1,5.6,6.2,2.8,3.4,5.8,4.7,5.1,2.7,3.0,6.4,2.5,2.1,2.7,3.8,5.9,4.4,4.7,3.4,6.8,3.1,2.6,3.2,2.6,2.6,2.9,5.8,2.0,3.9,2.6,2.7,2.6,2.8,2.6,5.2,4.8,1.6,8.0,6.4,2.5,3.4,4.6,3.9,2.9,3.1,1.3,4.0,4.8,6.3,3.3,3.1,3.4,1.5,2.7,3.7,3.7,3.1,3.3,3.5,3.0,4.7,1.8,3.9,4.1,3.8,3.0,1.9,2.5,3.1,3.4,2.5,1.9,2.4,2.3,2.1,6.0,2.8,2.0,2.2,2.2,3.8,2.5,4.0,3.9,3.3,2.5,3.0,5.0,3.9,1.1,1.1,4.6,3.9,3.4,4.6,2.0,5.3,5.7,2.7,2.6,3.0,2.1,2.5,5.1,3.8,4.9,2.8,2.7,3.0,1.0,3.6,3.8,4.0,3.5,3.4,3.4,2.0,3.0,3.0,2.5,2.6,1.6,5.3,4.9,6.0,4.2,5.5,1.5,2.4,1.2,2.9,4.2,4.6,5.5,6.2,4.4,6.2,5.0,5.1,4.6,2.1,1.8,4.5,2.0,2.8,1.7,9.5,3.7,1.7,3.5,2.5,2.8,4.9,3.2,1.7,1.7,3.0,2.8,3.1,3.0,7.3,6.3,5.1,3.1,2.6,2.1,4.5,4.5,3.2,3.9,3.9,4.0,2.9,2.9,2.6,5.1,4.5,4.1,1.3,1.4,5.6,4.1,2.2,5.6,3.4,1.9,2.1,6.2,8.1,4.6,5.5,7.1,3.8,1.8,3.8,5.4,4.5,2.4,4.1,2.5,1.6,1.1,5.7,3.7,3.0,4.3,6.4,5.9,3.4,7.6,1.6,1.3,2.5,3.0,5.6,5.0,3.9,3.1,6.4,3.8,4.6,5.7,2.3,2.6,4.0,4.9,4.1,5.2,4.2,3.9,5.0,2.3,3.7,4.8,3.0,1.9,2.7,2.2,3.1,2.8,4.0,3.1,4.2,3.4,5.0,1.5,2.1,3.7,2.8,2.3,1.3,2.0,2.9,2.0,1.0,2.6,1.9,1.4,1.3,3.0,1.7,2.4,2.5,2.6,2.2,4.3,3.0,5.5,4.5,3.0,4.3,6.0,7.1,6.3,4.7,2.4,0.9,2.6,6.3,3.0,1.7,1.0,2.2,4.4,3.9,2.2,1.4,7.9,2.4,3.1,1.7,7.2,1.4,2.2,1.1,6.0,5.4,3.9,5.1,2.1,3.9,8.8,3.5,2.3,2.9,3.9,1.0,2.8,2.3,4.0,5.9,2.1,2.6,1.7,3.2,2.6,2.6,1.6,4.6,6.3,7.0,8.8,8.1,2.6,1.6,3.4,2.6,0.8,2.4,4.7,3.8,6.4,6.3,6.4,5.1,7.9,5.5,6.2,6.0,6.9,2.9,3.1,2.6,3.2,4.5,4.7,5.7,5.1,3.9,3.9,6.2,2.7,4.3,2.2,2.5,6.1,3.0,3.8,3.2,5.1,4.4,2.4,2.8,3.9,5.1,3.9,4.3,4.2,4.0,4.6,4.7,4.7,2.5,4.2,5.0,5.3,3.9,5.8,3.4,4.2,3.8,3.4,5.6,2.1,4.0,1.4,4.0,5.0,3.6,2.4,3.0,3.7,3.4,4.5,4.3,1.1,3.3,1.7,2.6,3.1,2.7,1.5,2.2,1.9,4.3,2.3,3.1,2.1,2.5,2.7,2.5,3.3,3.5,3.8,3.5,3.1,2.2,4.7,3.0,1.9,3.1,4.7,5.0,4.6,3.2,5.4,5.0,2.4,3.9,3.1,3.2,2.0,2.9,4.8,3.3,2.1,6.7,3.0,2.1,4.7,4.7,5.1,3.8,4.5,3.9,6.6,5.8,1.1,3.1,3.6,4.2,5.1,6.7,6.4,1.6,3.1,4.3,5.5,3.8,1.8,4.9,1.8,2.3,4.5,6.4,0.6,0.5,1.1,3.2,2.8,6.6,2.8,1.3,2.6,3.3,2.0,2.6,4.0,1.9,1.7,4.6,4.5,4.6,3.9,2.5,4.0,2.1,2.9,2.2,0.9,1.0,1.4,4.0,2.6,3.1,2.2,3.8,4.2,3.0,2.6,1.9,4.7,2.3,2.8,3.9,4.4,4.0,2.9,4.2,3.2,3.6,3.5,3.9,4.6,3.6,3.3,3.4,4.1,5.0,3.0,2.3,4.3,5.1,3.3,2.8,2.0,3.4,5.0,3.2,2.1,3.8,2.6,2.7,5.2,4.2,2.6,5.8,4.7,5.0,3.5,2.4,1.5,3.0,1.9,3.8,6.8,2.6,2.2,2.6,4.7,2.8,3.2,1.3,2.0,2.6,3.4,4.6,2.8,4.7,6.7,7.2,6.0,2.8,1.4,2.3,3.0,1.8,1.3,3.9,4.6,5.1,6.5,4.5,4.1,4.0,8.0,3.8,4.2,1.3,4.5,1.7,3.5,5.0,5.9,4.7,4.0,5.9,3.4,6.2,6.3,7.5,2.8,5.6,6.1,2.9,2.3,6.0,5.1,6.7,4.3,5.0,7.6,4.3,1.5,2.9,1.3],\"yaxis\":\"y\",\"type\":\"histogram\"},{\"alignmentgroup\":\"True\",\"bingroup\":\"x\",\"histfunc\":\"avg\",\"hovertemplate\":\"weather=%{x}\\u003cbr\\u003eavg of wind=%{y}\\u003cextra\\u003e\\u003c\\u002fextra\\u003e\",\"legendgroup\":\"sun\",\"marker\":{\"color\":\"#00cc96\",\"pattern\":{\"shape\":\"\"}},\"name\":\"sun\",\"offsetgroup\":\"sun\",\"orientation\":\"v\",\"showlegend\":true,\"texttemplate\":\"%{value}\",\"x\":[\"sun\",\"sun\",\"sun\",\"sun\",\"sun\",\"sun\",\"sun\",\"sun\",\"sun\",\"sun\",\"sun\",\"sun\",\"sun\",\"sun\",\"sun\",\"sun\",\"sun\",\"sun\",\"sun\",\"sun\",\"sun\",\"sun\",\"sun\",\"sun\",\"sun\",\"sun\",\"sun\",\"sun\",\"sun\",\"sun\",\"sun\",\"sun\",\"sun\",\"sun\",\"sun\",\"sun\",\"sun\",\"sun\",\"sun\",\"sun\",\"sun\",\"sun\",\"sun\",\"sun\",\"sun\",\"sun\",\"sun\",\"sun\",\"sun\",\"sun\",\"sun\",\"sun\",\"sun\",\"sun\",\"sun\",\"sun\",\"sun\",\"sun\",\"sun\",\"sun\",\"sun\",\"sun\",\"sun\",\"sun\",\"sun\",\"sun\",\"sun\",\"sun\",\"sun\",\"sun\",\"sun\",\"sun\",\"sun\",\"sun\",\"sun\",\"sun\",\"sun\",\"sun\",\"sun\",\"sun\",\"sun\",\"sun\",\"sun\",\"sun\",\"sun\",\"sun\",\"sun\",\"sun\",\"sun\",\"sun\",\"sun\",\"sun\",\"sun\",\"sun\",\"sun\",\"sun\",\"sun\",\"sun\",\"sun\",\"sun\",\"sun\",\"sun\",\"sun\",\"sun\",\"sun\",\"sun\",\"sun\",\"sun\",\"sun\",\"sun\",\"sun\",\"sun\",\"sun\",\"sun\",\"sun\",\"sun\",\"sun\",\"sun\",\"sun\",\"sun\",\"sun\",\"sun\",\"sun\",\"sun\",\"sun\",\"sun\",\"sun\",\"sun\",\"sun\",\"sun\",\"sun\",\"sun\",\"sun\",\"sun\",\"sun\",\"sun\",\"sun\",\"sun\",\"sun\",\"sun\",\"sun\",\"sun\",\"sun\",\"sun\",\"sun\",\"sun\",\"sun\",\"sun\",\"sun\",\"sun\",\"sun\",\"sun\",\"sun\",\"sun\",\"sun\",\"sun\",\"sun\",\"sun\",\"sun\",\"sun\",\"sun\",\"sun\",\"sun\",\"sun\",\"sun\",\"sun\",\"sun\",\"sun\",\"sun\",\"sun\",\"sun\",\"sun\",\"sun\",\"sun\",\"sun\",\"sun\",\"sun\",\"sun\",\"sun\",\"sun\",\"sun\",\"sun\",\"sun\",\"sun\",\"sun\",\"sun\",\"sun\",\"sun\",\"sun\",\"sun\",\"sun\",\"sun\",\"sun\",\"sun\",\"sun\",\"sun\",\"sun\",\"sun\",\"sun\",\"sun\",\"sun\",\"sun\",\"sun\",\"sun\",\"sun\",\"sun\",\"sun\",\"sun\",\"sun\",\"sun\",\"sun\",\"sun\",\"sun\",\"sun\",\"sun\",\"sun\",\"sun\",\"sun\",\"sun\",\"sun\",\"sun\",\"sun\",\"sun\",\"sun\",\"sun\",\"sun\",\"sun\",\"sun\",\"sun\",\"sun\",\"sun\",\"sun\",\"sun\",\"sun\",\"sun\",\"sun\",\"sun\",\"sun\",\"sun\",\"sun\",\"sun\",\"sun\",\"sun\",\"sun\",\"sun\",\"sun\",\"sun\",\"sun\",\"sun\",\"sun\",\"sun\",\"sun\",\"sun\",\"sun\",\"sun\",\"sun\",\"sun\",\"sun\",\"sun\",\"sun\",\"sun\",\"sun\",\"sun\",\"sun\",\"sun\",\"sun\",\"sun\",\"sun\",\"sun\",\"sun\",\"sun\",\"sun\",\"sun\",\"sun\",\"sun\",\"sun\",\"sun\",\"sun\",\"sun\",\"sun\",\"sun\",\"sun\",\"sun\",\"sun\",\"sun\",\"sun\",\"sun\",\"sun\",\"sun\",\"sun\",\"sun\",\"sun\",\"sun\",\"sun\",\"sun\",\"sun\",\"sun\",\"sun\",\"sun\",\"sun\",\"sun\",\"sun\",\"sun\",\"sun\",\"sun\",\"sun\",\"sun\",\"sun\",\"sun\",\"sun\",\"sun\",\"sun\",\"sun\",\"sun\",\"sun\",\"sun\",\"sun\",\"sun\",\"sun\",\"sun\",\"sun\",\"sun\",\"sun\",\"sun\",\"sun\",\"sun\",\"sun\",\"sun\",\"sun\",\"sun\",\"sun\",\"sun\",\"sun\",\"sun\",\"sun\",\"sun\",\"sun\",\"sun\",\"sun\",\"sun\",\"sun\",\"sun\",\"sun\",\"sun\",\"sun\",\"sun\",\"sun\",\"sun\",\"sun\",\"sun\",\"sun\",\"sun\",\"sun\",\"sun\",\"sun\",\"sun\",\"sun\",\"sun\",\"sun\",\"sun\",\"sun\",\"sun\",\"sun\",\"sun\",\"sun\",\"sun\",\"sun\",\"sun\",\"sun\",\"sun\",\"sun\",\"sun\",\"sun\",\"sun\",\"sun\",\"sun\",\"sun\",\"sun\",\"sun\",\"sun\",\"sun\",\"sun\",\"sun\",\"sun\",\"sun\",\"sun\",\"sun\",\"sun\",\"sun\",\"sun\",\"sun\",\"sun\",\"sun\",\"sun\",\"sun\",\"sun\",\"sun\",\"sun\",\"sun\",\"sun\",\"sun\",\"sun\",\"sun\",\"sun\",\"sun\",\"sun\",\"sun\",\"sun\",\"sun\",\"sun\",\"sun\",\"sun\",\"sun\",\"sun\",\"sun\",\"sun\",\"sun\",\"sun\",\"sun\",\"sun\",\"sun\",\"sun\",\"sun\",\"sun\",\"sun\",\"sun\",\"sun\",\"sun\",\"sun\",\"sun\",\"sun\",\"sun\",\"sun\",\"sun\",\"sun\",\"sun\",\"sun\",\"sun\",\"sun\",\"sun\",\"sun\",\"sun\",\"sun\",\"sun\",\"sun\",\"sun\",\"sun\",\"sun\",\"sun\",\"sun\",\"sun\",\"sun\",\"sun\",\"sun\",\"sun\",\"sun\",\"sun\",\"sun\",\"sun\",\"sun\",\"sun\",\"sun\",\"sun\",\"sun\",\"sun\",\"sun\",\"sun\",\"sun\",\"sun\",\"sun\",\"sun\",\"sun\",\"sun\",\"sun\",\"sun\",\"sun\",\"sun\",\"sun\",\"sun\",\"sun\",\"sun\",\"sun\",\"sun\",\"sun\",\"sun\",\"sun\",\"sun\",\"sun\",\"sun\",\"sun\",\"sun\",\"sun\",\"sun\",\"sun\",\"sun\",\"sun\",\"sun\",\"sun\",\"sun\",\"sun\",\"sun\",\"sun\",\"sun\",\"sun\",\"sun\",\"sun\",\"sun\",\"sun\",\"sun\",\"sun\",\"sun\",\"sun\",\"sun\",\"sun\",\"sun\",\"sun\",\"sun\",\"sun\",\"sun\",\"sun\",\"sun\",\"sun\",\"sun\",\"sun\",\"sun\",\"sun\",\"sun\",\"sun\",\"sun\",\"sun\",\"sun\",\"sun\",\"sun\",\"sun\",\"sun\",\"sun\",\"sun\",\"sun\",\"sun\",\"sun\",\"sun\",\"sun\",\"sun\",\"sun\",\"sun\",\"sun\",\"sun\",\"sun\",\"sun\",\"sun\",\"sun\",\"sun\",\"sun\",\"sun\",\"sun\",\"sun\",\"sun\",\"sun\",\"sun\",\"sun\",\"sun\",\"sun\",\"sun\",\"sun\",\"sun\",\"sun\",\"sun\",\"sun\",\"sun\",\"sun\",\"sun\",\"sun\",\"sun\",\"sun\",\"sun\",\"sun\",\"sun\",\"sun\",\"sun\",\"sun\",\"sun\",\"sun\",\"sun\",\"sun\",\"sun\",\"sun\",\"sun\",\"sun\",\"sun\",\"sun\",\"sun\",\"sun\",\"sun\",\"sun\",\"sun\",\"sun\",\"sun\",\"sun\",\"sun\",\"sun\",\"sun\",\"sun\",\"sun\",\"sun\",\"sun\",\"sun\",\"sun\",\"sun\",\"sun\",\"sun\",\"sun\",\"sun\",\"sun\",\"sun\",\"sun\",\"sun\",\"sun\",\"sun\",\"sun\",\"sun\",\"sun\",\"sun\",\"sun\",\"sun\",\"sun\",\"sun\",\"sun\",\"sun\",\"sun\",\"sun\",\"sun\",\"sun\",\"sun\",\"sun\",\"sun\",\"sun\",\"sun\",\"sun\",\"sun\",\"sun\"],\"xaxis\":\"x\",\"y\":[2.0,5.1,1.9,1.3,2.6,5.3,4.3,2.9,5.0,4.7,3.9,3.0,3.1,7.0,2.7,2.5,2.8,5.2,3.1,2.1,4.3,4.1,2.1,3.0,2.3,3.5,2.3,2.4,2.2,3.0,3.0,4.3,3.4,4.2,3.8,3.5,1.5,3.6,3.7,1.8,2.9,3.4,2.9,4.3,2.7,1.7,6.4,3.0,2.1,1.8,3.8,2.1,3.8,2.6,2.9,2.2,2.3,4.3,2.6,2.0,3.0,2.8,2.5,3.9,3.7,1.9,3.1,2.3,2.5,3.0,2.8,2.8,4.7,2.8,1.8,1.9,2.3,3.8,3.3,3.2,3.4,1.8,3.2,2.4,1.9,2.9,2.1,2.0,3.3,3.1,2.6,4.2,3.1,3.0,4.2,5.6,3.6,1.5,1.9,2.3,1.4,1.7,4.3,3.1,3.0,4.1,7.3,6.5,5.7,5.1,1.3,1.9,5.5,1.6,1.5,2.2,1.5,2.0,2.7,3.2,2.0,1.5,1.3,2.3,1.3,3.4,2.8,3.9,6.1,2.2,2.6,2.1,2.8,1.7,2.9,3.6,2.2,1.6,2.4,5.8,4.3,2.8,3.0,1.1,5.9,2.4,3.1,4.0,4.9,6.5,5.3,2.0,3.3,1.9,1.3,1.0,2.6,2.4,2.9,2.3,1.8,2.7,5.3,2.5,2.5,2.9,3.4,3.1,2.5,3.2,3.1,3.7,3.2,5.7,2.6,3.7,2.9,3.4,3.0,3.7,1.7,2.2,1.7,2.5,2.3,3.0,3.2,2.6,2.2,2.9,2.8,2.5,2.6,3.0,2.2,3.1,3.0,4.6,4.1,3.7,2.0,1.9,2.0,2.3,3.0,2.5,2.3,2.9,2.6,1.4,2.8,1.8,3.9,3.4,2.1,1.4,1.9,2.5,2.1,2.9,1.9,1.8,3.0,3.1,3.0,4.6,4.3,1.9,4.1,2.7,2.9,2.6,2.5,2.1,2.0,2.1,3.7,2.4,1.7,2.0,2.3,2.5,1.5,2.5,2.6,2.2,1.1,1.6,1.6,1.6,0.9,1.2,1.4,2.4,2.5,1.9,0.4,0.6,1.8,2.7,5.1,2.2,4.1,4.4,3.8,4.6,4.3,3.6,4.6,2.6,0.5,1.0,1.3,0.7,5.6,1.6,2.6,4.7,3.1,2.2,1.3,1.5,0.8,3.7,2.7,2.1,1.7,0.8,0.5,1.3,1.1,1.2,3.7,7.1,1.3,2.5,2.7,2.3,2.2,2.5,2.2,1.5,1.9,0.8,1.3,1.3,6.4,2.5,4.3,4.7,6.6,4.5,4.2,2.5,2.3,5.9,4.2,1.6,3.0,3.8,1.8,3.3,2.2,5.1,3.8,2.8,4.2,4.7,2.6,2.5,2.9,3.6,2.8,4.4,3.1,2.6,3.8,2.7,2.3,2.6,2.3,3.9,3.0,4.7,2.6,1.7,1.7,2.7,3.8,3.3,3.0,4.1,3.2,3.2,2.2,2.7,1.7,2.5,2.4,4.5,2.5,3.4,4.3,4.5,2.2,2.3,2.4,3.2,2.6,2.4,3.2,3.1,2.1,3.6,2.9,2.7,3.2,2.7,3.6,2.7,2.5,2.5,2.4,4.1,3.2,4.4,3.5,3.6,3.1,3.6,3.0,3.5,2.3,2.2,2.2,2.6,2.8,2.3,2.4,3.7,2.8,2.8,2.2,4.7,2.7,3.6,4.1,3.7,2.8,3.4,4.1,3.3,2.6,2.6,2.7,2.9,4.1,3.4,0.6,2.2,2.8,3.3,2.4,3.6,1.7,2.9,2.0,2.3,2.0,1.8,1.6,2.3,3.4,2.5,2.7,2.9,2.1,2.8,2.3,3.9,5.3,5.9,4.2,1.8,1.2,2.8,2.8,3.0,2.6,2.1,2.0,1.0,1.2,2.1,3.3,3.2,2.3,3.9,7.7,7.6,4.7,4.5,4.2,4.2,1.9,0.9,1.9,4.4,2.2,3.6,2.8,3.7,5.9,4.0,5.2,1.5,3.6,3.0,1.2,2.9,4.8,4.0,2.6,4.5,4.2,1.4,1.5,5.1,2.2,4.8,2.1,1.8,1.3,1.4,3.2,2.5,1.9,2.2,5.7,3.0,2.4,1.7,2.4,1.7,2.3,6.5,3.6,2.4,3.1,3.6,3.9,3.6,2.6,2.3,4.7,2.1,3.7,3.7,2.6,5.2,3.0,3.0,2.6,2.8,3.0,2.1,3.0,2.6,2.1,3.7,2.6,2.7,2.7,2.1,1.8,2.1,2.5,2.5,2.2,3.0,3.9,4.3,2.6,3.2,3.5,2.7,3.0,3.5,2.3,2.6,3.7,3.0,3.1,3.0,4.3,3.4,2.4,2.4,2.6,3.0,4.7,3.9,2.7,4.3,3.4,2.6,2.9,2.1,2.4,3.4,3.7,3.0,2.2,3.1,3.3,3.2,2.8,3.3,3.4,3.3,3.9,2.4,2.8,1.9,3.4,3.8,3.5,2.6,3.1,2.0,2.3,3.5,2.9,3.7,2.2,2.4,4.4,2.2,3.7,3.7,3.0,3.0,2.6,2.3,3.4,1.7,2.1,5.8,3.8,2.9,2.9,2.4,3.3,3.1,2.1,3.4,2.8,2.6,4.3,2.0,1.8,2.7,3.8,5.1,1.9,4.8,3.7,1.6,2.6,1.3,2.2,4.7,5.7,4.3,3.0,1.0,1.7,2.5,3.4,3.5],\"yaxis\":\"y\",\"type\":\"histogram\"},{\"alignmentgroup\":\"True\",\"bingroup\":\"x\",\"histfunc\":\"avg\",\"hovertemplate\":\"weather=%{x}\\u003cbr\\u003eavg of wind=%{y}\\u003cextra\\u003e\\u003c\\u002fextra\\u003e\",\"legendgroup\":\"snow\",\"marker\":{\"color\":\"#ab63fa\",\"pattern\":{\"shape\":\"\"}},\"name\":\"snow\",\"offsetgroup\":\"snow\",\"orientation\":\"v\",\"showlegend\":true,\"texttemplate\":\"%{value}\",\"x\":[\"snow\",\"snow\",\"snow\",\"snow\",\"snow\",\"snow\",\"snow\",\"snow\",\"snow\",\"snow\",\"snow\",\"snow\",\"snow\",\"snow\",\"snow\",\"snow\",\"snow\",\"snow\",\"snow\",\"snow\",\"snow\",\"snow\",\"snow\",\"snow\",\"snow\",\"snow\"],\"xaxis\":\"x\",\"y\":[5.3,3.2,5.0,5.6,5.0,1.6,2.3,3.4,4.2,7.0,2.7,6.2,5.3,5.8,3.8,1.8,5.1,5.5,5.3,5.8,4.2,2.1,4.9,3.7,4.6,5.3],\"yaxis\":\"y\",\"type\":\"histogram\"},{\"alignmentgroup\":\"True\",\"bingroup\":\"x\",\"histfunc\":\"avg\",\"hovertemplate\":\"weather=%{x}\\u003cbr\\u003eavg of wind=%{y}\\u003cextra\\u003e\\u003c\\u002fextra\\u003e\",\"legendgroup\":\"fog\",\"marker\":{\"color\":\"#FFA15A\",\"pattern\":{\"shape\":\"\"}},\"name\":\"fog\",\"offsetgroup\":\"fog\",\"orientation\":\"v\",\"showlegend\":true,\"texttemplate\":\"%{value}\",\"x\":[\"fog\",\"fog\",\"fog\",\"fog\",\"fog\",\"fog\",\"fog\",\"fog\",\"fog\",\"fog\",\"fog\",\"fog\",\"fog\",\"fog\",\"fog\",\"fog\",\"fog\",\"fog\",\"fog\",\"fog\",\"fog\",\"fog\",\"fog\",\"fog\",\"fog\",\"fog\",\"fog\",\"fog\",\"fog\",\"fog\",\"fog\",\"fog\",\"fog\",\"fog\",\"fog\",\"fog\",\"fog\",\"fog\",\"fog\",\"fog\",\"fog\",\"fog\",\"fog\",\"fog\",\"fog\",\"fog\",\"fog\",\"fog\",\"fog\",\"fog\",\"fog\",\"fog\",\"fog\",\"fog\",\"fog\",\"fog\",\"fog\",\"fog\",\"fog\",\"fog\",\"fog\",\"fog\",\"fog\",\"fog\",\"fog\",\"fog\",\"fog\",\"fog\",\"fog\",\"fog\",\"fog\",\"fog\",\"fog\",\"fog\",\"fog\",\"fog\",\"fog\",\"fog\",\"fog\",\"fog\",\"fog\",\"fog\",\"fog\",\"fog\",\"fog\",\"fog\",\"fog\",\"fog\",\"fog\",\"fog\",\"fog\",\"fog\",\"fog\",\"fog\",\"fog\",\"fog\",\"fog\",\"fog\",\"fog\",\"fog\",\"fog\"],\"xaxis\":\"x\",\"y\":[2.9,2.2,1.4,1.8,3.8,1.3,2.4,2.2,2.7,2.2,2.4,3.4,2.4,2.2,1.5,1.4,1.8,2.7,1.7,2.6,0.9,2.7,5.2,2.3,1.9,2.2,4.1,2.2,5.4,2.2,2.4,3.1,6.5,4.4,3.2,2.0,1.4,2.5,1.0,1.8,1.0,1.2,0.8,5.7,1.1,3.5,2.2,1.2,4.3,1.7,1.3,1.6,2.6,1.6,2.7,2.8,4.5,3.0,1.3,1.4,2.2,1.8,0.8,1.9,1.0,1.7,6.6,2.7,1.7,1.8,2.7,2.6,2.5,2.8,1.8,3.4,2.4,1.9,2.6,3.6,3.6,2.7,2.5,1.3,1.3,2.9,1.1,5.0,3.4,1.8,1.3,2.7,2.6,2.9,1.7,2.7,4.0,3.1,0.9,4.1,2.6],\"yaxis\":\"y\",\"type\":\"histogram\"}],                        {\"template\":{\"data\":{\"histogram2dcontour\":[{\"type\":\"histogram2dcontour\",\"colorbar\":{\"outlinewidth\":0,\"ticks\":\"\"},\"colorscale\":[[0.0,\"#0d0887\"],[0.1111111111111111,\"#46039f\"],[0.2222222222222222,\"#7201a8\"],[0.3333333333333333,\"#9c179e\"],[0.4444444444444444,\"#bd3786\"],[0.5555555555555556,\"#d8576b\"],[0.6666666666666666,\"#ed7953\"],[0.7777777777777778,\"#fb9f3a\"],[0.8888888888888888,\"#fdca26\"],[1.0,\"#f0f921\"]]}],\"choropleth\":[{\"type\":\"choropleth\",\"colorbar\":{\"outlinewidth\":0,\"ticks\":\"\"}}],\"histogram2d\":[{\"type\":\"histogram2d\",\"colorbar\":{\"outlinewidth\":0,\"ticks\":\"\"},\"colorscale\":[[0.0,\"#0d0887\"],[0.1111111111111111,\"#46039f\"],[0.2222222222222222,\"#7201a8\"],[0.3333333333333333,\"#9c179e\"],[0.4444444444444444,\"#bd3786\"],[0.5555555555555556,\"#d8576b\"],[0.6666666666666666,\"#ed7953\"],[0.7777777777777778,\"#fb9f3a\"],[0.8888888888888888,\"#fdca26\"],[1.0,\"#f0f921\"]]}],\"heatmap\":[{\"type\":\"heatmap\",\"colorbar\":{\"outlinewidth\":0,\"ticks\":\"\"},\"colorscale\":[[0.0,\"#0d0887\"],[0.1111111111111111,\"#46039f\"],[0.2222222222222222,\"#7201a8\"],[0.3333333333333333,\"#9c179e\"],[0.4444444444444444,\"#bd3786\"],[0.5555555555555556,\"#d8576b\"],[0.6666666666666666,\"#ed7953\"],[0.7777777777777778,\"#fb9f3a\"],[0.8888888888888888,\"#fdca26\"],[1.0,\"#f0f921\"]]}],\"heatmapgl\":[{\"type\":\"heatmapgl\",\"colorbar\":{\"outlinewidth\":0,\"ticks\":\"\"},\"colorscale\":[[0.0,\"#0d0887\"],[0.1111111111111111,\"#46039f\"],[0.2222222222222222,\"#7201a8\"],[0.3333333333333333,\"#9c179e\"],[0.4444444444444444,\"#bd3786\"],[0.5555555555555556,\"#d8576b\"],[0.6666666666666666,\"#ed7953\"],[0.7777777777777778,\"#fb9f3a\"],[0.8888888888888888,\"#fdca26\"],[1.0,\"#f0f921\"]]}],\"contourcarpet\":[{\"type\":\"contourcarpet\",\"colorbar\":{\"outlinewidth\":0,\"ticks\":\"\"}}],\"contour\":[{\"type\":\"contour\",\"colorbar\":{\"outlinewidth\":0,\"ticks\":\"\"},\"colorscale\":[[0.0,\"#0d0887\"],[0.1111111111111111,\"#46039f\"],[0.2222222222222222,\"#7201a8\"],[0.3333333333333333,\"#9c179e\"],[0.4444444444444444,\"#bd3786\"],[0.5555555555555556,\"#d8576b\"],[0.6666666666666666,\"#ed7953\"],[0.7777777777777778,\"#fb9f3a\"],[0.8888888888888888,\"#fdca26\"],[1.0,\"#f0f921\"]]}],\"surface\":[{\"type\":\"surface\",\"colorbar\":{\"outlinewidth\":0,\"ticks\":\"\"},\"colorscale\":[[0.0,\"#0d0887\"],[0.1111111111111111,\"#46039f\"],[0.2222222222222222,\"#7201a8\"],[0.3333333333333333,\"#9c179e\"],[0.4444444444444444,\"#bd3786\"],[0.5555555555555556,\"#d8576b\"],[0.6666666666666666,\"#ed7953\"],[0.7777777777777778,\"#fb9f3a\"],[0.8888888888888888,\"#fdca26\"],[1.0,\"#f0f921\"]]}],\"mesh3d\":[{\"type\":\"mesh3d\",\"colorbar\":{\"outlinewidth\":0,\"ticks\":\"\"}}],\"scatter\":[{\"fillpattern\":{\"fillmode\":\"overlay\",\"size\":10,\"solidity\":0.2},\"type\":\"scatter\"}],\"parcoords\":[{\"type\":\"parcoords\",\"line\":{\"colorbar\":{\"outlinewidth\":0,\"ticks\":\"\"}}}],\"scatterpolargl\":[{\"type\":\"scatterpolargl\",\"marker\":{\"colorbar\":{\"outlinewidth\":0,\"ticks\":\"\"}}}],\"bar\":[{\"error_x\":{\"color\":\"#2a3f5f\"},\"error_y\":{\"color\":\"#2a3f5f\"},\"marker\":{\"line\":{\"color\":\"#E5ECF6\",\"width\":0.5},\"pattern\":{\"fillmode\":\"overlay\",\"size\":10,\"solidity\":0.2}},\"type\":\"bar\"}],\"scattergeo\":[{\"type\":\"scattergeo\",\"marker\":{\"colorbar\":{\"outlinewidth\":0,\"ticks\":\"\"}}}],\"scatterpolar\":[{\"type\":\"scatterpolar\",\"marker\":{\"colorbar\":{\"outlinewidth\":0,\"ticks\":\"\"}}}],\"histogram\":[{\"marker\":{\"pattern\":{\"fillmode\":\"overlay\",\"size\":10,\"solidity\":0.2}},\"type\":\"histogram\"}],\"scattergl\":[{\"type\":\"scattergl\",\"marker\":{\"colorbar\":{\"outlinewidth\":0,\"ticks\":\"\"}}}],\"scatter3d\":[{\"type\":\"scatter3d\",\"line\":{\"colorbar\":{\"outlinewidth\":0,\"ticks\":\"\"}},\"marker\":{\"colorbar\":{\"outlinewidth\":0,\"ticks\":\"\"}}}],\"scattermapbox\":[{\"type\":\"scattermapbox\",\"marker\":{\"colorbar\":{\"outlinewidth\":0,\"ticks\":\"\"}}}],\"scatterternary\":[{\"type\":\"scatterternary\",\"marker\":{\"colorbar\":{\"outlinewidth\":0,\"ticks\":\"\"}}}],\"scattercarpet\":[{\"type\":\"scattercarpet\",\"marker\":{\"colorbar\":{\"outlinewidth\":0,\"ticks\":\"\"}}}],\"carpet\":[{\"aaxis\":{\"endlinecolor\":\"#2a3f5f\",\"gridcolor\":\"white\",\"linecolor\":\"white\",\"minorgridcolor\":\"white\",\"startlinecolor\":\"#2a3f5f\"},\"baxis\":{\"endlinecolor\":\"#2a3f5f\",\"gridcolor\":\"white\",\"linecolor\":\"white\",\"minorgridcolor\":\"white\",\"startlinecolor\":\"#2a3f5f\"},\"type\":\"carpet\"}],\"table\":[{\"cells\":{\"fill\":{\"color\":\"#EBF0F8\"},\"line\":{\"color\":\"white\"}},\"header\":{\"fill\":{\"color\":\"#C8D4E3\"},\"line\":{\"color\":\"white\"}},\"type\":\"table\"}],\"barpolar\":[{\"marker\":{\"line\":{\"color\":\"#E5ECF6\",\"width\":0.5},\"pattern\":{\"fillmode\":\"overlay\",\"size\":10,\"solidity\":0.2}},\"type\":\"barpolar\"}],\"pie\":[{\"automargin\":true,\"type\":\"pie\"}]},\"layout\":{\"autotypenumbers\":\"strict\",\"colorway\":[\"#636efa\",\"#EF553B\",\"#00cc96\",\"#ab63fa\",\"#FFA15A\",\"#19d3f3\",\"#FF6692\",\"#B6E880\",\"#FF97FF\",\"#FECB52\"],\"font\":{\"color\":\"#2a3f5f\"},\"hovermode\":\"closest\",\"hoverlabel\":{\"align\":\"left\"},\"paper_bgcolor\":\"white\",\"plot_bgcolor\":\"#E5ECF6\",\"polar\":{\"bgcolor\":\"#E5ECF6\",\"angularaxis\":{\"gridcolor\":\"white\",\"linecolor\":\"white\",\"ticks\":\"\"},\"radialaxis\":{\"gridcolor\":\"white\",\"linecolor\":\"white\",\"ticks\":\"\"}},\"ternary\":{\"bgcolor\":\"#E5ECF6\",\"aaxis\":{\"gridcolor\":\"white\",\"linecolor\":\"white\",\"ticks\":\"\"},\"baxis\":{\"gridcolor\":\"white\",\"linecolor\":\"white\",\"ticks\":\"\"},\"caxis\":{\"gridcolor\":\"white\",\"linecolor\":\"white\",\"ticks\":\"\"}},\"coloraxis\":{\"colorbar\":{\"outlinewidth\":0,\"ticks\":\"\"}},\"colorscale\":{\"sequential\":[[0.0,\"#0d0887\"],[0.1111111111111111,\"#46039f\"],[0.2222222222222222,\"#7201a8\"],[0.3333333333333333,\"#9c179e\"],[0.4444444444444444,\"#bd3786\"],[0.5555555555555556,\"#d8576b\"],[0.6666666666666666,\"#ed7953\"],[0.7777777777777778,\"#fb9f3a\"],[0.8888888888888888,\"#fdca26\"],[1.0,\"#f0f921\"]],\"sequentialminus\":[[0.0,\"#0d0887\"],[0.1111111111111111,\"#46039f\"],[0.2222222222222222,\"#7201a8\"],[0.3333333333333333,\"#9c179e\"],[0.4444444444444444,\"#bd3786\"],[0.5555555555555556,\"#d8576b\"],[0.6666666666666666,\"#ed7953\"],[0.7777777777777778,\"#fb9f3a\"],[0.8888888888888888,\"#fdca26\"],[1.0,\"#f0f921\"]],\"diverging\":[[0,\"#8e0152\"],[0.1,\"#c51b7d\"],[0.2,\"#de77ae\"],[0.3,\"#f1b6da\"],[0.4,\"#fde0ef\"],[0.5,\"#f7f7f7\"],[0.6,\"#e6f5d0\"],[0.7,\"#b8e186\"],[0.8,\"#7fbc41\"],[0.9,\"#4d9221\"],[1,\"#276419\"]]},\"xaxis\":{\"gridcolor\":\"white\",\"linecolor\":\"white\",\"ticks\":\"\",\"title\":{\"standoff\":15},\"zerolinecolor\":\"white\",\"automargin\":true,\"zerolinewidth\":2},\"yaxis\":{\"gridcolor\":\"white\",\"linecolor\":\"white\",\"ticks\":\"\",\"title\":{\"standoff\":15},\"zerolinecolor\":\"white\",\"automargin\":true,\"zerolinewidth\":2},\"scene\":{\"xaxis\":{\"backgroundcolor\":\"#E5ECF6\",\"gridcolor\":\"white\",\"linecolor\":\"white\",\"showbackground\":true,\"ticks\":\"\",\"zerolinecolor\":\"white\",\"gridwidth\":2},\"yaxis\":{\"backgroundcolor\":\"#E5ECF6\",\"gridcolor\":\"white\",\"linecolor\":\"white\",\"showbackground\":true,\"ticks\":\"\",\"zerolinecolor\":\"white\",\"gridwidth\":2},\"zaxis\":{\"backgroundcolor\":\"#E5ECF6\",\"gridcolor\":\"white\",\"linecolor\":\"white\",\"showbackground\":true,\"ticks\":\"\",\"zerolinecolor\":\"white\",\"gridwidth\":2}},\"shapedefaults\":{\"line\":{\"color\":\"#2a3f5f\"}},\"annotationdefaults\":{\"arrowcolor\":\"#2a3f5f\",\"arrowhead\":0,\"arrowwidth\":1},\"geo\":{\"bgcolor\":\"white\",\"landcolor\":\"#E5ECF6\",\"subunitcolor\":\"white\",\"showland\":true,\"showlakes\":true,\"lakecolor\":\"white\"},\"title\":{\"x\":0.05},\"mapbox\":{\"style\":\"light\"}}},\"xaxis\":{\"anchor\":\"y\",\"domain\":[0.0,1.0],\"title\":{\"text\":\"weather\"},\"categoryorder\":\"total ascending\",\"categoryarray\":[\"drizzle\",\"rain\",\"sun\",\"snow\",\"fog\"]},\"yaxis\":{\"anchor\":\"x\",\"domain\":[0.0,1.0],\"title\":{\"text\":\"avg of wind\"}},\"legend\":{\"title\":{\"text\":\"weather\"},\"tracegroupgap\":0},\"title\":{\"text\":\"wind average in each weather state\"},\"barmode\":\"relative\"},                        {\"responsive\": true}                    ).then(function(){\n",
              "                            \n",
              "var gd = document.getElementById('4e13e62a-efee-4e43-98f6-ef51f82f6d42');\n",
              "var x = new MutationObserver(function (mutations, observer) {{\n",
              "        var display = window.getComputedStyle(gd).display;\n",
              "        if (!display || display === 'none') {{\n",
              "            console.log([gd, 'removed!']);\n",
              "            Plotly.purge(gd);\n",
              "            observer.disconnect();\n",
              "        }}\n",
              "}});\n",
              "\n",
              "// Listen for the removal of the full notebook cells\n",
              "var notebookContainer = gd.closest('#notebook-container');\n",
              "if (notebookContainer) {{\n",
              "    x.observe(notebookContainer, {childList: true});\n",
              "}}\n",
              "\n",
              "// Listen for the clearing of the current output cell\n",
              "var outputEl = gd.closest('.output');\n",
              "if (outputEl) {{\n",
              "    x.observe(outputEl, {childList: true});\n",
              "}}\n",
              "\n",
              "                        })                };                            </script>        </div>\n",
              "</body>\n",
              "</html>"
            ]
          },
          "metadata": {}
        }
      ],
      "source": [
        "fig = px.histogram(df, x='weather',y=\"wind\",color='weather',histfunc=\"avg\",text_auto=True, title='wind average in each weather state').update_xaxes(categoryorder='total ascending')\n",
        "fig.show()"
      ]
    },
    {
      "cell_type": "markdown",
      "metadata": {
        "id": "kisgzfx3xlO-"
      },
      "source": [
        "# 5- Feature engineering and selection"
      ]
    },
    {
      "cell_type": "code",
      "execution_count": 28,
      "metadata": {
        "colab": {
          "base_uri": "https://localhost:8080/",
          "height": 206
        },
        "id": "G6esUYWDj6d_",
        "outputId": "b1902158-2eaf-4b71-c049-bdfbded3fada"
      },
      "outputs": [
        {
          "output_type": "execute_result",
          "data": {
            "text/plain": [
              "   precipitation  temp_max  temp_min  wind\n",
              "0            0.0      12.8       5.0   4.7\n",
              "1           10.9      10.6       2.8   4.5\n",
              "2            0.8      11.7       7.2   2.3\n",
              "3           20.3      12.2       5.6   4.7\n",
              "4            1.3       8.9       2.8   6.1"
            ],
            "text/html": [
              "\n",
              "  <div id=\"df-42477568-52e5-418f-ac42-f52f8bd300ac\" class=\"colab-df-container\">\n",
              "    <div>\n",
              "<style scoped>\n",
              "    .dataframe tbody tr th:only-of-type {\n",
              "        vertical-align: middle;\n",
              "    }\n",
              "\n",
              "    .dataframe tbody tr th {\n",
              "        vertical-align: top;\n",
              "    }\n",
              "\n",
              "    .dataframe thead th {\n",
              "        text-align: right;\n",
              "    }\n",
              "</style>\n",
              "<table border=\"1\" class=\"dataframe\">\n",
              "  <thead>\n",
              "    <tr style=\"text-align: right;\">\n",
              "      <th></th>\n",
              "      <th>precipitation</th>\n",
              "      <th>temp_max</th>\n",
              "      <th>temp_min</th>\n",
              "      <th>wind</th>\n",
              "    </tr>\n",
              "  </thead>\n",
              "  <tbody>\n",
              "    <tr>\n",
              "      <th>0</th>\n",
              "      <td>0.0</td>\n",
              "      <td>12.8</td>\n",
              "      <td>5.0</td>\n",
              "      <td>4.7</td>\n",
              "    </tr>\n",
              "    <tr>\n",
              "      <th>1</th>\n",
              "      <td>10.9</td>\n",
              "      <td>10.6</td>\n",
              "      <td>2.8</td>\n",
              "      <td>4.5</td>\n",
              "    </tr>\n",
              "    <tr>\n",
              "      <th>2</th>\n",
              "      <td>0.8</td>\n",
              "      <td>11.7</td>\n",
              "      <td>7.2</td>\n",
              "      <td>2.3</td>\n",
              "    </tr>\n",
              "    <tr>\n",
              "      <th>3</th>\n",
              "      <td>20.3</td>\n",
              "      <td>12.2</td>\n",
              "      <td>5.6</td>\n",
              "      <td>4.7</td>\n",
              "    </tr>\n",
              "    <tr>\n",
              "      <th>4</th>\n",
              "      <td>1.3</td>\n",
              "      <td>8.9</td>\n",
              "      <td>2.8</td>\n",
              "      <td>6.1</td>\n",
              "    </tr>\n",
              "  </tbody>\n",
              "</table>\n",
              "</div>\n",
              "    <div class=\"colab-df-buttons\">\n",
              "\n",
              "  <div class=\"colab-df-container\">\n",
              "    <button class=\"colab-df-convert\" onclick=\"convertToInteractive('df-42477568-52e5-418f-ac42-f52f8bd300ac')\"\n",
              "            title=\"Convert this dataframe to an interactive table.\"\n",
              "            style=\"display:none;\">\n",
              "\n",
              "  <svg xmlns=\"http://www.w3.org/2000/svg\" height=\"24px\" viewBox=\"0 -960 960 960\">\n",
              "    <path d=\"M120-120v-720h720v720H120Zm60-500h600v-160H180v160Zm220 220h160v-160H400v160Zm0 220h160v-160H400v160ZM180-400h160v-160H180v160Zm440 0h160v-160H620v160ZM180-180h160v-160H180v160Zm440 0h160v-160H620v160Z\"/>\n",
              "  </svg>\n",
              "    </button>\n",
              "\n",
              "  <style>\n",
              "    .colab-df-container {\n",
              "      display:flex;\n",
              "      gap: 12px;\n",
              "    }\n",
              "\n",
              "    .colab-df-convert {\n",
              "      background-color: #E8F0FE;\n",
              "      border: none;\n",
              "      border-radius: 50%;\n",
              "      cursor: pointer;\n",
              "      display: none;\n",
              "      fill: #1967D2;\n",
              "      height: 32px;\n",
              "      padding: 0 0 0 0;\n",
              "      width: 32px;\n",
              "    }\n",
              "\n",
              "    .colab-df-convert:hover {\n",
              "      background-color: #E2EBFA;\n",
              "      box-shadow: 0px 1px 2px rgba(60, 64, 67, 0.3), 0px 1px 3px 1px rgba(60, 64, 67, 0.15);\n",
              "      fill: #174EA6;\n",
              "    }\n",
              "\n",
              "    .colab-df-buttons div {\n",
              "      margin-bottom: 4px;\n",
              "    }\n",
              "\n",
              "    [theme=dark] .colab-df-convert {\n",
              "      background-color: #3B4455;\n",
              "      fill: #D2E3FC;\n",
              "    }\n",
              "\n",
              "    [theme=dark] .colab-df-convert:hover {\n",
              "      background-color: #434B5C;\n",
              "      box-shadow: 0px 1px 3px 1px rgba(0, 0, 0, 0.15);\n",
              "      filter: drop-shadow(0px 1px 2px rgba(0, 0, 0, 0.3));\n",
              "      fill: #FFFFFF;\n",
              "    }\n",
              "  </style>\n",
              "\n",
              "    <script>\n",
              "      const buttonEl =\n",
              "        document.querySelector('#df-42477568-52e5-418f-ac42-f52f8bd300ac button.colab-df-convert');\n",
              "      buttonEl.style.display =\n",
              "        google.colab.kernel.accessAllowed ? 'block' : 'none';\n",
              "\n",
              "      async function convertToInteractive(key) {\n",
              "        const element = document.querySelector('#df-42477568-52e5-418f-ac42-f52f8bd300ac');\n",
              "        const dataTable =\n",
              "          await google.colab.kernel.invokeFunction('convertToInteractive',\n",
              "                                                    [key], {});\n",
              "        if (!dataTable) return;\n",
              "\n",
              "        const docLinkHtml = 'Like what you see? Visit the ' +\n",
              "          '<a target=\"_blank\" href=https://colab.research.google.com/notebooks/data_table.ipynb>data table notebook</a>'\n",
              "          + ' to learn more about interactive tables.';\n",
              "        element.innerHTML = '';\n",
              "        dataTable['output_type'] = 'display_data';\n",
              "        await google.colab.output.renderOutput(dataTable, element);\n",
              "        const docLink = document.createElement('div');\n",
              "        docLink.innerHTML = docLinkHtml;\n",
              "        element.appendChild(docLink);\n",
              "      }\n",
              "    </script>\n",
              "  </div>\n",
              "\n",
              "\n",
              "<div id=\"df-2d4b42ed-0d57-4d11-8211-12083a304c6a\">\n",
              "  <button class=\"colab-df-quickchart\" onclick=\"quickchart('df-2d4b42ed-0d57-4d11-8211-12083a304c6a')\"\n",
              "            title=\"Suggest charts\"\n",
              "            style=\"display:none;\">\n",
              "\n",
              "<svg xmlns=\"http://www.w3.org/2000/svg\" height=\"24px\"viewBox=\"0 0 24 24\"\n",
              "     width=\"24px\">\n",
              "    <g>\n",
              "        <path d=\"M19 3H5c-1.1 0-2 .9-2 2v14c0 1.1.9 2 2 2h14c1.1 0 2-.9 2-2V5c0-1.1-.9-2-2-2zM9 17H7v-7h2v7zm4 0h-2V7h2v10zm4 0h-2v-4h2v4z\"/>\n",
              "    </g>\n",
              "</svg>\n",
              "  </button>\n",
              "\n",
              "<style>\n",
              "  .colab-df-quickchart {\n",
              "      --bg-color: #E8F0FE;\n",
              "      --fill-color: #1967D2;\n",
              "      --hover-bg-color: #E2EBFA;\n",
              "      --hover-fill-color: #174EA6;\n",
              "      --disabled-fill-color: #AAA;\n",
              "      --disabled-bg-color: #DDD;\n",
              "  }\n",
              "\n",
              "  [theme=dark] .colab-df-quickchart {\n",
              "      --bg-color: #3B4455;\n",
              "      --fill-color: #D2E3FC;\n",
              "      --hover-bg-color: #434B5C;\n",
              "      --hover-fill-color: #FFFFFF;\n",
              "      --disabled-bg-color: #3B4455;\n",
              "      --disabled-fill-color: #666;\n",
              "  }\n",
              "\n",
              "  .colab-df-quickchart {\n",
              "    background-color: var(--bg-color);\n",
              "    border: none;\n",
              "    border-radius: 50%;\n",
              "    cursor: pointer;\n",
              "    display: none;\n",
              "    fill: var(--fill-color);\n",
              "    height: 32px;\n",
              "    padding: 0;\n",
              "    width: 32px;\n",
              "  }\n",
              "\n",
              "  .colab-df-quickchart:hover {\n",
              "    background-color: var(--hover-bg-color);\n",
              "    box-shadow: 0 1px 2px rgba(60, 64, 67, 0.3), 0 1px 3px 1px rgba(60, 64, 67, 0.15);\n",
              "    fill: var(--button-hover-fill-color);\n",
              "  }\n",
              "\n",
              "  .colab-df-quickchart-complete:disabled,\n",
              "  .colab-df-quickchart-complete:disabled:hover {\n",
              "    background-color: var(--disabled-bg-color);\n",
              "    fill: var(--disabled-fill-color);\n",
              "    box-shadow: none;\n",
              "  }\n",
              "\n",
              "  .colab-df-spinner {\n",
              "    border: 2px solid var(--fill-color);\n",
              "    border-color: transparent;\n",
              "    border-bottom-color: var(--fill-color);\n",
              "    animation:\n",
              "      spin 1s steps(1) infinite;\n",
              "  }\n",
              "\n",
              "  @keyframes spin {\n",
              "    0% {\n",
              "      border-color: transparent;\n",
              "      border-bottom-color: var(--fill-color);\n",
              "      border-left-color: var(--fill-color);\n",
              "    }\n",
              "    20% {\n",
              "      border-color: transparent;\n",
              "      border-left-color: var(--fill-color);\n",
              "      border-top-color: var(--fill-color);\n",
              "    }\n",
              "    30% {\n",
              "      border-color: transparent;\n",
              "      border-left-color: var(--fill-color);\n",
              "      border-top-color: var(--fill-color);\n",
              "      border-right-color: var(--fill-color);\n",
              "    }\n",
              "    40% {\n",
              "      border-color: transparent;\n",
              "      border-right-color: var(--fill-color);\n",
              "      border-top-color: var(--fill-color);\n",
              "    }\n",
              "    60% {\n",
              "      border-color: transparent;\n",
              "      border-right-color: var(--fill-color);\n",
              "    }\n",
              "    80% {\n",
              "      border-color: transparent;\n",
              "      border-right-color: var(--fill-color);\n",
              "      border-bottom-color: var(--fill-color);\n",
              "    }\n",
              "    90% {\n",
              "      border-color: transparent;\n",
              "      border-bottom-color: var(--fill-color);\n",
              "    }\n",
              "  }\n",
              "</style>\n",
              "\n",
              "  <script>\n",
              "    async function quickchart(key) {\n",
              "      const quickchartButtonEl =\n",
              "        document.querySelector('#' + key + ' button');\n",
              "      quickchartButtonEl.disabled = true;  // To prevent multiple clicks.\n",
              "      quickchartButtonEl.classList.add('colab-df-spinner');\n",
              "      try {\n",
              "        const charts = await google.colab.kernel.invokeFunction(\n",
              "            'suggestCharts', [key], {});\n",
              "      } catch (error) {\n",
              "        console.error('Error during call to suggestCharts:', error);\n",
              "      }\n",
              "      quickchartButtonEl.classList.remove('colab-df-spinner');\n",
              "      quickchartButtonEl.classList.add('colab-df-quickchart-complete');\n",
              "    }\n",
              "    (() => {\n",
              "      let quickchartButtonEl =\n",
              "        document.querySelector('#df-2d4b42ed-0d57-4d11-8211-12083a304c6a button');\n",
              "      quickchartButtonEl.style.display =\n",
              "        google.colab.kernel.accessAllowed ? 'block' : 'none';\n",
              "    })();\n",
              "  </script>\n",
              "</div>\n",
              "\n",
              "    </div>\n",
              "  </div>\n"
            ],
            "application/vnd.google.colaboratory.intrinsic+json": {
              "type": "dataframe",
              "variable_name": "x",
              "summary": "{\n  \"name\": \"x\",\n  \"rows\": 1461,\n  \"fields\": [\n    {\n      \"column\": \"precipitation\",\n      \"properties\": {\n        \"dtype\": \"number\",\n        \"std\": 6.680194322314731,\n        \"min\": 0.0,\n        \"max\": 55.9,\n        \"num_unique_values\": 111,\n        \"samples\": [\n          43.4,\n          8.1,\n          1.3\n        ],\n        \"semantic_type\": \"\",\n        \"description\": \"\"\n      }\n    },\n    {\n      \"column\": \"temp_max\",\n      \"properties\": {\n        \"dtype\": \"number\",\n        \"std\": 7.349758097360185,\n        \"min\": -1.6,\n        \"max\": 35.6,\n        \"num_unique_values\": 67,\n        \"samples\": [\n          25.6,\n          8.3,\n          8.9\n        ],\n        \"semantic_type\": \"\",\n        \"description\": \"\"\n      }\n    },\n    {\n      \"column\": \"temp_min\",\n      \"properties\": {\n        \"dtype\": \"number\",\n        \"std\": 5.023004179961267,\n        \"min\": -7.1,\n        \"max\": 18.3,\n        \"num_unique_values\": 55,\n        \"samples\": [\n          13.3,\n          0.6,\n          14.4\n        ],\n        \"semantic_type\": \"\",\n        \"description\": \"\"\n      }\n    },\n    {\n      \"column\": \"wind\",\n      \"properties\": {\n        \"dtype\": \"number\",\n        \"std\": 1.4378250588746244,\n        \"min\": 0.4,\n        \"max\": 9.5,\n        \"num_unique_values\": 79,\n        \"samples\": [\n          8.1,\n          4.7,\n          2.6\n        ],\n        \"semantic_type\": \"\",\n        \"description\": \"\"\n      }\n    }\n  ]\n}"
            }
          },
          "metadata": {},
          "execution_count": 28
        }
      ],
      "source": [
        "# feature engineering and selection\n",
        "x = df[['precipitation', 'temp_max','temp_min','wind']].copy()\n",
        "y=df[['weather']].copy()\n",
        "x.head()"
      ]
    },
    {
      "cell_type": "markdown",
      "metadata": {
        "id": "LQKIno05xuYm"
      },
      "source": [
        "## 6-Convert weather value to numerical value"
      ]
    },
    {
      "cell_type": "code",
      "execution_count": 29,
      "metadata": {
        "id": "fsKMYfH0YzoG"
      },
      "outputs": [],
      "source": [
        "from sklearn.preprocessing import LabelEncoder\n",
        "labelencoder = LabelEncoder()\n",
        "# conver subject column to numirical value\n",
        "df['weather']= labelencoder.fit_transform(df[['weather']].copy())\n",
        "y=df[['weather']].copy()"
      ]
    },
    {
      "cell_type": "markdown",
      "metadata": {
        "id": "xyNn7RYP89vk"
      },
      "source": [
        "# 7-Correlation Matrix"
      ]
    },
    {
      "cell_type": "code",
      "execution_count": 30,
      "metadata": {
        "colab": {
          "base_uri": "https://localhost:8080/",
          "height": 526
        },
        "id": "3Xdf6WEa7c9l",
        "outputId": "974b21bf-a320-4501-b304-dff9da9288df"
      },
      "outputs": [
        {
          "output_type": "execute_result",
          "data": {
            "text/plain": [
              "<Axes: >"
            ]
          },
          "metadata": {},
          "execution_count": 30
        },
        {
          "output_type": "display_data",
          "data": {
            "text/plain": [
              "<Figure size 640x480 with 2 Axes>"
            ],
            "image/png": "[encoded data removed]"
          },
          "metadata": {}
        }
      ],
      "source": [
        "# the relationship between variables\n",
        "sns.heatmap(df.corr(),cmap = 'Wistia', annot= True)\n"
      ]
    },
    {
      "cell_type": "markdown",
      "metadata": {
        "id": "lpMzv5uuyCxv"
      },
      "source": [
        "## 8-Split dateset with cross validation"
      ]
    },
    {
      "cell_type": "code",
      "execution_count": 31,
      "metadata": {
        "id": "aKQRpa02aDSu"
      },
      "outputs": [],
      "source": [
        "from sklearn.metrics import mean_absolute_error,r2_score,mean_squared_error\n",
        "from sklearn.model_selection import train_test_split\n",
        "X_train,X_test,Y_train,Y_test = train_test_split(x,y, random_state = 33, test_size = 0.33)\n",
        "\n",
        "from sklearn.neural_network import MLPClassifier\n",
        "\n"
      ]
    },
    {
      "cell_type": "markdown",
      "metadata": {
        "id": "775Jp28DyMXn"
      },
      "source": [
        "# 9-Build our algorithms"
      ]
    },
    {
      "cell_type": "code",
      "execution_count": 32,
      "metadata": {
        "colab": {
          "base_uri": "https://localhost:8080/"
        },
        "id": "BeQ3SRBCyLH_",
        "outputId": "ee0a12e8-837c-418c-d734-6fe4af2f40f4"
      },
      "outputs": [
        {
          "output_type": "stream",
          "name": "stdout",
          "text": [
            "accurcy of  SVM : 0.7903113822848727\n",
            "accurcy of  NB : 0.8670418682937091\n",
            "accurcy of  KNN : 0.7607405848937512\n",
            "accurcy of  dt : 0.7770986745213548\n",
            "accurcy of  LR : 0.8588786029875868\n",
            "accurcy of  ANN : 0.8598884914790658\n"
          ]
        }
      ],
      "source": [
        "models = []\n",
        "models.append((\"SVM\",SVC()))\n",
        "models.append((\"NB\",GaussianNB()))\n",
        "models.append((\"KNN\",KNeighborsClassifier()))\n",
        "models.append((\"dt\",DecisionTreeClassifier()))\n",
        "models.append((\"LR\",LogisticRegression()))\n",
        "models.append((\"ANN\",MLPClassifier(solver='lbfgs', alpha=1e-5, hidden_layer_sizes=(5, 2), random_state=1)))\n",
        "\n",
        "results = []\n",
        "names = []\n",
        "m=[]\n",
        "for name,model in models:\n",
        "    kfold = KFold(n_splits=10)\n",
        "    cv_result = cross_val_score(model,X_train,Y_train, cv = kfold,scoring = \"accuracy\")\n",
        "    names.append(name)\n",
        "    results.append(cv_result)\n",
        "for i in range(len(names)):\n",
        "    m.append(results[i].mean())\n",
        "    print('accurcy of ',names[i],':' ,results[i].mean())"
      ]
    },
    {
      "cell_type": "markdown",
      "metadata": {
        "id": "rGiVh7C6Rj1Y"
      },
      "source": [
        "# 10-Accurcy of different classification models histogram"
      ]
    },
    {
      "cell_type": "code",
      "execution_count": 33,
      "metadata": {
        "colab": {
          "base_uri": "https://localhost:8080/",
          "height": 542
        },
        "id": "W5jb8C3hKM2Q",
        "outputId": "7ef36cf7-06d9-46be-8ac9-f07b4ad6f985"
      },
      "outputs": [
        {
          "output_type": "display_data",
          "data": {
            "text/html": [
              "<html>\n",
              "<head><meta charset=\"utf-8\" /></head>\n",
              "<body>\n",
              "    <div>            <script src=\"https://cdnjs.cloudflare.com/ajax/libs/mathjax/2.7.5/MathJax.js?config=TeX-AMS-MML_SVG\"></script><script type=\"text/javascript\">if (window.MathJax && window.MathJax.Hub && window.MathJax.Hub.Config) {window.MathJax.Hub.Config({SVG: {font: \"STIX-Web\"}});}</script>                <script type=\"text/javascript\">window.PlotlyConfig = {MathJaxConfig: 'local'};</script>\n",
              "        <script charset=\"utf-8\" src=\"https://cdn.plot.ly/plotly-2.35.2.min.js\"></script>                <div id=\"b4504486-45aa-419c-a4a9-bf9954086caa\" class=\"plotly-graph-div\" style=\"height:525px; width:100%;\"></div>            <script type=\"text/javascript\">                                    window.PLOTLYENV=window.PLOTLYENV || {};                                    if (document.getElementById(\"b4504486-45aa-419c-a4a9-bf9954086caa\")) {                    Plotly.newPlot(                        \"b4504486-45aa-419c-a4a9-bf9954086caa\",                        [{\"alignmentgroup\":\"True\",\"bingroup\":\"x\",\"histfunc\":\"sum\",\"hovertemplate\":\"Algorithm=%{x}\\u003cbr\\u003esum of accuracy=%{y}\\u003cextra\\u003e\\u003c\\u002fextra\\u003e\",\"legendgroup\":\"SVM\",\"marker\":{\"color\":\"#636efa\",\"pattern\":{\"shape\":\"\"}},\"name\":\"SVM\",\"offsetgroup\":\"SVM\",\"orientation\":\"v\",\"showlegend\":true,\"texttemplate\":\"%{value}\",\"x\":[\"SVM\"],\"xaxis\":\"x\",\"y\":[0.7903113822848727],\"yaxis\":\"y\",\"type\":\"histogram\"},{\"alignmentgroup\":\"True\",\"bingroup\":\"x\",\"histfunc\":\"sum\",\"hovertemplate\":\"Algorithm=%{x}\\u003cbr\\u003esum of accuracy=%{y}\\u003cextra\\u003e\\u003c\\u002fextra\\u003e\",\"legendgroup\":\"NB\",\"marker\":{\"color\":\"#EF553B\",\"pattern\":{\"shape\":\"\"}},\"name\":\"NB\",\"offsetgroup\":\"NB\",\"orientation\":\"v\",\"showlegend\":true,\"texttemplate\":\"%{value}\",\"x\":[\"NB\"],\"xaxis\":\"x\",\"y\":[0.8670418682937091],\"yaxis\":\"y\",\"type\":\"histogram\"},{\"alignmentgroup\":\"True\",\"bingroup\":\"x\",\"histfunc\":\"sum\",\"hovertemplate\":\"Algorithm=%{x}\\u003cbr\\u003esum of accuracy=%{y}\\u003cextra\\u003e\\u003c\\u002fextra\\u003e\",\"legendgroup\":\"KNN\",\"marker\":{\"color\":\"#00cc96\",\"pattern\":{\"shape\":\"\"}},\"name\":\"KNN\",\"offsetgroup\":\"KNN\",\"orientation\":\"v\",\"showlegend\":true,\"texttemplate\":\"%{value}\",\"x\":[\"KNN\"],\"xaxis\":\"x\",\"y\":[0.7607405848937512],\"yaxis\":\"y\",\"type\":\"histogram\"},{\"alignmentgroup\":\"True\",\"bingroup\":\"x\",\"histfunc\":\"sum\",\"hovertemplate\":\"Algorithm=%{x}\\u003cbr\\u003esum of accuracy=%{y}\\u003cextra\\u003e\\u003c\\u002fextra\\u003e\",\"legendgroup\":\"dt\",\"marker\":{\"color\":\"#ab63fa\",\"pattern\":{\"shape\":\"\"}},\"name\":\"dt\",\"offsetgroup\":\"dt\",\"orientation\":\"v\",\"showlegend\":true,\"texttemplate\":\"%{value}\",\"x\":[\"dt\"],\"xaxis\":\"x\",\"y\":[0.7770986745213548],\"yaxis\":\"y\",\"type\":\"histogram\"},{\"alignmentgroup\":\"True\",\"bingroup\":\"x\",\"histfunc\":\"sum\",\"hovertemplate\":\"Algorithm=%{x}\\u003cbr\\u003esum of accuracy=%{y}\\u003cextra\\u003e\\u003c\\u002fextra\\u003e\",\"legendgroup\":\"LR\",\"marker\":{\"color\":\"#FFA15A\",\"pattern\":{\"shape\":\"\"}},\"name\":\"LR\",\"offsetgroup\":\"LR\",\"orientation\":\"v\",\"showlegend\":true,\"texttemplate\":\"%{value}\",\"x\":[\"LR\"],\"xaxis\":\"x\",\"y\":[0.8588786029875868],\"yaxis\":\"y\",\"type\":\"histogram\"},{\"alignmentgroup\":\"True\",\"bingroup\":\"x\",\"histfunc\":\"sum\",\"hovertemplate\":\"Algorithm=%{x}\\u003cbr\\u003esum of accuracy=%{y}\\u003cextra\\u003e\\u003c\\u002fextra\\u003e\",\"legendgroup\":\"ANN\",\"marker\":{\"color\":\"#19d3f3\",\"pattern\":{\"shape\":\"\"}},\"name\":\"ANN\",\"offsetgroup\":\"ANN\",\"orientation\":\"v\",\"showlegend\":true,\"texttemplate\":\"%{value}\",\"x\":[\"ANN\"],\"xaxis\":\"x\",\"y\":[0.8598884914790658],\"yaxis\":\"y\",\"type\":\"histogram\"}],                        {\"template\":{\"data\":{\"histogram2dcontour\":[{\"type\":\"histogram2dcontour\",\"colorbar\":{\"outlinewidth\":0,\"ticks\":\"\"},\"colorscale\":[[0.0,\"#0d0887\"],[0.1111111111111111,\"#46039f\"],[0.2222222222222222,\"#7201a8\"],[0.3333333333333333,\"#9c179e\"],[0.4444444444444444,\"#bd3786\"],[0.5555555555555556,\"#d8576b\"],[0.6666666666666666,\"#ed7953\"],[0.7777777777777778,\"#fb9f3a\"],[0.8888888888888888,\"#fdca26\"],[1.0,\"#f0f921\"]]}],\"choropleth\":[{\"type\":\"choropleth\",\"colorbar\":{\"outlinewidth\":0,\"ticks\":\"\"}}],\"histogram2d\":[{\"type\":\"histogram2d\",\"colorbar\":{\"outlinewidth\":0,\"ticks\":\"\"},\"colorscale\":[[0.0,\"#0d0887\"],[0.1111111111111111,\"#46039f\"],[0.2222222222222222,\"#7201a8\"],[0.3333333333333333,\"#9c179e\"],[0.4444444444444444,\"#bd3786\"],[0.5555555555555556,\"#d8576b\"],[0.6666666666666666,\"#ed7953\"],[0.7777777777777778,\"#fb9f3a\"],[0.8888888888888888,\"#fdca26\"],[1.0,\"#f0f921\"]]}],\"heatmap\":[{\"type\":\"heatmap\",\"colorbar\":{\"outlinewidth\":0,\"ticks\":\"\"},\"colorscale\":[[0.0,\"#0d0887\"],[0.1111111111111111,\"#46039f\"],[0.2222222222222222,\"#7201a8\"],[0.3333333333333333,\"#9c179e\"],[0.4444444444444444,\"#bd3786\"],[0.5555555555555556,\"#d8576b\"],[0.6666666666666666,\"#ed7953\"],[0.7777777777777778,\"#fb9f3a\"],[0.8888888888888888,\"#fdca26\"],[1.0,\"#f0f921\"]]}],\"heatmapgl\":[{\"type\":\"heatmapgl\",\"colorbar\":{\"outlinewidth\":0,\"ticks\":\"\"},\"colorscale\":[[0.0,\"#0d0887\"],[0.1111111111111111,\"#46039f\"],[0.2222222222222222,\"#7201a8\"],[0.3333333333333333,\"#9c179e\"],[0.4444444444444444,\"#bd3786\"],[0.5555555555555556,\"#d8576b\"],[0.6666666666666666,\"#ed7953\"],[0.7777777777777778,\"#fb9f3a\"],[0.8888888888888888,\"#fdca26\"],[1.0,\"#f0f921\"]]}],\"contourcarpet\":[{\"type\":\"contourcarpet\",\"colorbar\":{\"outlinewidth\":0,\"ticks\":\"\"}}],\"contour\":[{\"type\":\"contour\",\"colorbar\":{\"outlinewidth\":0,\"ticks\":\"\"},\"colorscale\":[[0.0,\"#0d0887\"],[0.1111111111111111,\"#46039f\"],[0.2222222222222222,\"#7201a8\"],[0.3333333333333333,\"#9c179e\"],[0.4444444444444444,\"#bd3786\"],[0.5555555555555556,\"#d8576b\"],[0.6666666666666666,\"#ed7953\"],[0.7777777777777778,\"#fb9f3a\"],[0.8888888888888888,\"#fdca26\"],[1.0,\"#f0f921\"]]}],\"surface\":[{\"type\":\"surface\",\"colorbar\":{\"outlinewidth\":0,\"ticks\":\"\"},\"colorscale\":[[0.0,\"#0d0887\"],[0.1111111111111111,\"#46039f\"],[0.2222222222222222,\"#7201a8\"],[0.3333333333333333,\"#9c179e\"],[0.4444444444444444,\"#bd3786\"],[0.5555555555555556,\"#d8576b\"],[0.6666666666666666,\"#ed7953\"],[0.7777777777777778,\"#fb9f3a\"],[0.8888888888888888,\"#fdca26\"],[1.0,\"#f0f921\"]]}],\"mesh3d\":[{\"type\":\"mesh3d\",\"colorbar\":{\"outlinewidth\":0,\"ticks\":\"\"}}],\"scatter\":[{\"fillpattern\":{\"fillmode\":\"overlay\",\"size\":10,\"solidity\":0.2},\"type\":\"scatter\"}],\"parcoords\":[{\"type\":\"parcoords\",\"line\":{\"colorbar\":{\"outlinewidth\":0,\"ticks\":\"\"}}}],\"scatterpolargl\":[{\"type\":\"scatterpolargl\",\"marker\":{\"colorbar\":{\"outlinewidth\":0,\"ticks\":\"\"}}}],\"bar\":[{\"error_x\":{\"color\":\"#2a3f5f\"},\"error_y\":{\"color\":\"#2a3f5f\"},\"marker\":{\"line\":{\"color\":\"#E5ECF6\",\"width\":0.5},\"pattern\":{\"fillmode\":\"overlay\",\"size\":10,\"solidity\":0.2}},\"type\":\"bar\"}],\"scattergeo\":[{\"type\":\"scattergeo\",\"marker\":{\"colorbar\":{\"outlinewidth\":0,\"ticks\":\"\"}}}],\"scatterpolar\":[{\"type\":\"scatterpolar\",\"marker\":{\"colorbar\":{\"outlinewidth\":0,\"ticks\":\"\"}}}],\"histogram\":[{\"marker\":{\"pattern\":{\"fillmode\":\"overlay\",\"size\":10,\"solidity\":0.2}},\"type\":\"histogram\"}],\"scattergl\":[{\"type\":\"scattergl\",\"marker\":{\"colorbar\":{\"outlinewidth\":0,\"ticks\":\"\"}}}],\"scatter3d\":[{\"type\":\"scatter3d\",\"line\":{\"colorbar\":{\"outlinewidth\":0,\"ticks\":\"\"}},\"marker\":{\"colorbar\":{\"outlinewidth\":0,\"ticks\":\"\"}}}],\"scattermapbox\":[{\"type\":\"scattermapbox\",\"marker\":{\"colorbar\":{\"outlinewidth\":0,\"ticks\":\"\"}}}],\"scatterternary\":[{\"type\":\"scatterternary\",\"marker\":{\"colorbar\":{\"outlinewidth\":0,\"ticks\":\"\"}}}],\"scattercarpet\":[{\"type\":\"scattercarpet\",\"marker\":{\"colorbar\":{\"outlinewidth\":0,\"ticks\":\"\"}}}],\"carpet\":[{\"aaxis\":{\"endlinecolor\":\"#2a3f5f\",\"gridcolor\":\"white\",\"linecolor\":\"white\",\"minorgridcolor\":\"white\",\"startlinecolor\":\"#2a3f5f\"},\"baxis\":{\"endlinecolor\":\"#2a3f5f\",\"gridcolor\":\"white\",\"linecolor\":\"white\",\"minorgridcolor\":\"white\",\"startlinecolor\":\"#2a3f5f\"},\"type\":\"carpet\"}],\"table\":[{\"cells\":{\"fill\":{\"color\":\"#EBF0F8\"},\"line\":{\"color\":\"white\"}},\"header\":{\"fill\":{\"color\":\"#C8D4E3\"},\"line\":{\"color\":\"white\"}},\"type\":\"table\"}],\"barpolar\":[{\"marker\":{\"line\":{\"color\":\"#E5ECF6\",\"width\":0.5},\"pattern\":{\"fillmode\":\"overlay\",\"size\":10,\"solidity\":0.2}},\"type\":\"barpolar\"}],\"pie\":[{\"automargin\":true,\"type\":\"pie\"}]},\"layout\":{\"autotypenumbers\":\"strict\",\"colorway\":[\"#636efa\",\"#EF553B\",\"#00cc96\",\"#ab63fa\",\"#FFA15A\",\"#19d3f3\",\"#FF6692\",\"#B6E880\",\"#FF97FF\",\"#FECB52\"],\"font\":{\"color\":\"#2a3f5f\"},\"hovermode\":\"closest\",\"hoverlabel\":{\"align\":\"left\"},\"paper_bgcolor\":\"white\",\"plot_bgcolor\":\"#E5ECF6\",\"polar\":{\"bgcolor\":\"#E5ECF6\",\"angularaxis\":{\"gridcolor\":\"white\",\"linecolor\":\"white\",\"ticks\":\"\"},\"radialaxis\":{\"gridcolor\":\"white\",\"linecolor\":\"white\",\"ticks\":\"\"}},\"ternary\":{\"bgcolor\":\"#E5ECF6\",\"aaxis\":{\"gridcolor\":\"white\",\"linecolor\":\"white\",\"ticks\":\"\"},\"baxis\":{\"gridcolor\":\"white\",\"linecolor\":\"white\",\"ticks\":\"\"},\"caxis\":{\"gridcolor\":\"white\",\"linecolor\":\"white\",\"ticks\":\"\"}},\"coloraxis\":{\"colorbar\":{\"outlinewidth\":0,\"ticks\":\"\"}},\"colorscale\":{\"sequential\":[[0.0,\"#0d0887\"],[0.1111111111111111,\"#46039f\"],[0.2222222222222222,\"#7201a8\"],[0.3333333333333333,\"#9c179e\"],[0.4444444444444444,\"#bd3786\"],[0.5555555555555556,\"#d8576b\"],[0.6666666666666666,\"#ed7953\"],[0.7777777777777778,\"#fb9f3a\"],[0.8888888888888888,\"#fdca26\"],[1.0,\"#f0f921\"]],\"sequentialminus\":[[0.0,\"#0d0887\"],[0.1111111111111111,\"#46039f\"],[0.2222222222222222,\"#7201a8\"],[0.3333333333333333,\"#9c179e\"],[0.4444444444444444,\"#bd3786\"],[0.5555555555555556,\"#d8576b\"],[0.6666666666666666,\"#ed7953\"],[0.7777777777777778,\"#fb9f3a\"],[0.8888888888888888,\"#fdca26\"],[1.0,\"#f0f921\"]],\"diverging\":[[0,\"#8e0152\"],[0.1,\"#c51b7d\"],[0.2,\"#de77ae\"],[0.3,\"#f1b6da\"],[0.4,\"#fde0ef\"],[0.5,\"#f7f7f7\"],[0.6,\"#e6f5d0\"],[0.7,\"#b8e186\"],[0.8,\"#7fbc41\"],[0.9,\"#4d9221\"],[1,\"#276419\"]]},\"xaxis\":{\"gridcolor\":\"white\",\"linecolor\":\"white\",\"ticks\":\"\",\"title\":{\"standoff\":15},\"zerolinecolor\":\"white\",\"automargin\":true,\"zerolinewidth\":2},\"yaxis\":{\"gridcolor\":\"white\",\"linecolor\":\"white\",\"ticks\":\"\",\"title\":{\"standoff\":15},\"zerolinecolor\":\"white\",\"automargin\":true,\"zerolinewidth\":2},\"scene\":{\"xaxis\":{\"backgroundcolor\":\"#E5ECF6\",\"gridcolor\":\"white\",\"linecolor\":\"white\",\"showbackground\":true,\"ticks\":\"\",\"zerolinecolor\":\"white\",\"gridwidth\":2},\"yaxis\":{\"backgroundcolor\":\"#E5ECF6\",\"gridcolor\":\"white\",\"linecolor\":\"white\",\"showbackground\":true,\"ticks\":\"\",\"zerolinecolor\":\"white\",\"gridwidth\":2},\"zaxis\":{\"backgroundcolor\":\"#E5ECF6\",\"gridcolor\":\"white\",\"linecolor\":\"white\",\"showbackground\":true,\"ticks\":\"\",\"zerolinecolor\":\"white\",\"gridwidth\":2}},\"shapedefaults\":{\"line\":{\"color\":\"#2a3f5f\"}},\"annotationdefaults\":{\"arrowcolor\":\"#2a3f5f\",\"arrowhead\":0,\"arrowwidth\":1},\"geo\":{\"bgcolor\":\"white\",\"landcolor\":\"#E5ECF6\",\"subunitcolor\":\"white\",\"showland\":true,\"showlakes\":true,\"lakecolor\":\"white\"},\"title\":{\"x\":0.05},\"mapbox\":{\"style\":\"light\"}}},\"xaxis\":{\"anchor\":\"y\",\"domain\":[0.0,1.0],\"title\":{\"text\":\"Algorithm\"},\"categoryorder\":\"total descending\",\"categoryarray\":[\"SVM\",\"NB\",\"KNN\",\"dt\",\"LR\",\"ANN\"]},\"yaxis\":{\"anchor\":\"x\",\"domain\":[0.0,1.0],\"title\":{\"text\":\"sum of accuracy\"}},\"legend\":{\"title\":{\"text\":\"Algorithm\"},\"tracegroupgap\":0},\"title\":{\"text\":\"Accurcy of different classification models\"},\"barmode\":\"relative\"},                        {\"responsive\": true}                    ).then(function(){\n",
              "                            \n",
              "var gd = document.getElementById('b4504486-45aa-419c-a4a9-bf9954086caa');\n",
              "var x = new MutationObserver(function (mutations, observer) {{\n",
              "        var display = window.getComputedStyle(gd).display;\n",
              "        if (!display || display === 'none') {{\n",
              "            console.log([gd, 'removed!']);\n",
              "            Plotly.purge(gd);\n",
              "            observer.disconnect();\n",
              "        }}\n",
              "}});\n",
              "\n",
              "// Listen for the removal of the full notebook cells\n",
              "var notebookContainer = gd.closest('#notebook-container');\n",
              "if (notebookContainer) {{\n",
              "    x.observe(notebookContainer, {childList: true});\n",
              "}}\n",
              "\n",
              "// Listen for the clearing of the current output cell\n",
              "var outputEl = gd.closest('.output');\n",
              "if (outputEl) {{\n",
              "    x.observe(outputEl, {childList: true});\n",
              "}}\n",
              "\n",
              "                        })                };                            </script>        </div>\n",
              "</body>\n",
              "</html>"
            ]
          },
          "metadata": {}
        }
      ],
      "source": [
        "accuracy = pd.DataFrame({'Algorithm': names,'accuracy': m })\n",
        "fig = px.histogram(accuracy, x='Algorithm',y=\"accuracy\",color='Algorithm',text_auto=True,\n",
        "                   title='Accurcy of different classification models').update_xaxes(categoryorder='total descending')\n",
        "fig.show()\n"
      ]
    },
    {
      "cell_type": "markdown",
      "metadata": {
        "id": "YsgYcQgetOak"
      },
      "source": [
        "# 11-Best Accuracy of Machine learning Algorithm is Naive Bayes for my dataset."
      ]
    },
    {
      "cell_type": "code",
      "execution_count": 34,
      "metadata": {
        "colab": {
          "base_uri": "https://localhost:8080/"
        },
        "id": "bj2NtgvtouaB",
        "outputId": "9977cf9d-0b8f-4e2a-96ea-b3cb3acbf8e3"
      },
      "outputs": [
        {
          "output_type": "stream",
          "name": "stdout",
          "text": [
            "accuracy_score : 0.8633257403189066\n",
            "MAE : 0.3917995444191344\n"
          ]
        }
      ],
      "source": [
        "X_train,X_test,Y_train,Y_test = train_test_split(x,y, random_state = 22, test_size = 0.3)\n",
        "nb = GaussianNB()\n",
        "nb.fit(X_train,Y_train)\n",
        "predictions = nb.predict(X_test)\n",
        "# accuracy of svm(evaluate accuracy)\n",
        "from sklearn.metrics import accuracy_score\n",
        "from sklearn.metrics import mean_absolute_error,r2_score,mean_squared_error\n",
        "print(\"accuracy_score :\",accuracy_score(Y_test,predictions))\n",
        "print(\"MAE :\", mean_absolute_error(Y_test,predictions))"
      ]
    },
    {
      "cell_type": "markdown",
      "metadata": {
        "id": "lHX32Q1YfUgT"
      },
      "source": [
        "# 12-Classification report and confusion_matrix"
      ]
    },
    {
      "cell_type": "code",
      "execution_count": 35,
      "metadata": {
        "colab": {
          "base_uri": "https://localhost:8080/"
        },
        "id": "WiUHM7h_PSjy",
        "outputId": "e977996f-60e5-48fd-c771-2fd7ca40f80f"
      },
      "outputs": [
        {
          "output_type": "stream",
          "name": "stdout",
          "text": [
            "\n",
            "\n",
            "Precision, Recall, F1\n",
            "\n",
            "\n",
            "              precision    recall  f1-score   support\n",
            "\n",
            "           0       0.33      0.13      0.19        15\n",
            "           1       0.00      0.00      0.00        25\n",
            "           2       0.98      0.92      0.95       186\n",
            "           3       0.62      0.56      0.59         9\n",
            "           4       0.80      0.98      0.88       204\n",
            "\n",
            "    accuracy                           0.86       439\n",
            "   macro avg       0.55      0.52      0.52       439\n",
            "weighted avg       0.81      0.86      0.83       439\n",
            "\n",
            "\n",
            "\n"
          ]
        }
      ],
      "source": [
        "from sklearn.metrics import classification_report, confusion_matrix\n",
        "\n",
        "\n",
        "print('\\n')\n",
        "print(\"Precision, Recall, F1\")\n",
        "print('\\n')\n",
        "CR=classification_report(Y_test,predictions)\n",
        "print(CR)\n",
        "print('\\n')"
      ]
    },
    {
      "cell_type": "code",
      "execution_count": 36,
      "metadata": {
        "colab": {
          "base_uri": "https://localhost:8080/"
        },
        "id": "ewxpmFQlPSvo",
        "outputId": "09b6304f-499f-4f62-c634-2d8ff37cb853"
      },
      "outputs": [
        {
          "output_type": "stream",
          "name": "stdout",
          "text": [
            "\n",
            "\n",
            "Confusion Matrix\n",
            "\n",
            "\n",
            "[[  2   0   0   0  13]\n",
            " [  0   0   0   0  25]\n",
            " [  0   0 172   3  11]\n",
            " [  0   0   4   5   0]\n",
            " [  4   0   0   0 200]]\n"
          ]
        }
      ],
      "source": [
        "\n",
        "print('\\n')\n",
        "print(\"Confusion Matrix\")\n",
        "print('\\n')\n",
        "CM=confusion_matrix(Y_test,predictions)\n",
        "print(CM)"
      ]
    },
    {
      "cell_type": "markdown",
      "metadata": {
        "id": "XLFJ5cl5z_xW"
      },
      "source": [
        "# 13-Predict new data entry"
      ]
    },
    {
      "cell_type": "code",
      "execution_count": 37,
      "metadata": {
        "colab": {
          "base_uri": "https://localhost:8080/"
        },
        "id": "vcPDfdKWz6TF",
        "outputId": "4a1a75d1-66d3-4d9d-c8c2-ad08847d68c1"
      },
      "outputs": [
        {
          "output_type": "stream",
          "name": "stdout",
          "text": [
            "weather Prediction is: ['sun']\n"
          ]
        }
      ],
      "source": [
        "# entry shape ['precipitation', 'temp_max','temp_min','wind']\n",
        "pred=nb.predict([[0,10,9,2]])\n",
        "\n",
        "Interest_prediction=labelencoder.inverse_transform(pred)\n",
        "\n",
        "print(\"weather Prediction is:\",Interest_prediction)"
      ]
    },
    {
      "cell_type": "code",
      "execution_count": 37,
      "metadata": {
        "id": "KQIVnyT49-no"
      },
      "outputs": [],
      "source": []
    }
  ],
  "metadata": {
    "colab": {
      "provenance": []
    },
    "kernelspec": {
      "display_name": "Python 3 (ipykernel)",
      "language": "python",
      "name": "python3"
    },
    "language_info": {
      "codemirror_mode": {
        "name": "ipython",
        "version": 3
      },
      "file_extension": ".py",
      "mimetype": "text/x-python",
      "name": "python",
      "nbconvert_exporter": "python",
      "pygments_lexer": "ipython3",
      "version": "3.9.12"
    }
  },
  "nbformat": 4,
  "nbformat_minor": 0
}